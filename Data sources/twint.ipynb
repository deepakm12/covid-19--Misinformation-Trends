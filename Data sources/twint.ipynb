{
  "nbformat": 4,
  "nbformat_minor": 0,
  "metadata": {
    "colab": {
      "name": "twint.ipynb",
      "provenance": []
    },
    "kernelspec": {
      "name": "python3",
      "display_name": "Python 3"
    },
    "language_info": {
      "name": "python"
    }
  },
  "cells": [
    {
      "cell_type": "code",
      "execution_count": null,
      "metadata": {
        "id": "RTKixcxxlg0l"
      },
      "outputs": [],
      "source": [
        ""
      ]
    },
    {
      "cell_type": "markdown",
      "source": [
        "#Twint data"
      ],
      "metadata": {
        "id": "n22vgmLfk0Kz"
      }
    },
    {
      "cell_type": "code",
      "source": [
        "!pip install twint"
      ],
      "metadata": {
        "colab": {
          "base_uri": "https://localhost:8080/"
        },
        "id": "ZMtlvLz7k34V",
        "outputId": "da4e4196-d0c0-4637-fbd5-83bb36a6fb7f"
      },
      "execution_count": null,
      "outputs": [
        {
          "output_type": "stream",
          "name": "stdout",
          "text": [
            "Requirement already satisfied: twint in ./src/twint (2.1.21)\n",
            "Requirement already satisfied: aiohttp in /usr/local/lib/python3.7/dist-packages (from twint) (3.8.1)\n",
            "Requirement already satisfied: aiodns in /usr/local/lib/python3.7/dist-packages (from twint) (3.0.0)\n",
            "Requirement already satisfied: beautifulsoup4 in /usr/local/lib/python3.7/dist-packages (from twint) (4.6.3)\n",
            "Requirement already satisfied: cchardet in /usr/local/lib/python3.7/dist-packages (from twint) (2.1.7)\n",
            "Requirement already satisfied: dataclasses in /usr/local/lib/python3.7/dist-packages (from twint) (0.6)\n",
            "Requirement already satisfied: elasticsearch in /usr/local/lib/python3.7/dist-packages (from twint) (8.0.0)\n",
            "Requirement already satisfied: pysocks in /usr/local/lib/python3.7/dist-packages (from twint) (1.7.1)\n",
            "Requirement already satisfied: pandas in /usr/local/lib/python3.7/dist-packages (from twint) (1.3.5)\n",
            "Requirement already satisfied: aiohttp_socks in /usr/local/lib/python3.7/dist-packages (from twint) (0.7.1)\n",
            "Requirement already satisfied: schedule in /usr/local/lib/python3.7/dist-packages (from twint) (1.1.0)\n",
            "Requirement already satisfied: geopy in /usr/local/lib/python3.7/dist-packages (from twint) (1.17.0)\n",
            "Requirement already satisfied: fake-useragent in /usr/local/lib/python3.7/dist-packages (from twint) (0.1.11)\n",
            "Requirement already satisfied: googletransx in /usr/local/lib/python3.7/dist-packages (from twint) (2.4.2)\n",
            "Requirement already satisfied: pycares>=4.0.0 in /usr/local/lib/python3.7/dist-packages (from aiodns->twint) (4.1.2)\n",
            "Requirement already satisfied: cffi>=1.5.0 in /usr/local/lib/python3.7/dist-packages (from pycares>=4.0.0->aiodns->twint) (1.15.0)\n",
            "Requirement already satisfied: pycparser in /usr/local/lib/python3.7/dist-packages (from cffi>=1.5.0->pycares>=4.0.0->aiodns->twint) (2.21)\n",
            "Requirement already satisfied: async-timeout<5.0,>=4.0.0a3 in /usr/local/lib/python3.7/dist-packages (from aiohttp->twint) (4.0.2)\n",
            "Requirement already satisfied: yarl<2.0,>=1.0 in /usr/local/lib/python3.7/dist-packages (from aiohttp->twint) (1.7.2)\n",
            "Requirement already satisfied: aiosignal>=1.1.2 in /usr/local/lib/python3.7/dist-packages (from aiohttp->twint) (1.2.0)\n",
            "Requirement already satisfied: frozenlist>=1.1.1 in /usr/local/lib/python3.7/dist-packages (from aiohttp->twint) (1.3.0)\n",
            "Requirement already satisfied: multidict<7.0,>=4.5 in /usr/local/lib/python3.7/dist-packages (from aiohttp->twint) (6.0.2)\n",
            "Requirement already satisfied: charset-normalizer<3.0,>=2.0 in /usr/local/lib/python3.7/dist-packages (from aiohttp->twint) (2.0.11)\n",
            "Requirement already satisfied: attrs>=17.3.0 in /usr/local/lib/python3.7/dist-packages (from aiohttp->twint) (21.4.0)\n",
            "Requirement already satisfied: typing-extensions>=3.7.4 in /usr/local/lib/python3.7/dist-packages (from aiohttp->twint) (3.10.0.2)\n",
            "Requirement already satisfied: asynctest==0.13.0 in /usr/local/lib/python3.7/dist-packages (from aiohttp->twint) (0.13.0)\n",
            "Requirement already satisfied: idna>=2.0 in /usr/local/lib/python3.7/dist-packages (from yarl<2.0,>=1.0->aiohttp->twint) (2.10)\n",
            "Requirement already satisfied: python-socks[asyncio]<3.0.0,>=2.0.0 in /usr/local/lib/python3.7/dist-packages (from aiohttp_socks->twint) (2.0.3)\n",
            "Requirement already satisfied: elastic-transport<9,>=8 in /usr/local/lib/python3.7/dist-packages (from elasticsearch->twint) (8.0.1)\n",
            "Requirement already satisfied: certifi in /usr/local/lib/python3.7/dist-packages (from elastic-transport<9,>=8->elasticsearch->twint) (2021.10.8)\n",
            "Requirement already satisfied: urllib3<2,>=1.26.2 in /usr/local/lib/python3.7/dist-packages (from elastic-transport<9,>=8->elasticsearch->twint) (1.26.8)\n",
            "Requirement already satisfied: geographiclib<2,>=1.49 in /usr/local/lib/python3.7/dist-packages (from geopy->twint) (1.52)\n",
            "Requirement already satisfied: requests in /usr/local/lib/python3.7/dist-packages (from googletransx->twint) (2.27.1)\n",
            "Requirement already satisfied: python-dateutil>=2.7.3 in /usr/local/lib/python3.7/dist-packages (from pandas->twint) (2.8.2)\n",
            "Requirement already satisfied: pytz>=2017.3 in /usr/local/lib/python3.7/dist-packages (from pandas->twint) (2018.9)\n",
            "Requirement already satisfied: numpy>=1.17.3 in /usr/local/lib/python3.7/dist-packages (from pandas->twint) (1.21.5)\n",
            "Requirement already satisfied: six>=1.5 in /usr/local/lib/python3.7/dist-packages (from python-dateutil>=2.7.3->pandas->twint) (1.15.0)\n"
          ]
        }
      ]
    },
    {
      "cell_type": "code",
      "source": [
        "# git clone --depth=1 https://github.com/twintproject/twint.git\n",
        "# cd twint\n",
        "# pip3 install . -r requirements.txt"
      ],
      "metadata": {
        "colab": {
          "base_uri": "https://localhost:8080/",
          "height": 131
        },
        "id": "lH3dqiN_BkKP",
        "outputId": "a37c3239-e489-4ea7-b483-a540262961d0"
      },
      "execution_count": null,
      "outputs": [
        {
          "output_type": "error",
          "ename": "SyntaxError",
          "evalue": "ignored",
          "traceback": [
            "\u001b[0;36m  File \u001b[0;32m\"<ipython-input-3-110103d42bdf>\"\u001b[0;36m, line \u001b[0;32m1\u001b[0m\n\u001b[0;31m    git clone --depth=1 https://github.com/twintproject/twint.git\u001b[0m\n\u001b[0m            ^\u001b[0m\n\u001b[0;31mSyntaxError\u001b[0m\u001b[0;31m:\u001b[0m invalid syntax\n"
          ]
        }
      ]
    },
    {
      "cell_type": "code",
      "source": [
        "!pip3 install --upgrade -e git+https://github.com/twintproject/twint.git@origin/master#egg=twint"
      ],
      "metadata": {
        "colab": {
          "base_uri": "https://localhost:8080/",
          "height": 1000
        },
        "id": "NRXSUVEtlIMQ",
        "outputId": "3ab8776b-0379-4c65-a35d-822747241257"
      },
      "execution_count": null,
      "outputs": [
        {
          "output_type": "stream",
          "name": "stdout",
          "text": [
            "Obtaining twint from git+https://github.com/twintproject/twint.git@origin/master#egg=twint\n",
            "  Cloning https://github.com/twintproject/twint.git (to revision origin/master) to ./src/twint\n",
            "  Running command git clone -q https://github.com/twintproject/twint.git /content/src/twint\n",
            "\u001b[33m  WARNING: Did not find branch or tag 'origin/master', assuming revision or ref.\u001b[0m\n",
            "  Running command git checkout -q origin/master\n",
            "Collecting aiohttp\n",
            "  Downloading aiohttp-3.8.1-cp37-cp37m-manylinux_2_5_x86_64.manylinux1_x86_64.manylinux_2_12_x86_64.manylinux2010_x86_64.whl (1.1 MB)\n",
            "\u001b[K     |████████████████████████████████| 1.1 MB 4.3 MB/s \n",
            "\u001b[?25hCollecting aiodns\n",
            "  Downloading aiodns-3.0.0-py3-none-any.whl (5.0 kB)\n",
            "Requirement already satisfied: beautifulsoup4 in /usr/local/lib/python3.7/dist-packages (from twint) (4.6.3)\n",
            "Collecting cchardet\n",
            "  Downloading cchardet-2.1.7-cp37-cp37m-manylinux2010_x86_64.whl (263 kB)\n",
            "\u001b[K     |████████████████████████████████| 263 kB 49.5 MB/s \n",
            "\u001b[?25hCollecting dataclasses\n",
            "  Downloading dataclasses-0.6-py3-none-any.whl (14 kB)\n",
            "Collecting elasticsearch\n",
            "  Downloading elasticsearch-8.0.0-py3-none-any.whl (369 kB)\n",
            "\u001b[K     |████████████████████████████████| 369 kB 61.5 MB/s \n",
            "\u001b[?25hRequirement already satisfied: pysocks in /usr/local/lib/python3.7/dist-packages (from twint) (1.7.1)\n",
            "Requirement already satisfied: pandas in /usr/local/lib/python3.7/dist-packages (from twint) (1.3.5)\n",
            "Collecting aiohttp_socks\n",
            "  Downloading aiohttp_socks-0.7.1-py3-none-any.whl (9.3 kB)\n",
            "Collecting schedule\n",
            "  Downloading schedule-1.1.0-py2.py3-none-any.whl (10 kB)\n",
            "Requirement already satisfied: geopy in /usr/local/lib/python3.7/dist-packages (from twint) (1.17.0)\n",
            "Collecting fake-useragent\n",
            "  Downloading fake-useragent-0.1.11.tar.gz (13 kB)\n",
            "Collecting googletransx\n",
            "  Downloading googletransx-2.4.2.tar.gz (13 kB)\n",
            "Collecting pycares>=4.0.0\n",
            "  Downloading pycares-4.1.2-cp37-cp37m-manylinux_2_5_x86_64.manylinux1_x86_64.manylinux_2_12_x86_64.manylinux2010_x86_64.whl (291 kB)\n",
            "\u001b[K     |████████████████████████████████| 291 kB 64.5 MB/s \n",
            "\u001b[?25hRequirement already satisfied: cffi>=1.5.0 in /usr/local/lib/python3.7/dist-packages (from pycares>=4.0.0->aiodns->twint) (1.15.0)\n",
            "Requirement already satisfied: pycparser in /usr/local/lib/python3.7/dist-packages (from cffi>=1.5.0->pycares>=4.0.0->aiodns->twint) (2.21)\n",
            "Collecting aiosignal>=1.1.2\n",
            "  Downloading aiosignal-1.2.0-py3-none-any.whl (8.2 kB)\n",
            "Collecting async-timeout<5.0,>=4.0.0a3\n",
            "  Downloading async_timeout-4.0.2-py3-none-any.whl (5.8 kB)\n",
            "Requirement already satisfied: attrs>=17.3.0 in /usr/local/lib/python3.7/dist-packages (from aiohttp->twint) (21.4.0)\n",
            "Requirement already satisfied: charset-normalizer<3.0,>=2.0 in /usr/local/lib/python3.7/dist-packages (from aiohttp->twint) (2.0.11)\n",
            "Requirement already satisfied: typing-extensions>=3.7.4 in /usr/local/lib/python3.7/dist-packages (from aiohttp->twint) (3.10.0.2)\n",
            "Collecting multidict<7.0,>=4.5\n",
            "  Downloading multidict-6.0.2-cp37-cp37m-manylinux_2_17_x86_64.manylinux2014_x86_64.whl (94 kB)\n",
            "\u001b[K     |████████████████████████████████| 94 kB 3.0 MB/s \n",
            "\u001b[?25hCollecting asynctest==0.13.0\n",
            "  Downloading asynctest-0.13.0-py3-none-any.whl (26 kB)\n",
            "Collecting frozenlist>=1.1.1\n",
            "  Downloading frozenlist-1.3.0-cp37-cp37m-manylinux_2_5_x86_64.manylinux1_x86_64.manylinux_2_17_x86_64.manylinux2014_x86_64.whl (144 kB)\n",
            "\u001b[K     |████████████████████████████████| 144 kB 67.0 MB/s \n",
            "\u001b[?25hCollecting yarl<2.0,>=1.0\n",
            "  Downloading yarl-1.7.2-cp37-cp37m-manylinux_2_5_x86_64.manylinux1_x86_64.manylinux_2_12_x86_64.manylinux2010_x86_64.whl (271 kB)\n",
            "\u001b[K     |████████████████████████████████| 271 kB 75.0 MB/s \n",
            "\u001b[?25hRequirement already satisfied: idna>=2.0 in /usr/local/lib/python3.7/dist-packages (from yarl<2.0,>=1.0->aiohttp->twint) (2.10)\n",
            "Collecting python-socks[asyncio]<3.0.0,>=2.0.0\n",
            "  Downloading python_socks-2.0.3-py3-none-any.whl (49 kB)\n",
            "\u001b[K     |████████████████████████████████| 49 kB 5.7 MB/s \n",
            "\u001b[?25hCollecting elastic-transport<9,>=8\n",
            "  Downloading elastic_transport-8.0.1-py3-none-any.whl (57 kB)\n",
            "\u001b[K     |████████████████████████████████| 57 kB 5.5 MB/s \n",
            "\u001b[?25hCollecting urllib3<2,>=1.26.2\n",
            "  Downloading urllib3-1.26.8-py2.py3-none-any.whl (138 kB)\n",
            "\u001b[K     |████████████████████████████████| 138 kB 65.5 MB/s \n",
            "\u001b[?25hRequirement already satisfied: certifi in /usr/local/lib/python3.7/dist-packages (from elastic-transport<9,>=8->elasticsearch->twint) (2021.10.8)\n",
            "Requirement already satisfied: geographiclib<2,>=1.49 in /usr/local/lib/python3.7/dist-packages (from geopy->twint) (1.52)\n",
            "Requirement already satisfied: requests in /usr/local/lib/python3.7/dist-packages (from googletransx->twint) (2.23.0)\n",
            "Requirement already satisfied: pytz>=2017.3 in /usr/local/lib/python3.7/dist-packages (from pandas->twint) (2018.9)\n",
            "Requirement already satisfied: numpy>=1.17.3 in /usr/local/lib/python3.7/dist-packages (from pandas->twint) (1.21.5)\n",
            "Requirement already satisfied: python-dateutil>=2.7.3 in /usr/local/lib/python3.7/dist-packages (from pandas->twint) (2.8.2)\n",
            "Requirement already satisfied: six>=1.5 in /usr/local/lib/python3.7/dist-packages (from python-dateutil>=2.7.3->pandas->twint) (1.15.0)\n",
            "Collecting requests\n",
            "  Downloading requests-2.27.1-py2.py3-none-any.whl (63 kB)\n",
            "\u001b[K     |████████████████████████████████| 63 kB 1.1 MB/s \n",
            "\u001b[?25hBuilding wheels for collected packages: fake-useragent, googletransx\n",
            "  Building wheel for fake-useragent (setup.py) ... \u001b[?25l\u001b[?25hdone\n",
            "  Created wheel for fake-useragent: filename=fake_useragent-0.1.11-py3-none-any.whl size=13502 sha256=168d61da7b0e737a3b49a567d0529ad93ca47f58efe2a6603c4065a9a0744601\n",
            "  Stored in directory: /root/.cache/pip/wheels/ed/f7/62/50ab6c9a0b5567267ab76a9daa9d06315704209b2c5d032031\n",
            "  Building wheel for googletransx (setup.py) ... \u001b[?25l\u001b[?25hdone\n",
            "  Created wheel for googletransx: filename=googletransx-2.4.2-py3-none-any.whl size=15968 sha256=f545f5cd536c54095511965bcecff3534d3835cf8f2615cab569e35e0fd76799\n",
            "  Stored in directory: /root/.cache/pip/wheels/66/d5/b1/31104b338f7fd45aa8f7d22587765db06773b13df48a89735f\n",
            "Successfully built fake-useragent googletransx\n",
            "Installing collected packages: multidict, frozenlist, yarl, urllib3, python-socks, asynctest, async-timeout, aiosignal, requests, pycares, elastic-transport, aiohttp, schedule, googletransx, fake-useragent, elasticsearch, dataclasses, cchardet, aiohttp-socks, aiodns, twint\n",
            "  Attempting uninstall: urllib3\n",
            "    Found existing installation: urllib3 1.24.3\n",
            "    Uninstalling urllib3-1.24.3:\n",
            "      Successfully uninstalled urllib3-1.24.3\n",
            "  Attempting uninstall: requests\n",
            "    Found existing installation: requests 2.23.0\n",
            "    Uninstalling requests-2.23.0:\n",
            "      Successfully uninstalled requests-2.23.0\n",
            "  Running setup.py develop for twint\n",
            "\u001b[31mERROR: pip's dependency resolver does not currently take into account all the packages that are installed. This behaviour is the source of the following dependency conflicts.\n",
            "google-colab 1.0.0 requires requests~=2.23.0, but you have requests 2.27.1 which is incompatible.\n",
            "datascience 0.10.6 requires folium==0.2.1, but you have folium 0.8.3 which is incompatible.\u001b[0m\n",
            "Successfully installed aiodns-3.0.0 aiohttp-3.8.1 aiohttp-socks-0.7.1 aiosignal-1.2.0 async-timeout-4.0.2 asynctest-0.13.0 cchardet-2.1.7 dataclasses-0.6 elastic-transport-8.0.1 elasticsearch-8.0.0 fake-useragent-0.1.11 frozenlist-1.3.0 googletransx-2.4.2 multidict-6.0.2 pycares-4.1.2 python-socks-2.0.3 requests-2.27.1 schedule-1.1.0 twint-2.1.21 urllib3-1.26.8 yarl-1.7.2\n"
          ]
        },
        {
          "output_type": "display_data",
          "data": {
            "application/vnd.colab-display-data+json": {
              "pip_warning": {
                "packages": [
                  "dataclasses"
                ]
              }
            }
          },
          "metadata": {}
        }
      ]
    },
    {
      "cell_type": "code",
      "source": [
        "# pip3 install --user --upgrade git+https://github.com/twintproject/twint.git@origin/master#egg=twint"
      ],
      "metadata": {
        "colab": {
          "base_uri": "https://localhost:8080/",
          "height": 131
        },
        "id": "TMAf4RKTCDPq",
        "outputId": "3c1b459a-2aa5-4737-f891-f888fdb7a651"
      },
      "execution_count": null,
      "outputs": [
        {
          "output_type": "error",
          "ename": "SyntaxError",
          "evalue": "ignored",
          "traceback": [
            "\u001b[0;36m  File \u001b[0;32m\"<ipython-input-6-8a1bd58b3ba5>\"\u001b[0;36m, line \u001b[0;32m1\u001b[0m\n\u001b[0;31m    pip3 install --user --upgrade git+https://github.com/twintproject/twint.git@origin/master#egg=twint\u001b[0m\n\u001b[0m               ^\u001b[0m\n\u001b[0;31mSyntaxError\u001b[0m\u001b[0;31m:\u001b[0m invalid syntax\n"
          ]
        }
      ]
    },
    {
      "cell_type": "code",
      "source": [
        "import twint\n",
        "import nest_asyncio\n",
        "nest_asyncio.apply()"
      ],
      "metadata": {
        "id": "8qokPyBxk-OF"
      },
      "execution_count": null,
      "outputs": []
    },
    {
      "cell_type": "code",
      "source": [
        "c = twint.Config()\n",
        "c.Search = \"covid\"\n",
        "c.Store_json = True\n",
        "c.Output = \"/content/drive/MyDrive/Capstone/data/tweety.json\"\n",
        "twint.run.Search(c)"
      ],
      "metadata": {
        "id": "m9kOEZUllAxF",
        "colab": {
          "base_uri": "https://localhost:8080/",
          "height": 1000
        },
        "outputId": "a329f6bf-9f10-45f7-e0c7-b6295ca8b341"
      },
      "execution_count": null,
      "outputs": [
        {
          "output_type": "stream",
          "name": "stdout",
          "text": [
            "1493970801086844934 2022-02-16 15:29:30 +0000 <Georgeberger> 2,360 children in hospital right now with covid, #Folkhälsomyndigheten! Do you have a conscience? To whom do you feel responsible? Why exactly do you refuse them the vaccines? I hear you have \"underlag\" for this. Please send a link.\n",
            "1493970799220314112 2022-02-16 15:29:29 +0000 <oxobeppo> @disclosetv Here’s my almost-famous song about those handy-dandy Covid passports. Use CC to sing along with Covid Passport Rag.   https://t.co/UqS61Cxkno\n",
            "1493970798977105923 2022-02-16 15:29:29 +0000 <vdpnv> Тепер і в мене covid, 2 роки протримався\n",
            "1493970798616317956 2022-02-16 15:29:29 +0000 <jazstay5> el covid me ama\n",
            "1493970797542748161 2022-02-16 15:29:29 +0000 <OPapaova> @DrMocci Algo que nunca vamos a saber es cual hubiese sido el resultado de no tener aquellas restricciones el 1er año covid.\n",
            "1493970797253300233 2022-02-16 15:29:29 +0000 <MarceeDemczuck> Não tô grávida e não tenho covid. Como coisa estragada só pode, não aguento mais vomitar 🤢😫\n",
            "1493970797207203840 2022-02-16 15:29:29 +0000 <MsMetalmama> @Sillyshib Does Covid know that 🤣\n",
            "1493970797085528074 2022-02-16 15:29:29 +0000 <lizzz_marieee__> how sweet, someone gave me covid as a bday//valentines day present 🤦🏼‍♀️😭\n",
            "1493970795554607104 2022-02-16 15:29:28 +0000 <JonMur78> About 1-in-3 COVID-19 patients developed a new symptom months later.   https://t.co/COrDp1aMk1\n",
            "1493970795332263941 2022-02-16 15:29:28 +0000 <Ally_SMMiller> Scotland to offer Covid jab to all children aged five to 11, says Sturgeon  https://t.co/ys5hWt6k9M\n",
            "1493970793272799236 2022-02-16 15:29:28 +0000 <RIIC_ED> The RI is partnering with @AUCDNews and MT organizations to share COVID-19 information.  Know someone who is still deciding if they want to get the COVID-19 shot? Check out the video below showing how you can support someone who is unsure. #SleeveUp   https://t.co/M2SJpcoQdo\n",
            "1493970790915592193 2022-02-16 15:29:27 +0000 <mimiekku> @JeonLife93 No... :( This covid is 😑  I hope you recover soon from this 🥺🥺 Drink lots of water and eat a lot🥺🥺you will be all fine soon 🥺🥺I'll pray for you and your daughter's quick recovery. Take care of yourself 🥺💜💜\n",
            "1493970789594546182 2022-02-16 15:29:27 +0000 <julesblanchett> switzerland just lifted all covid measures except for masks in public transport - as much as I want “freedom”, I am a little overwhelmed by this I must admit 🥲\n",
            "1493970789250576384 2022-02-16 15:29:27 +0000 <marsaye177> @CarlosLoret Carlos se tiene que llevar a un juicio internacional a López obrador por todo el daño que le ha hecho al país, principalmente por indolente ante los muertos por el COVID.\n",
            "1493970789242384384 2022-02-16 15:29:27 +0000 <dalsovity> wait a minute did loona get covid?? i can't even remember anymore\n",
            "1493970788629856258 2022-02-16 15:29:27 +0000 <JeffAbramo> Hey @SyracuseU, how close are we to moving this COVID level to blue? The numbers are way down and the Gov has lifted the indoor mask mandate?  https://t.co/Cxa2TUQnB2\n",
            "1493970788256567305 2022-02-16 15:29:27 +0000 <OnlineTheWiki> 255 New Covid Cases In Mumbai, No Death Recorded For 2nd Day In A Row  https://t.co/RVqgkgbdO8\n",
            "1493970788214575105 2022-02-16 15:29:27 +0000 <JohnnyHarris112> @KashPrime You're q fucking doctor and you're saying theres nothing to be done? You're insane. Try quercetin, zinc, vit d, vit c, and ivermectin. All effective for long covid. You're a disgrace to the medical community\n",
            "1493970787463614465 2022-02-16 15:29:27 +0000 <upshotme> @TODAYonline Were lockdowns ineffective? EFFECTS OF LOCKDOWNS ON COVID-19 MORTALITY, Jan2022, Studies in Applied Economics.  https://t.co/7RVMgE5qfA  European normalisation World Health Organization in Europe   https://t.co/1ud6E97n99\n",
            "1493970784875950083 2022-02-16 15:29:26 +0000 <koohryn> Okay i don’t have covid I guess I just have the flu or I’m run down  I was going to stream glass painting tonight but might change it to unite because it’s easier to stream\n",
            "1493970783835725832 2022-02-16 15:29:26 +0000 <dnyanpravah> covid endemic : आपल्याला आता करोनासोबतच जगावे लागेल का? जाणून घ्या काय आहे तज्ज्ञांचे मत…  https://t.co/es5IvB0OKp\n",
            "1493970783663964161 2022-02-16 15:29:26 +0000 <Wishfmradio> Tanzania to start manufacturing its own COVID-19 vaccines. Tanzania is looking to set up its own COVID-19 vaccine manufacturing plant in a move to reinforce efforts to combat the disease in the country. Congo Kim K Kinshasa Guardiola Vieira #EarthquakeInMuranga  https://t.co/KM9PfeIPdG\n",
            "1493970783277887491 2022-02-16 15:29:26 +0000 <gelafontaine> @AuntyOfOmicron “Covid-19 Alert No. 2” from March 24, 2020 included “assumed” in the last paragraph.\n",
            "1493970780803194888 2022-02-16 15:29:25 +0000 <RealChefGrayson> City of Philadelphia drops COVID vaccination mandate for dining establishments  Excellent news,  especially for Restaurant Owners\n",
            "1493970780618641410 2022-02-16 15:29:25 +0000 <SLCTestWatch> COVID test available today at CVS (4968 West 13400 South, Herriman, UT 84096) at 10:45AM 11:00AM 11:15AM 11:30AM 11:45AM 12:00PM 12:15PM 12:30PM 02:30PM 02:45PM 03:00PM 03:15PM 03:45PM 04:00PM 04:15PM 04:30PM 04:45PM 05:00PM 05:15PM :  https://t.co/JgnHyD3pCQ\n",
            "1493970780350291976 2022-02-16 15:29:25 +0000 <RCPBermuda> @JDVance1 OR they could sue people like DeSantis for not protecting school children from covid.\n",
            "1493970779012272131 2022-02-16 15:29:25 +0000 <luladuso> @JohnMcKayLib \"The Czech Republic moved forward with easing coronavirus restrictions on Wednesday, cancelling a requirement for people to present a certificate proving they have been vaccinated or recovered from COVID-19 to use services and attend public events.\"  https://t.co/KUsBqDhvJs\n",
            "1493970778684944386 2022-02-16 15:29:24 +0000 <sushilemedia> Government of Haryana removes all existing COVID-19 restrictions in the state.  https://t.co/VBoEBcur8y  https://t.co/TTpDS7ka0D\n",
            "1493970777921572869 2022-02-16 15:29:24 +0000 <bermaninstitute> Pandemics disable people — the history lesson that policymakers ignore: Influenza, polio and more have shown that infections can change lives even decades later. Why the complacency over possible long-term effects of COVID-19?   https://t.co/DF2ylN4Ejh\n",
            "1493970776667607043 2022-02-16 15:29:24 +0000 <sulsitodisimone> Covid oggi Vda, 71 contagi e un morto: bollettino 16 febbraio  https://t.co/lJ6bQ5pFYL  https://t.co/dPqthnBagE\n",
            "1493970776214716423 2022-02-16 15:29:24 +0000 <JeanLucMarches1> And she received COVID financial support from the Feds. Her business will not survive this scandal.\n",
            "1493970776193748993 2022-02-16 15:29:24 +0000 <LHubich> It’s a miracle Saskatchewan. We’ve gone from over 1,400 daily new cases of COVID-19 to 0 (zero) daily new cases in just over 2 weeks. Apparently, Scott Moe is a medical genius.  https://t.co/1mXlKOq2z1\n",
            "1493970774620729346 2022-02-16 15:29:23 +0000 <DaveRN65> @JaneTaylor911 And he’ll still get covid if he hasn’t had it yet but “imagine how much worse it would have been”\n",
            "1493970773475790853 2022-02-16 15:29:23 +0000 <nadjamara> @marcofeliciano @jairbolsonaro Mas tu gostas de falsear a verdade. Ele só ficou perto do Putin porque se submeteu a CINCO testes de Covid e o Macron não baixou a cabeça par o exagero. Falso!\n",
            "1493970772850737153 2022-02-16 15:29:23 +0000 <sublime_minal> @Deborah57361100 @realfatapollo @chaptersindigo He was just re-elected for the third time five months ago based on his COVID mandates. lol\n",
            "1493970771944910850 2022-02-16 15:29:23 +0000 <plaguehemmings> meu nariz nunca mais foi o mesmo depois da covid\n",
            "1493970771827470339 2022-02-16 15:29:23 +0000 <Gkyz21504866> İki kere covid olmuş biri olarak herkes ağır atlatmıyor o yüzden karşılaştırmak hoş değil\n",
            "1493970770942480393 2022-02-16 15:29:23 +0000 <AmandaMacaula10> Just got call from school no school tomorrow for p6 &amp; p7 as too many off with covid. And probably none on Friday. My grandson was off last week with covid\n",
            "1493970770531389443 2022-02-16 15:29:22 +0000 <StickyNFTFingaz> Sometime u can really loose faith in humanity… No, the COVID vaccine and booster don’t protect you from getting infected or passing it on, stoopid, they protect you from a suited-up intensive care nurse being the last person you see on this planet! Get vaxxed people!\n",
            "1493970769432432640 2022-02-16 15:29:22 +0000 <gillian_wass> @JuanQueerxote @gracehelbig @mametown I love that you listen to this pod!! I pictured a beauty mask—the COVID mask is definitely sillier\n",
            "1493970767884824581 2022-02-16 15:29:22 +0000 <euarte> Queen Elizabeth appears healthy during virtual appearances after COVID scare - New York Post -  https://t.co/nyF4LyqBIY #GoogleAlerts\n",
            "1493970765712027651 2022-02-16 15:29:21 +0000 <RedConversation> excluding some complicating conditions, i'm actually pretty optimistic about my personal chances with COVID, twice vaccinated with close relatives who got it and (seem to) have fully recovered but you know   i'm still going to wear a mask in stores until they tell me to stop\n",
            "1493970764311240707 2022-02-16 15:29:21 +0000 <bunbunjunmyeon> Seats kinda suck but I get to go see @thelumineers so that's OK! 😍 First concert since Covid 🥴  https://t.co/dRL2lwk1mq\n",
            "1493970764264980482 2022-02-16 15:29:21 +0000 <mychinapress> ◤新国CCB◢新加坡今日新增1万6883宗新冠肺炎确诊病例  https://t.co/yxMmQkhPVG #今日中国报 #疫缠第三年 #全球大流行 #Covid_19  https://t.co/Vg9EcXhfF8\n",
            "1493970764160192522 2022-02-16 15:29:21 +0000 <SchaefferMarly1> 🇨🇭La Suisse a annoncé mercredi 16 février la levée de presque toutes les mesures de lutte contre le Covid-19.  Seuls le masque dans les transports publics et les établissements de santé ainsi que l'isolement des malades sont maintenus jusqu'à fin mars.   https://t.co/tNsvls5cX2\n",
            "1493970761945657350 2022-02-16 15:29:20 +0000 <MahdiaAhmina> @NickyBouwers Goed opletten  #Plandemie  ALLES is gebaseerd op LEUGENS  1e pandemie poging varkensgriep 2e pandemie poging Mexicaanse griep 3e pandemie poging COVID-19  Share Share Share   https://t.co/6XdXQaAKl8\n",
            "1493970760355880962 2022-02-16 15:29:20 +0000 <JerryHack7> Finally! Light at the end of the tunnel! I am feeling ever so slightly better today after 12 days sick. Was able to take out the recycling without collapsing. Don't get Covid.\n",
            "1493970759890489351 2022-02-16 15:29:20 +0000 <popscne> qualquer coisa eu falo irei demorar para fazer pois estou com covid\n",
            "1493970758959345676 2022-02-16 15:29:20 +0000 <no_thanks_bye_> covid'in arkasına sığınırım 2030 yılına gelsek bile AMA YENİ VARYANT VAR diyerek kurtulurum sikimde deil az insan getirsin 🤷‍♀️\n",
            "1493970757554249730 2022-02-16 15:29:19 +0000 <theman4u77> @PAKAG2020 And they knew what they were doing. Levin pulled his/her whatever it is grandmother out of the home before putting people with covid in those homes\n",
            "1493970756635701254 2022-02-16 15:29:19 +0000 <sulsitodisimone> Covid oggi Lazio, 6.531 contagi e 23 morti. A Roma 2.816 casi  https://t.co/teo5wUOHgA  https://t.co/dyWectv0Es\n",
            "1493970753942921223 2022-02-16 15:29:19 +0000 <perrin_nini> @CrgLucass @edgihed @lobs @_In_Media_Res Je profite de votre tweet comme ça tous les troll pourront aussi écouter les faits et pas la propagande destinée à faire monter la haine et la peur. Comme macron qui instrumentalise le covid.😉  https://t.co/KcsFBgqCxG\n",
            "1493970753372540932 2022-02-16 15:29:18 +0000 <Cookie75012826> Let's consider the total mess Trump left for Biden. Consider how things look now. Consider the fact that Biden is not interfering in the DOJ and other depts. Lets consider worldwide inflation due to covid. Consider the truth coming out inside of lies.\n",
            "1493970752797876228 2022-02-16 15:29:18 +0000 <MimiTehran> @rico_rants Who is banning books ? The same people that are banning real scientific studies and real doctors  about Covid and vaccines ?  I guess there's sensorship all around\n",
            "1493970750755246087 2022-02-16 15:29:18 +0000 <eltiolavarazota> Lo llevo avisando hace mucho Españazuela con la excusa del COVID 🆘🆘🆘🆘🆘🆘🆘🆘🆘🆘🆘🆘🆘🆘🆘🆘🆘🆘🆘🆘🆘🆘🆘🆘🆘🆘🆘🆘\n",
            "1493970750356738051 2022-02-16 15:29:18 +0000 <WMiecio> @TOPTVPINFO @WiadomosciTVP @MZ_GOV_PL Ogłaszacie sukces ⁉️ Po walce z wiatrakiem zwanym Covid na którym lekarscy młynarze dorobili się milionów zauważyliście że ludzie chorują i umierają na coś innego.\n",
            "1493970750251978754 2022-02-16 15:29:18 +0000 <HarpyFin> $SPY It’s cool that companies/governments who claimed they were making science and fact based decisions on Covid are now flipping their policies based on “what other people are doing”.\n",
            "1493970749660536836 2022-02-16 15:29:18 +0000 <CabSinclairIII> @JeromeAdamsMD @Conservativeind @PadresSuns Now do Natural Immunity - which confers more robust immune response than vaccinated adults who were never Covid-infected.\n",
            "1493970749052407815 2022-02-16 15:29:17 +0000 <dr_qube> @Tony63339578 @TimRunsHisMouth @pfizer No podría ser que los trombos sean una secuela del covid en vez de la vacuna? Spoilers yo trabajo en un hospital y los trombos en pacientes post covid eran cosa normal antes de que hubiera una vacuna. Nada que aquí cada cuál ve solo lo que quiere.\n",
            "1493970748062539778 2022-02-16 15:29:17 +0000 <AlanMat66462470> @adrianmahon8 @sophielouisecc I'd rather have the polio jab than the covid jab, at least it would stop me getting polio\n",
            "1493970746275610628 2022-02-16 15:29:17 +0000 <prariegirl123> @CheriDiNovo You know people die of other things besides covid Suicides, drug overdoses, domestic disputes child abuse. Maybe it's time we shed light on something besides covid\n",
            "1493970743301967872 2022-02-16 15:29:16 +0000 <unrefresco> El pago en #efectivo continúa entre los métodos de pago preferidos en España, a pesar del incremento de los pagos digitales por la COVID-19  https://t.co/RsPg2XebY9 vía @daretail\n",
            "1493970740462379019 2022-02-16 15:29:15 +0000 <AlexAdoraViehl> CN COVID  Es ist doch nur noch zum Heulen. Menschen sterben. Täglich. Und die Politik will einfach so tun, als sei alles gegessen. Wohin ist die Zeit, als wir bei Inzidenz &gt; 50 geschlossen haben? (Und das war mMn schon zu locker.)\n",
            "1493970735022411783 2022-02-16 15:29:14 +0000 <DevilWearsMAGA> @quesnell_mark @RepThomasMassie 2/ He dropped track, but he continued having weakness along with shortness of breath. He got checked out, and it was damage from the Covid infection that had left scarring and then increasing inflammation from the scarring, plus some circulation issue. He had to change majors.\n",
            "1493970734598791168 2022-02-16 15:29:14 +0000 <saranereax> no more pcr and lateral flows + no iso even w covid this man has lost it\n",
            "1493970733915152385 2022-02-16 15:29:14 +0000 <angorawine1911> @MrsIdontknow25 @GiudiceRosy Ferrari, Porsche... tu vivi 3 mesi in un hotel 5 stelle, che ogni ceto medio può permettersi, penso che ti manchi il ricordo, per non parlare di infrangere le leggi COVID ogni fine settimana. Posso accettare il buon gusto. Diletta è \"lo stile\" che cammina...\" new rich occidental+\n",
            "1493970732824633352 2022-02-16 15:29:13 +0000 <roo_wx> All this is gonna do is leave the poorest groups in society with 0 idea if they have covid, which regardless of isolation laws is STILL BAD. even if you cant isolate from work etc, knowing you have the virus tells you to stay away from vulnerable ppl + crowded spaces. Abhorrent.\n",
            "1493970730953945089 2022-02-16 15:29:13 +0000 <MrRobot_3> @DirectDansMitte il est '''suspendu'' jusqu'à la prochaine vague. Qui va être en mars ou avril.  Alors OUI, il faut manifester pour la FIN de TOUTES les mesures et de l'URGENCE et l'identité numérique NON.  Pour moi c'est clair : FINI LE COVID.\n",
            "1493970730328989702 2022-02-16 15:29:13 +0000 <heymontser> Im spending my full moon in my onesie in my warm bed cuddling my stuffed animals because I believe COVID got to me 🥲\n",
            "1493970730312208385 2022-02-16 15:29:13 +0000 <Colorado_AAP> COVID vaccination during pregnancy helps protect babies after birth -U.S. study  https://t.co/Cg7Q4htfFk\n",
            "1493970729259261957 2022-02-16 15:29:13 +0000 <angela_wybourne> @mikeythenurse - no consequences (for them, because consequences for others don't concern them). The government can have a theoretical plan for when covid isn't an issue but it would be kinda foolish to write it in concrete when it's have to be changed abruptly.\n",
            "1493970728412188674 2022-02-16 15:29:12 +0000 <ninalopezm> Do yourself a favour and pls don't come to Mexico to spread COVID, gentrify and make the cost of living even higher. The living wage in Mexico is WAY lower than the US. Foreigners from the Global North are driving prices up and leaving ppl out of their homes.\n",
            "1493970727904571399 2022-02-16 15:29:12 +0000 <upshotme> @TODAYonline Tide Turns  https://t.co/NJKkDj1UhU  Data, we want it all Covid-19 vaccines and treatments: we must have raw data, now  https://t.co/0pTRVW8ejX  Official death figures Covid: Posts claiming only 17,000 died of virus 'factually incorrect'  https://t.co/wp2OMY9ZEi\n",
            "1493970725593657345 2022-02-16 15:29:12 +0000 <mysterymom14> @RepThomasMassie When I had Covid, it was Delta variant.  Had symptoms and tested positive on home test and at physicians office.  In Kentucky was lucky to receive microbial antibodies treatment.  Seems like everyone was testing positive for Omicron, symptoms or not🤷🏻‍♀️\n",
            "1493970724830199810 2022-02-16 15:29:12 +0000 <redot2005> Pollution causing more deaths than COVID, action needed, U.N. expert says  https://t.co/o3FDr0GbE8\n",
            "1493970724175896577 2022-02-16 15:29:11 +0000 <FanTCbooks> @WriterBSteele I totally and completely continue to blame Covid.  I'm WFH now and the lack of social validation has turned me into a blob of I-don't-give-a-damn-anymore.  Also getting evicted in 2021...  And living in a cramped tiny home...  I blame my environment bc there's no room to thrive.\n",
            "1493970722204516355 2022-02-16 15:29:11 +0000 <SaveAmerica_22> BREAKING: Project Veritas exposes Biden administration plans for annual COVID shots | The Post Millennial #Vaccines #CovidShots   https://t.co/IdmiVlVffO\n",
            "1493970721353216003 2022-02-16 15:29:11 +0000 <MariodreyA> @PhilippeBellaz1 @CarolineLamarre Les immosupprimme entourés de non-vaccinés le risque est grand pour eux même s’ils ont leur trois doses complètes… tandis que moi c’est pas mal moins grave si je développe la covid ;)\n",
            "1493970720887562241 2022-02-16 15:29:11 +0000 <namaria_fd> Mentira que vou fazer o primeiro teste de covid depois de 2 anos de pandemia\n",
            "1493970719339954186 2022-02-16 15:29:10 +0000 <sanerefrain> @tara_tinks @Unusual_Times It's big for a part of zero-Covid China, but small compared to UK  https://t.co/tt4v44BIgO\n",
            "1493970717804797970 2022-02-16 15:29:10 +0000 <cabell> Which is not to absolve all the instructors with draconian attendance policies that basically ensured a single case would expose hundreds of others. Lots of my students caught Covid AT those finals that the university had no official plan for.\n",
            "1493970717737689089 2022-02-16 15:29:10 +0000 <DrCurtisFreeman> I would add that if you're a minister supporting religious exemptions for Covid vaccines, you should get out of the ministry.\n",
            "1493970717309874178 2022-02-16 15:29:10 +0000 <cristofoli5> @RobertN51219021 @MigrationWatch Robert - The illegal immigrants could be terrorists, criminals, covid spreaders or desperate people. Nobody knows.\n",
            "1493970716995178500 2022-02-16 15:29:10 +0000 <JoelSGilbert> LA County has extended its \"no evictions\" law to June 2023! Over 1 million apartments seized in 4th amendment violation and given to those claiming Covid hardships. But Amazon, Safeway, Chevron, Netflix, and AT&amp;T are NOT required to give free goods and services to them. Why not?\n",
            "1493970712830394378 2022-02-16 15:29:09 +0000 <VLongrange> Kouts cooped up with Covid  https://t.co/8zFQ7tmWn2\n",
            "1493970712780025859 2022-02-16 15:29:09 +0000 <winggjoon> in case weirdos take this the wrong way; because of covid their rules are stricter. Almost all Koreans are double vaxxed but are still seeing spikes in cases since covid started. They’re taking extra precautions about events like these and are only limiting it to Korean residents\n",
            "1493970711861501958 2022-02-16 15:29:08 +0000 <LeftyRevolutain> Remind me to never buy crisps when I'm at a Pub, I was coughing on and off for around 30 minutes yesterday as the damn crisps irritated my throat, surprisingly no one stared at me thinking I had COVID 😅\n",
            "1493970711098150920 2022-02-16 15:29:08 +0000 <1ofEvry1> Covid is over! Is it a disease? Yes. Was it worth all this? NO!\n",
            "1493970710812893187 2022-02-16 15:29:08 +0000 <CaraotaDigital> ¿Libre de covid-19? Isabel II retomó sus actividades a días del contagio de Carlos y Camila  ⭕  https://t.co/TuqD2zJcSV\n",
            "1493970710573858818 2022-02-16 15:29:08 +0000 <budekme> @MDR0787 @dsenkowski07 @sportpl Choroba COVID-19 wywołana przez wirusa SARS-CoV-2 jest wpisana na listę chorób ICD-10.   https://t.co/3MGDjZ0kSp\n",
            "1493970710338932742 2022-02-16 15:29:08 +0000 <brunorafaelSC23> Zero! Agradeço muito a papai do céu 🙏 2 anos, zero sintoma de Covid.\n",
            "1493970709571260419 2022-02-16 15:29:08 +0000 <CeforesF> @cathie_wood @Billyjojimnybob Any covid vax is a massive waste of time, resources and money. All other vaxes, it depends on what they are for. Anti-cancer? Possibly good news, but too early to tell. We are not \"Anti Vaxx\". We are Anti-Mandating a gene therapy being pitched as a vax.\n",
            "1493970709445550080 2022-02-16 15:29:08 +0000 <AphexTwinTower> @LilWhoady_ The severity of symptoms are lessened as a result of vaccines. You can still catch covid if you’re inoculated, the vaccines aren’t treatments. Man you’re genuinely fucking dumb.\n",
            "1493970709105856523 2022-02-16 15:29:08 +0000 <Lululef12> Je suis assez d'accord avec les personnes estimant que le gouvernement indivisibilise la vague de covid mais le problème c que vous proposez quoi au juste ? Qu'on resserre une nouvel fois l'étau ? Qu'on en parle + dans les médias ?\n",
            "1493970708665626624 2022-02-16 15:29:08 +0000 <arjun21323540> @Praful_rao001 @ImSharwanand @iamRashmika @SLVCinemasOffl That’s pre covid era\n",
            "1493970707084099587 2022-02-16 15:29:07 +0000 <KeithSloane123> @StephenNolan @BBCSounds The viruses are still out there don't let your hard down my father has covid\n",
            "1493970705104490497 2022-02-16 15:29:07 +0000 <Benny89132402> @alfredodelmazo Paulatinamente vamos luchando contra la COVID XIX. Vamos mexiquenses\n",
            "1493970703183454208 2022-02-16 15:29:06 +0000 <LordAKA1973> @nanaimadiamond @CHuselitz @zeitonline Scheinbar bist Du bescheuert, wenn Du das nicht verstehst: Es gibt zig Krankheiten und Gefahren - es soll auch andere Risiken im Leben geben - die ebenfalls tragischerweise zum Tod führen. An Covid sterben jedenfalls nur sehr wenige Kinder und weitaus mehr an anderen Ursachen.\n",
            "1493970701463834629 2022-02-16 15:29:06 +0000 <eugenie_braatz> @ChancenNRW @JoachimStamp Das machen wir doch mit links. Unsere Kita ist durch Fachkräftemangel und Covid eh schon geschlossen. Und Kinderschutzgesetz sei Dank dürfen wir auch in der Elterninitiative keine Notfall-Betreuung mehr übernehmen. Läuft.\n",
            "1493970701258092544 2022-02-16 15:29:06 +0000 <munza14> First they forcefully cremated Muslims who died from #COVID19.  Then due to protests, they allowed Muslims who died from COVID to be buried in ONLY Ottamawadi,  Batticaloa.    Now, you don't even have to do a PCR test if you die from COVID.  How's that for racism?  #LKA #SriLanka\n",
            "1493970701035974657 2022-02-16 15:29:06 +0000 <CityNewsKIT> MORE: Ontario is reporting 2,532 new COVID-19 cases today, and 47 virus-related deaths.  One of the deaths happened over a month ago, and is being added to the overall total as part of data clean up efforts.\n",
            "1493970700528410626 2022-02-16 15:29:06 +0000 <Michigannurse> @QveenFeist 2 years of Covid restrictions and it’s always comfy now. And wear your jewelry where and when you want!\n",
            "1493970699802791950 2022-02-16 15:29:06 +0000 <Edward_Hikari> @air429 Yall going to covid cheese still? Or what yall doing?\n",
            "1493970699505082371 2022-02-16 15:29:06 +0000 <antoniasilva31> @BalancoGeralGO Vacina os filhos contra a covid quem quer. Cala a boca oloares.\n",
            "1493970698972266497 2022-02-16 15:29:05 +0000 <bbywolf07> @delebean_ kan? hrp xde covid nanti, dtg laa malaysia. dtg satu exile tribe terus! HAHA. nak ajak nyanyi “rasa sayang” ni 🥺\n",
            "1493970697860882434 2022-02-16 15:29:05 +0000 <CityNewsKIT> BREAKING: Ontario is reporting 1,403 people in hospital with COVID-19.  54% admitted with COVID-19, the rest for other reasons and later tested positive.  364 people in ICU with COVID-19. 82% were admitted with virus, the rest for other reasons and later tested positive.  https://t.co/1nXJorytnw\n",
            "1493970697588297730 2022-02-16 15:29:05 +0000 <thotscanner> Disney and Universal Change Major Covid Rule, Tease New Rides  https://t.co/g19Sxagl8Z\n",
            "1493970697294651393 2022-02-16 15:29:05 +0000 <JulieSDixon> there's a whole pile of us who were done with him long before he stepped into office, we knew a sh^t show would ensue, but Covid has blown it sky high. Who want's this train wreck in charge again ... I mean really\n",
            "1493970695998816257 2022-02-16 15:29:05 +0000 <starzkth> covid turun y gue mau nntn bujang lu jangan menghambat ok\n",
            "1493970694237044736 2022-02-16 15:29:04 +0000 <LotazP> @pagina12 Los numeros muestran claramente que las vacunas covid no funcionaron y son peligrosas (las mas peligrosas hasta hoy). Lo que propone el chavista este es reemplazar a la ciencia que es falseable por fe total en prospectos de farmaceuticas.\n",
            "1493970693234782210 2022-02-16 15:29:04 +0000 <Clontosan> @MirmiraF Kena covid foto jalan2, diluar sana banyak yang  lagi dan masih berjuang isoman, diluar sana ada orang yg anter makanan buat isoman adiknya dengan nerjang hujan dan banjir krn susah order gofud, tinggal bilang aku udah sembuh dan negatif gess kelar soalan,\n",
            "1493970693058408452 2022-02-16 15:29:04 +0000 <valoreconomico> Pfizer pede à Anvisa uso emergencial de medicamento contra covid-19  https://t.co/q5IiBmd2vH\n",
            "1493970690667646978 2022-02-16 15:29:03 +0000 <JashUKnowAndLuv> @sockacat @LynnieK3 So what's worse?  Being lied to?  Or using the deaths of your loved ones as ammunition to be lied to?  I think we can all agree that both of these are true:  COVID killed people, and it was quickly turned political.\n",
            "1493970688931250177 2022-02-16 15:29:03 +0000 <totobrix2021> @EnModeMacaron Elle a une gueule à avoir peur du covid et être quadruplement vaccinée la grosse... Ça promet.\n",
            "1493970688381636608 2022-02-16 15:29:03 +0000 <PAXCSPB> @CantilloJuanca @jesusR10US @Mumomarin @PolloVignolo Hay q ver cómo está Messi proque viene del covid y eso por ahí tiene post secuelas, que van desapareciendo. La prensa francesa crítica xq el psg ganó 72 champions, 😂😂\n",
            "1493970687693893635 2022-02-16 15:29:03 +0000 <3_gorman> @kc_boyer @dhawkty I recall a few years back before Covid , California had an outbreak of measles… traced to Disneyland.  Everyone seemed up in arms to get children vaccinated then Covid hit.🤦‍♀️🤦‍♀️🤦‍♀️😢😢\n",
            "1493970687073075211 2022-02-16 15:29:03 +0000 <thebrandonsun> As the province moves to eliminate COVID-19 measures next month, physicians and medical organizations are urging the public to exercise caution.  https://t.co/dlDlqMeh09 #bdnmb  https://t.co/bPNA6lb7lE\n",
            "1493970686917976079 2022-02-16 15:29:03 +0000 <olu_mike5> We haven't even balanced our academic calendar after the COVID, ASUU is going on strike again. Class'23 Dan turn class' till further notice. FUTA could've let us finish this exam and then join the strike, we're starting exam in 11 days and FUTA decide to join the strike 😔\n",
            "1493970685244448771 2022-02-16 15:29:02 +0000 <jmcrookston> Toronto COVID-19 testing - if came back within a day or two it would be on the diagonal line.  ...  https://t.co/ftsHKhek7M\n",
            "1493970684199981064 2022-02-16 15:29:02 +0000 <MaximeL07687661> @elatraverse @nspector4 La grippe et l’influenza existait déja soustraire ceux ci au cas de covid est primordial suite a leur disparition ainsi pandémie n’est plus 480milliard de pub: propagande Les 4 julie, \"je ne voudrai pas d’une infirmiere non vaccinée accoter de moi\" ⬆️: incitation a la haine Et++\n",
            "1493970684179058694 2022-02-16 15:29:02 +0000 <alaripemg> @Andy_Scollick Hi, I'm from Brazil. Bolsonaro took 5 Covid tests, and was kept under a \"Covid free Bubble\" since Monday. Just to shake hands with Putin. Tomorrow he will visit Orban. OSINT sources: It appears that this Bolsonaro's trip was related to our 2022 presidential elections: hacking.\n",
            "1493970683965153282 2022-02-16 15:29:02 +0000 <linecemartinez> @archange2b A la maison, 2 adultes et 3 enfants (3,6 et 12 ans) tous non vax ! Les 3 et 12 ans ont eu le covid enfin le rhume\n",
            "1493970683084296199 2022-02-16 15:29:02 +0000 <StockNewsBot2> $GNW $ACT Change in Long-Term Care Costs in Missouri Mixed; Labor Market Shifts and Continued COVID-19 Pressure Affect Future Costs  https://t.co/UwDJrPPsq9\n",
            "1493970683034054656 2022-02-16 15:29:02 +0000 <theictblog> DfE extends Covid school workforce fund until Easter - New article from @SchoolsWeek  https://t.co/lgRcpdipyo\n",
            "1493970681637261318 2022-02-16 15:29:01 +0000 <rtaylor_work> @JalebiTwist @EmmMacfarlane I mean double vaccinated has a reported risk of 25 per million vs 1500 per million with COVID but you do you\n",
            "1493970681091997696 2022-02-16 15:29:01 +0000 <JosephWarren76> @FranklinPhilly @PHLPublicHealth They're pushing the covid narrative so we won't see all the other sneaky shit they are doing! WE'RE WATCHING!!!\n",
            "1493970680915931140 2022-02-16 15:29:01 +0000 <wdam> AP sources: White House seeks another $30B for COVID battle.&gt;&gt;  https://t.co/wg2sLSbpts  https://t.co/C8wxSCVUfQ\n",
            "1493970680177639433 2022-02-16 15:29:01 +0000 <WalkingRichard> I wonder if we can create a covid zero space colony on the moon or on Mars.\n",
            "1493970679728852998 2022-02-16 15:29:01 +0000 <acetaminophen07> @58baskanhanm @Woman58Cigdoss 👏🏻👏🏻👏🏻 evet bizim yaşadıgımız yerde sadece ögle yemekleri değil kahvaltı bile cocuklara bedava. Covid den dolayı başlatmışlardı ama hala devam ediyor. Yazın okul yokken bile veriyorlar.\n",
            "1493970678290202626 2022-02-16 15:29:00 +0000 <mmjprotect> @oomfieparadise hes prepearing for the 10th covid wave\n",
            "1493970677950464003 2022-02-16 15:29:00 +0000 <WayneTownshipNJ> We know that pets can also get infected with COVID-19. Here's what you need to know about COVID-19 and Pets:  https://t.co/MmikBymRQD\n",
            "1493970677426278404 2022-02-16 15:29:00 +0000 <joaretz1> @Sillyshib They should have done that in March 2020...would have saved us all a lot of bother. British exceptionalism should have made us a special case in the world anyway....can't believe Covid ignored it\n",
            "1493970676839030789 2022-02-16 15:29:00 +0000 <FirefighterLODD> #LODD 2/10/2022 Incident 1/10/2022 Michael McGuire(52) Copperas Cove FD(TX) Contracted COVID-19 while responding to numerous EMS and fire calls; #RIPBrother  https://t.co/Yd4UEoSiaz\n",
            "1493970676809666565 2022-02-16 15:29:00 +0000 <pablomariz777> @VezoVezir Wait ça fait 15 ans qui vomit sa marde?!?! 🤔😬🥶 Je le connais depuis 2 ans... je pensais qu'il a profité de la covid pour aller chercher le support des imbéciles..\n",
            "1493970675182489601 2022-02-16 15:29:00 +0000 <seokjiniieeee_> eh tapi kalopun indo masuk list aku ttep milih nnton di rumah sihh bcs covid ini terlalu menyeramkan :')))\n",
            "1493970673387155461 2022-02-16 15:28:59 +0000 <SparkyPatriot> @Rodstro88 That’s what they said when I was not allowed in the hospital due to Covid regarding my love one, who really died of heart failure and kidney failure at 96\n",
            "1493970673290653699 2022-02-16 15:28:59 +0000 <therealmarttah> Fui dizer no meu pai que queria doces e me respondeu assim...\"tu estás com covid, não estás grávida\"😭😭\n",
            "1493970670157541377 2022-02-16 15:28:59 +0000 <777baloncuk> On numara adam boş konuşmuyor nerdeydin şimdiye kadar covid e teşekkür mü etsek sayesinde vatanı milleti düşünenleri gösterdi bize 🙌kanaat önderliği budur ⬇️⬇️⬇️⬇️  https://t.co/HzqL4dw0bt\n",
            "1493970669473832961 2022-02-16 15:28:58 +0000 <Ultimaxiii> @PALaborIndustry Thanks for denying my UE again from when I had Covid. Paid in 13 years can't get 1 damn cent. FU\n",
            "1493970668358180865 2022-02-16 15:28:58 +0000 <Raqueloush> En plus j’ai jamais eu le Covid (a moins d’être asymptomatique) 😭\n",
            "1493970666261000192 2022-02-16 15:28:58 +0000 <Pivoine2704> @Michele90155497 @GrobisR @f_philippot En bloquant les traitements précoces pas chers on a surtout causé des milliers de morts inutiles. Quant aux vies épargnées, en Israël 48% de morts du covid en plus en 2021. En UK, 80% des morts sont vaccinés. Vous pouvez penser ce qui vous chante et vous vacciner 10 fois !\n",
            "1493970664583225344 2022-02-16 15:28:57 +0000 <NyrrosC> #covid_19gr Τετάρτη 16/02/22  Nέα κρούσματα: 19.509 Διασωληνωμένοι: 485 (-4) Νέες Απώλειες: 84*(συν: 25.001) Τεστ σήμερα: 331.538 (PCR: 26.507, RAPID: 305.031) Θετικότητα (PCR+Rapid): 5,88%  17.912 Μ.Ο κρουσμάτων (17.810 προηγ. εβδομ.) Σύνολο: 2.235.920   https://t.co/mKhAXTHSBU  https://t.co/46Ycm2f854\n",
            "1493970664159690757 2022-02-16 15:28:57 +0000 <BhamWeekly> @TomPaineToday @FoxNews start with spreading COVID disinformation that got people killed, spreading lies about 2020 election that got people killed, spreading Russian disinformation that enables Putin to threaten Ukraine with invasion\n",
            "1493970662129471490 2022-02-16 15:28:57 +0000 <NewsTamilTV24x7> #COVIDUPDATE   தமிழ்நாட்டின் இன்றைய கொரோனா நிலவரம்!  #TNCorona | #Covid | #Corona | #NewsTamil24x7 | #நியூஸ்தமிழ்24x7  https://t.co/35EoiQSusE\n",
            "1493970661919891456 2022-02-16 15:28:57 +0000 <duhasena> Covid-19 testi pozitif çıkan Dışişleri Bakanı Sayın Mevlüt Çavuşoğlu’na geçmiş olsun dileklerimi iletiyorum. Rabbim acil şifalar versin 🙏  https://t.co/dZDYzaQ7Hp\n",
            "1493970661215244294 2022-02-16 15:28:56 +0000 <KirstAnneHarris> After a Covid-enforced break we were delighted to visit the @Pitt_Rivers museum again today with our @WarwickLibArts 2nd years  https://t.co/ywXSLPfIZg\n",
            "1493970659663572995 2022-02-16 15:28:56 +0000 <liwangshaogong1> Beijing 2022 a celebration of humanity in a COVID-plagued world  https://t.co/Ra9LwYxhan\n",
            "1493970658971492353 2022-02-16 15:28:56 +0000 <nzhhmohamad> Sekarang tengok medsoc rata2 ramai positive covid, dgn ank kecik lagi smoga smuanya segera sembuh Jaga diri semuanya🌹\n",
            "1493970658396708871 2022-02-16 15:28:56 +0000 <Valenti55715563> @kegevans It is insane and you haven't mentioned the \"gratitude to God\" for having Covid while being triple jabbed? As in Britain, sadly, that's how politicians &amp; journalists announce their Covid: \"Positive but thank you God for my 3 jabs, would have been dead otherwise\" .. Really?\n",
            "1493970657016631298 2022-02-16 15:28:55 +0000 <KompasTV_Mks> Petugas badan penanggulang bencana daerahj kota Makassar menyemprotkan cairan disinfektan di gedung Balaikota Makassar. Sterilisasi dilakukan pasca walikota makassar terkonfirmasi positif covid 19.  https://t.co/kq5lvFSB1F\n",
            "1493970656370696195 2022-02-16 15:28:55 +0000 <Baric_Lab> Here we use our mouse model of severe COVID-19 and show that at days 15-120 post infection, survivors have chronic inflammation and fibrotic lesions in the lung. Intervention with EIDD-2801 (molnupiravir) or nintedanib can improve outcomes.\n",
            "1493970656282689544 2022-02-16 15:28:55 +0000 <Mandalore_16th> @kosik_md @Gasiu76 Jestem zaszczepiony na komplet obowiązkowych szczepień + mam szczepienie przeciwko wściekliźnie. Zastanawiam się również nad płatnymi szczepionkami na choroby odkleszczowe. Ale nie zaszczepie się na covid, tak samo jak nie szczepie się przeciw grypie. Określanie takich ludzi 1/2\n",
            "1493970656148529154 2022-02-16 15:28:55 +0000 <NEO2012SAVE> CHILE ES EL PAIS MAS VACUNADO Y SOSPECHOSAMENTE EL COVID NO PARA: Ministro Paris asegura que vendrá otra ola de contagios y que hay tres casos de Ómicron 2 en Chile  https://t.co/SNcGxQ0U90\n",
            "1493970655339028485 2022-02-16 15:28:55 +0000 <frangenever> @copybot @jfbonner @MrYesWeCan The biggest flaw of Capitalism is that it's money centred, rather than people centred. Hence we have the ludicrous charade of Johnson and the Tories sending people into work spreading covid because they're worried that lockdowns will ruin the economy.\n",
            "1493970654017818624 2022-02-16 15:28:55 +0000 <moosemar77> @MrAhmednurAli Not the same idiot... listen we all covid at home , my wife ,  my 2 kids and I ... my wife vax was sick for a week and us not vax sick for 1 day or less.... my grand parent got vax and died a few days later\n",
            "1493970653996802051 2022-02-16 15:28:55 +0000 <GoddessLadyP> @iwantneon These covid safety mandates are being lifted too fast. We all know from last year it did not work, some new variant will be made during the summer at this rate 😢\n",
            "1493970652990160903 2022-02-16 15:28:54 +0000 <zairaparavan> @crigarbur io ad agosto: covid + ciclo + tutti a ligna perché era l’ultima sett d’estate + caldo + te che mi scrivevi\n",
            "1493970652080279558 2022-02-16 15:28:54 +0000 <RGC_Prod> Excuse me for my language but I with a motherfucker would take a bite or take a fry or nugget outta my grubhub order yo ass gonna get rear ended, Shot, or fucked up that shit's is disgusting and with Covid going on just sick if you are doing that you deserve to rot in hell!!!\n",
            "1493970650947543044 2022-02-16 15:28:54 +0000 <CopyMaverick> Bros I finally caught covid  Anyone got any advice to recover quickly?\n",
            "1493970650184171527 2022-02-16 15:28:54 +0000 <hoovermentpeon> (2) A reminder that an old website exists, (3) coworker is leaving, (4) after 23 months since COVID #WFH began we can finally make in office appointments without asking #management because …\n",
            "1493970647797669890 2022-02-16 15:28:53 +0000 <Anabel_Villeroy> Digital ID ⚠️ Klaus Schwab's @wef says \"the COVID 19 pandemic has led to a heightened focus on the power of medical data, specifically so-called vaccine passports. These passports by nature serve as a form of digital identity.\"  RESIST.  Read WEF Report 👉  https://t.co/XL6cEMduWH  https://t.co/yk2eVZxFyM\n",
            "1493970647596290054 2022-02-16 15:28:53 +0000 <SJoceran> @SteredL @JrNclm Parce que tu crois vraiment que les spécialistes auraient laissé passer ces éléments sans rien voir ? Tu crois vraiment qu’un vaccin anti Covid puisse provoquer la malaria ? Clairement tu n’y connais rien en science, tu ne fais que répéter ce que t’ont raconté tes gourous….\n",
            "1493970647000788994 2022-02-16 15:28:53 +0000 <Johnpaulelliott> @razbbc @RichardJMurphy ‘Most’ 170,000 dead. 30,000 since freedom day. 1.3m suffering from long covid. I don’t not see an issue in wearing masks, installing ventilation, track n trace &amp; testing people if it helps reduce infections &amp; death. Covid isn’t going away. To abandon all protections is criminal\n",
            "1493970646665150468 2022-02-16 15:28:53 +0000 <ppciclon> 😷 Gabriel Rojas es la gran duda para visitar La Plata🤔  El lateral izquierdo esta mañana no entrenó junto al equipo por presentar síntomas compatibles con COVID, aguardan por los resultados de los hisopados. #SanLorenzo  👉🏼 https://t.co/Vy64jk0gNl   ✍🏻 @Juampiacuna  https://t.co/R52eSN9ZNN\n",
            "1493970646455525380 2022-02-16 15:28:53 +0000 <anailenprensa> 🛑Intendente Moreira fue hisopado con resultado positivo a Covid-19 En la mañana de este miércoles 16, el Intendente de Colonia Carlos Moreira, fue hisopado, arrojando el test resultado positivo a Covid-19. Se mantendrá en su domicilio, teletrabajo y tareas a distancia.  https://t.co/OYNTSeBkJg\n",
            "1493970645406961672 2022-02-16 15:28:53 +0000 <GarnishFire> @bglaettli Der „globale Süden“, mit seiner jungen Bevölkerung, braucht keine Covid-Impfung, sondern sauberes Wasser.\n",
            "1493970642236022785 2022-02-16 15:28:52 +0000 <MAGA_Translator> @PresElectSchmoo @RepThomasMassie That's correct.  It can also be zero.  a recent study showed that 1/3 of COVID + people tested for antibodies did not show any in the test.\n",
            "1493970641481089026 2022-02-16 15:28:52 +0000 <misra_archive> @DrSJaishankar  Dear Mr Jaishankar, Sir, can you please help me, regarding the International arrival requirements for Indians who have had covid in the past 30 days and are still getting a positive PCR report. Most other countries seem to have provisions for this but not ours?\n",
            "1493970640990318592 2022-02-16 15:28:52 +0000 <CharlieFindley> @ACTBrigitte He's just so clueless, just like he was about Covid...he even admitted...he said he ate humble pie....he's just clueless.\n",
            "1493970640516308997 2022-02-16 15:28:51 +0000 <PuraReflexao> Começa o governo batendo continência pra generais americanos, combatendo o isolamento e negando o vírus. Termina fazendo 5 testes COVID, ficando em isolamento antes de ver Putin e homenageando soldados comunistas. Lei da ação e reação. 😂  https://t.co/ZF3o8Lqpa1\n",
            "1493970639954264064 2022-02-16 15:28:51 +0000 <thisisdchong> El cuerpo me pesa que no me podía levantar de la cama y tengo 0 energía. What the actual fuck 😐  Y no tengo fiebre o covid...\n",
            "1493970639580979202 2022-02-16 15:28:51 +0000 <aamchihealth> Covid restrictions in Scotland compared to England, Wales and Northern Ireland  https://t.co/JjFhOOfmcy\n",
            "1493970638427471875 2022-02-16 15:28:51 +0000 <JazzysNation> I feel worse than when I had Covid 🤦🏾‍♀️  And still testing negative 😩\n",
            "1493970637911699461 2022-02-16 15:28:51 +0000 <MirandaSouris> @Alautre75000 @12janvier2019 @Instrevise C'est possible, et ce serait logique en effet ! 🤔 Mais d'autres autour de moi, triple dosés, ont bien douillé, Covid une semaine après leur dose... Et des non vax n'ont quasiment rien eu ! Je veille surtout à ne jamais être en carence de vit. D, essentiel contre les infections.\n",
            "1493970637580341255 2022-02-16 15:28:51 +0000 <NoUserName2022> @CNN But covid is over 😂\n",
            "1493970637383163908 2022-02-16 15:28:51 +0000 <walkdownman> Granddau tests positive for covid, grandson for rhinovirsus.  Battling doctors re efficacy of the first test.  More tests acoming!\n",
            "1493970634824568833 2022-02-16 15:28:50 +0000 <barboo72_allen> The UK government admits that vaccines have damaged the natural immune system of those who have been double-vaccinated. The UK government has admitted that once you have been double-vaccinated, you will never again be able to acquire full natural immunity to Covid variants -\n",
            "1493970634262654989 2022-02-16 15:28:50 +0000 <MINPRODUCCION> 📌 Las micro y pequeñas empresas que hayan sufrido pérdidas, debido a la coyuntura del covid-19, podrán potenciar, reconvertir o reorientar sus negocios con los fondos de hasta 35 mil soles para acelerar su reactivación económica.  https://t.co/IpOiLd46nN\n",
            "1493970634027810819 2022-02-16 15:28:50 +0000 <MingBrock> My Covid tests arrived.  Yeah  https://t.co/yyUwOcLfWN\n",
            "1493970633453096964 2022-02-16 15:28:50 +0000 <DiarioActualid1> COVID: Dosis de refuerzo libre para los mayores de 30 años  https://t.co/uqioGjf2WE\n",
            "1493970630382960644 2022-02-16 15:28:49 +0000 <Happymask261> Also, might have covid 🙈\n",
            "1493970628432572419 2022-02-16 15:28:49 +0000 <mariemini> @marou_pp Sans parler des Covid longs. Mais il est vrai qu'en dehors des personnes immunodéprimées, les décès concerne des très vieux et des non vaccinés avec des comorbidités. Ces existences semblent dispensables car personne ne s'attarde sur la question.\n",
            "1493970627434266629 2022-02-16 15:28:48 +0000 <arunantony707> @historicurrents @ApexGemini2 @brasfort47 @DebraLefebvre @fordnation I am not sure about the long term effects of Covid. True. But I would rather choose “just”Covid effects than, vaccine side effects + vaccine long term effects + Covid side effects+ Covid long term effects combined. Cant I make that choice for my own body!?\n",
            "1493970627153248261 2022-02-16 15:28:48 +0000 <ArtemisaRadio> Al cierre del día de ayer, 15 de febrero: 👩‍🔬Para COVID-19 se estudiaron  13003 muestras 🦠Resultaron  muestras positivas 594 Del total de casos:  🤝579 fueron contactos de casos confirmados ✈️8 con fuente de infección en el extranjero 👉🏻7 sin fuente de infección precisada  https://t.co/YtH4rnD8Z3\n",
            "1493970626323030016 2022-02-16 15:28:48 +0000 <fyzaaazhar> If Malaysia included then I want to join the live streaming at the theater too but covid sucks......\n",
            "1493970625010057216 2022-02-16 15:28:48 +0000 <TonyMalghem> Au Luxembourg avec les mesures Covid t’as le droit d’aller ken qui tu veux en boîte de nuit par contre ton fils hospitalisé c’est 1h par jour\n",
            "1493970624313802753 2022-02-16 15:28:48 +0000 <AGazetaES> Anvisa analisa uso emergencial de medicação da Pfizer contra Covid-19 [ https://t.co/P14JLEtFgo]\n",
            "1493970620941541379 2022-02-16 15:28:47 +0000 <brunofariapts> Peguei covid. Graças a vacina só sintomas leves 🙏🏼\n",
            "1493970620077547522 2022-02-16 15:28:47 +0000 <ScottBrant20> @Kramerica316 @CTVToronto Doug said covid is done though... ppl can stop dying from it. It's over as per our premier\n",
            "1493970619729387525 2022-02-16 15:28:47 +0000 <tag_lines> Covid não é mais a doença de 2020. É outra coisa, bem menos ameaçadora e mais branda em geral. Manter o comportamento de 2020 é viés comportamental apenas, não tem nada de ciência, proteção, salvar vidas nem nada disso\n",
            "1493970619515293696 2022-02-16 15:28:46 +0000 <quantisnow> $ACT $GNW 📰 Change in Long-Term Care Costs in Missouri Mixed; Labor Market Shifts and Continued COVID-19 Pressure Affect Future Costs   https://t.co/GjPkf2QB1L  45 seconds delayed.\n",
            "1493970617338630150 2022-02-16 15:28:46 +0000 <Calderon08> @CityCynthia People are ready to move on? Okay, so are healthcare workers. No more COVID-19 admissions then.\n",
            "1493970615543476225 2022-02-16 15:28:46 +0000 <senhoralmeidaa> indo fazer o teste do covid me desejem um negativo 🙏🏻\n",
            "1493970615446867971 2022-02-16 15:28:46 +0000 <KisselThisis> @catturd2 MAGA Chud: “anyone vacced that dies unexpectedly it’s because of the COVID vaccine.”   Do you have any evidence?   MAGA Chud: “The person died unexpectedly”   Didn’t that happen before COVID too? 😂\n",
            "1493970612213239814 2022-02-16 15:28:45 +0000 <kay_cee000> @AlexMacLeod9 @Sheilam19534814 @NicolaSturgeon @scotgov I have and I am not happy to participate my children in said trial. Both my kids have had covid (aka runny noses)\n",
            "1493970610929631232 2022-02-16 15:28:44 +0000 <MysToriWriter> @creatorchip I didn't use the forum this year. I wound up getting COVID right after Round 1 ended, so I was mostly away from my desk &amp; laptop for a couple of weeks, and then it slipped my mind. I'll DM you my author email address, you send me yours, and we can exchange stories that way. ✍️😊\n",
            "1493970609260355585 2022-02-16 15:28:44 +0000 <yellowcover_> @luccas755 Juro, eles simplesmente falaram \"ah o professor de matemática tá com suspeita de covid então vcs vão sair 10:00. Não pode ficar no colégio, vão para rua\". Mas foi mt bom\n",
            "1493970609050636288 2022-02-16 15:28:44 +0000 <MrsKaryMiller> @UBSArena hey what are your COVID policies for concerts? Is proof of vaccine needed still after the mask and box lift?\n",
            "1493970609046528006 2022-02-16 15:28:44 +0000 <tmitchell555> You are the beneficiary of a “freaking miracle”!  Why Covid-19 vaccines are a freaking miracle  https://t.co/EL4dxOOKK1 via @statnews\n",
            "1493970609046495233 2022-02-16 15:28:44 +0000 <BartenEM> In Amerika is een arts aangeklaagd die - zonder dat zij daarvoor toestemming gaven - extreem hoge doseringen #ivermectine voorschreef aan gevangen met COVID-19.  Er is geen bewijs voor de werkzaamheid van ivermectine bij corona-infecties.   https://t.co/lC5f0yTJ54\n"
          ]
        },
        {
          "output_type": "error",
          "ename": "KeyboardInterrupt",
          "evalue": "ignored",
          "traceback": [
            "\u001b[0;31m---------------------------------------------------------------------------\u001b[0m",
            "\u001b[0;31mKeyboardInterrupt\u001b[0m                         Traceback (most recent call last)",
            "\u001b[0;32m<ipython-input-13-d34480e45225>\u001b[0m in \u001b[0;36m<module>\u001b[0;34m()\u001b[0m\n\u001b[1;32m      3\u001b[0m \u001b[0mc\u001b[0m\u001b[0;34m.\u001b[0m\u001b[0mStore_json\u001b[0m \u001b[0;34m=\u001b[0m \u001b[0;32mTrue\u001b[0m\u001b[0;34m\u001b[0m\u001b[0;34m\u001b[0m\u001b[0m\n\u001b[1;32m      4\u001b[0m \u001b[0mc\u001b[0m\u001b[0;34m.\u001b[0m\u001b[0mOutput\u001b[0m \u001b[0;34m=\u001b[0m \u001b[0;34m\"/content/drive/MyDrive/Capstone/data/tweety.json\"\u001b[0m\u001b[0;34m\u001b[0m\u001b[0;34m\u001b[0m\u001b[0m\n\u001b[0;32m----> 5\u001b[0;31m \u001b[0mtwint\u001b[0m\u001b[0;34m.\u001b[0m\u001b[0mrun\u001b[0m\u001b[0;34m.\u001b[0m\u001b[0mSearch\u001b[0m\u001b[0;34m(\u001b[0m\u001b[0mc\u001b[0m\u001b[0;34m)\u001b[0m\u001b[0;34m\u001b[0m\u001b[0;34m\u001b[0m\u001b[0m\n\u001b[0m",
            "\u001b[0;32m/content/src/twint/twint/run.py\u001b[0m in \u001b[0;36mSearch\u001b[0;34m(config, callback)\u001b[0m\n\u001b[1;32m    408\u001b[0m     \u001b[0mconfig\u001b[0m\u001b[0;34m.\u001b[0m\u001b[0mFollowers\u001b[0m \u001b[0;34m=\u001b[0m \u001b[0;32mFalse\u001b[0m\u001b[0;34m\u001b[0m\u001b[0;34m\u001b[0m\u001b[0m\n\u001b[1;32m    409\u001b[0m     \u001b[0mconfig\u001b[0m\u001b[0;34m.\u001b[0m\u001b[0mProfile\u001b[0m \u001b[0;34m=\u001b[0m \u001b[0;32mFalse\u001b[0m\u001b[0;34m\u001b[0m\u001b[0;34m\u001b[0m\u001b[0m\n\u001b[0;32m--> 410\u001b[0;31m     \u001b[0mrun\u001b[0m\u001b[0;34m(\u001b[0m\u001b[0mconfig\u001b[0m\u001b[0;34m,\u001b[0m \u001b[0mcallback\u001b[0m\u001b[0;34m)\u001b[0m\u001b[0;34m\u001b[0m\u001b[0;34m\u001b[0m\u001b[0m\n\u001b[0m\u001b[1;32m    411\u001b[0m     \u001b[0;32mif\u001b[0m \u001b[0mconfig\u001b[0m\u001b[0;34m.\u001b[0m\u001b[0mPandas_au\u001b[0m\u001b[0;34m:\u001b[0m\u001b[0;34m\u001b[0m\u001b[0;34m\u001b[0m\u001b[0m\n\u001b[1;32m    412\u001b[0m         \u001b[0mstorage\u001b[0m\u001b[0;34m.\u001b[0m\u001b[0mpanda\u001b[0m\u001b[0;34m.\u001b[0m\u001b[0m_autoget\u001b[0m\u001b[0;34m(\u001b[0m\u001b[0;34m\"tweet\"\u001b[0m\u001b[0;34m)\u001b[0m\u001b[0;34m\u001b[0m\u001b[0;34m\u001b[0m\u001b[0m\n",
            "\u001b[0;32m/content/src/twint/twint/run.py\u001b[0m in \u001b[0;36mrun\u001b[0;34m(config, callback)\u001b[0m\n\u001b[1;32m    327\u001b[0m         \u001b[0;32mraise\u001b[0m\u001b[0;34m\u001b[0m\u001b[0;34m\u001b[0m\u001b[0m\n\u001b[1;32m    328\u001b[0m \u001b[0;34m\u001b[0m\u001b[0m\n\u001b[0;32m--> 329\u001b[0;31m     \u001b[0mget_event_loop\u001b[0m\u001b[0;34m(\u001b[0m\u001b[0;34m)\u001b[0m\u001b[0;34m.\u001b[0m\u001b[0mrun_until_complete\u001b[0m\u001b[0;34m(\u001b[0m\u001b[0mTwint\u001b[0m\u001b[0;34m(\u001b[0m\u001b[0mconfig\u001b[0m\u001b[0;34m)\u001b[0m\u001b[0;34m.\u001b[0m\u001b[0mmain\u001b[0m\u001b[0;34m(\u001b[0m\u001b[0mcallback\u001b[0m\u001b[0;34m)\u001b[0m\u001b[0;34m)\u001b[0m\u001b[0;34m\u001b[0m\u001b[0;34m\u001b[0m\u001b[0m\n\u001b[0m\u001b[1;32m    330\u001b[0m \u001b[0;34m\u001b[0m\u001b[0m\n\u001b[1;32m    331\u001b[0m \u001b[0;34m\u001b[0m\u001b[0m\n",
            "\u001b[0;32m/usr/local/lib/python3.7/dist-packages/nest_asyncio.py\u001b[0m in \u001b[0;36mrun_until_complete\u001b[0;34m(self, future)\u001b[0m\n\u001b[1;32m     73\u001b[0m                 \u001b[0mf\u001b[0m\u001b[0;34m.\u001b[0m\u001b[0m_log_destroy_pending\u001b[0m \u001b[0;34m=\u001b[0m \u001b[0;32mFalse\u001b[0m\u001b[0;34m\u001b[0m\u001b[0;34m\u001b[0m\u001b[0m\n\u001b[1;32m     74\u001b[0m             \u001b[0;32mwhile\u001b[0m \u001b[0;32mnot\u001b[0m \u001b[0mf\u001b[0m\u001b[0;34m.\u001b[0m\u001b[0mdone\u001b[0m\u001b[0;34m(\u001b[0m\u001b[0;34m)\u001b[0m\u001b[0;34m:\u001b[0m\u001b[0;34m\u001b[0m\u001b[0;34m\u001b[0m\u001b[0m\n\u001b[0;32m---> 75\u001b[0;31m                 \u001b[0mself\u001b[0m\u001b[0;34m.\u001b[0m\u001b[0m_run_once\u001b[0m\u001b[0;34m(\u001b[0m\u001b[0;34m)\u001b[0m\u001b[0;34m\u001b[0m\u001b[0;34m\u001b[0m\u001b[0m\n\u001b[0m\u001b[1;32m     76\u001b[0m                 \u001b[0;32mif\u001b[0m \u001b[0mself\u001b[0m\u001b[0;34m.\u001b[0m\u001b[0m_stopping\u001b[0m\u001b[0;34m:\u001b[0m\u001b[0;34m\u001b[0m\u001b[0;34m\u001b[0m\u001b[0m\n\u001b[1;32m     77\u001b[0m                     \u001b[0;32mbreak\u001b[0m\u001b[0;34m\u001b[0m\u001b[0;34m\u001b[0m\u001b[0m\n",
            "\u001b[0;32m/usr/local/lib/python3.7/dist-packages/nest_asyncio.py\u001b[0m in \u001b[0;36m_run_once\u001b[0;34m(self)\u001b[0m\n\u001b[1;32m     96\u001b[0m                 scheduled[0]._when - self.time(), 0), 86400) if scheduled\n\u001b[1;32m     97\u001b[0m             else None)\n\u001b[0;32m---> 98\u001b[0;31m         \u001b[0mevent_list\u001b[0m \u001b[0;34m=\u001b[0m \u001b[0mself\u001b[0m\u001b[0;34m.\u001b[0m\u001b[0m_selector\u001b[0m\u001b[0;34m.\u001b[0m\u001b[0mselect\u001b[0m\u001b[0;34m(\u001b[0m\u001b[0mtimeout\u001b[0m\u001b[0;34m)\u001b[0m\u001b[0;34m\u001b[0m\u001b[0;34m\u001b[0m\u001b[0m\n\u001b[0m\u001b[1;32m     99\u001b[0m         \u001b[0mself\u001b[0m\u001b[0;34m.\u001b[0m\u001b[0m_process_events\u001b[0m\u001b[0;34m(\u001b[0m\u001b[0mevent_list\u001b[0m\u001b[0;34m)\u001b[0m\u001b[0;34m\u001b[0m\u001b[0;34m\u001b[0m\u001b[0m\n\u001b[1;32m    100\u001b[0m \u001b[0;34m\u001b[0m\u001b[0m\n",
            "\u001b[0;32m/usr/lib/python3.7/selectors.py\u001b[0m in \u001b[0;36mselect\u001b[0;34m(self, timeout)\u001b[0m\n\u001b[1;32m    466\u001b[0m             \u001b[0mready\u001b[0m \u001b[0;34m=\u001b[0m \u001b[0;34m[\u001b[0m\u001b[0;34m]\u001b[0m\u001b[0;34m\u001b[0m\u001b[0;34m\u001b[0m\u001b[0m\n\u001b[1;32m    467\u001b[0m             \u001b[0;32mtry\u001b[0m\u001b[0;34m:\u001b[0m\u001b[0;34m\u001b[0m\u001b[0;34m\u001b[0m\u001b[0m\n\u001b[0;32m--> 468\u001b[0;31m                 \u001b[0mfd_event_list\u001b[0m \u001b[0;34m=\u001b[0m \u001b[0mself\u001b[0m\u001b[0;34m.\u001b[0m\u001b[0m_selector\u001b[0m\u001b[0;34m.\u001b[0m\u001b[0mpoll\u001b[0m\u001b[0;34m(\u001b[0m\u001b[0mtimeout\u001b[0m\u001b[0;34m,\u001b[0m \u001b[0mmax_ev\u001b[0m\u001b[0;34m)\u001b[0m\u001b[0;34m\u001b[0m\u001b[0;34m\u001b[0m\u001b[0m\n\u001b[0m\u001b[1;32m    469\u001b[0m             \u001b[0;32mexcept\u001b[0m \u001b[0mInterruptedError\u001b[0m\u001b[0;34m:\u001b[0m\u001b[0;34m\u001b[0m\u001b[0;34m\u001b[0m\u001b[0m\n\u001b[1;32m    470\u001b[0m                 \u001b[0;32mreturn\u001b[0m \u001b[0mready\u001b[0m\u001b[0;34m\u001b[0m\u001b[0;34m\u001b[0m\u001b[0m\n",
            "\u001b[0;31mKeyboardInterrupt\u001b[0m: "
          ]
        }
      ]
    },
    {
      "cell_type": "code",
      "source": [
        "import pandas as pd\n"
      ],
      "metadata": {
        "id": "_fPlMpvkCr4x"
      },
      "execution_count": null,
      "outputs": []
    },
    {
      "cell_type": "code",
      "source": [
        "dataset = pd.read_json(\"/content/drive/MyDrive/Capstone/data/tweety.json\")"
      ],
      "metadata": {
        "colab": {
          "base_uri": "https://localhost:8080/",
          "height": 311
        },
        "id": "HsTUeO0qE1aR",
        "outputId": "d1f5056f-c8ac-44d6-b0f7-f9150e2917ca"
      },
      "execution_count": null,
      "outputs": [
        {
          "output_type": "error",
          "ename": "ValueError",
          "evalue": "ignored",
          "traceback": [
            "\u001b[0;31m---------------------------------------------------------------------------\u001b[0m",
            "\u001b[0;31mValueError\u001b[0m                                Traceback (most recent call last)",
            "\u001b[0;32m<ipython-input-4-67ba59c66849>\u001b[0m in \u001b[0;36m<module>\u001b[0;34m()\u001b[0m\n\u001b[0;32m----> 1\u001b[0;31m \u001b[0mdataset\u001b[0m \u001b[0;34m=\u001b[0m \u001b[0mpd\u001b[0m\u001b[0;34m.\u001b[0m\u001b[0mread_json\u001b[0m\u001b[0;34m(\u001b[0m\u001b[0;34m\"/content/drive/MyDrive/Capstone/data/tweety.json\"\u001b[0m\u001b[0;34m)\u001b[0m\u001b[0;34m\u001b[0m\u001b[0;34m\u001b[0m\u001b[0m\n\u001b[0m",
            "\u001b[0;32m/usr/local/lib/python3.7/dist-packages/pandas/util/_decorators.py\u001b[0m in \u001b[0;36mwrapper\u001b[0;34m(*args, **kwargs)\u001b[0m\n\u001b[1;32m    205\u001b[0m                 \u001b[0;32melse\u001b[0m\u001b[0;34m:\u001b[0m\u001b[0;34m\u001b[0m\u001b[0;34m\u001b[0m\u001b[0m\n\u001b[1;32m    206\u001b[0m                     \u001b[0mkwargs\u001b[0m\u001b[0;34m[\u001b[0m\u001b[0mnew_arg_name\u001b[0m\u001b[0;34m]\u001b[0m \u001b[0;34m=\u001b[0m \u001b[0mnew_arg_value\u001b[0m\u001b[0;34m\u001b[0m\u001b[0;34m\u001b[0m\u001b[0m\n\u001b[0;32m--> 207\u001b[0;31m             \u001b[0;32mreturn\u001b[0m \u001b[0mfunc\u001b[0m\u001b[0;34m(\u001b[0m\u001b[0;34m*\u001b[0m\u001b[0margs\u001b[0m\u001b[0;34m,\u001b[0m \u001b[0;34m**\u001b[0m\u001b[0mkwargs\u001b[0m\u001b[0;34m)\u001b[0m\u001b[0;34m\u001b[0m\u001b[0;34m\u001b[0m\u001b[0m\n\u001b[0m\u001b[1;32m    208\u001b[0m \u001b[0;34m\u001b[0m\u001b[0m\n\u001b[1;32m    209\u001b[0m         \u001b[0;32mreturn\u001b[0m \u001b[0mcast\u001b[0m\u001b[0;34m(\u001b[0m\u001b[0mF\u001b[0m\u001b[0;34m,\u001b[0m \u001b[0mwrapper\u001b[0m\u001b[0;34m)\u001b[0m\u001b[0;34m\u001b[0m\u001b[0;34m\u001b[0m\u001b[0m\n",
            "\u001b[0;32m/usr/local/lib/python3.7/dist-packages/pandas/util/_decorators.py\u001b[0m in \u001b[0;36mwrapper\u001b[0;34m(*args, **kwargs)\u001b[0m\n\u001b[1;32m    309\u001b[0m                     \u001b[0mstacklevel\u001b[0m\u001b[0;34m=\u001b[0m\u001b[0mstacklevel\u001b[0m\u001b[0;34m,\u001b[0m\u001b[0;34m\u001b[0m\u001b[0;34m\u001b[0m\u001b[0m\n\u001b[1;32m    310\u001b[0m                 )\n\u001b[0;32m--> 311\u001b[0;31m             \u001b[0;32mreturn\u001b[0m \u001b[0mfunc\u001b[0m\u001b[0;34m(\u001b[0m\u001b[0;34m*\u001b[0m\u001b[0margs\u001b[0m\u001b[0;34m,\u001b[0m \u001b[0;34m**\u001b[0m\u001b[0mkwargs\u001b[0m\u001b[0;34m)\u001b[0m\u001b[0;34m\u001b[0m\u001b[0;34m\u001b[0m\u001b[0m\n\u001b[0m\u001b[1;32m    312\u001b[0m \u001b[0;34m\u001b[0m\u001b[0m\n\u001b[1;32m    313\u001b[0m         \u001b[0;32mreturn\u001b[0m \u001b[0mwrapper\u001b[0m\u001b[0;34m\u001b[0m\u001b[0;34m\u001b[0m\u001b[0m\n",
            "\u001b[0;32m/usr/local/lib/python3.7/dist-packages/pandas/io/json/_json.py\u001b[0m in \u001b[0;36mread_json\u001b[0;34m(path_or_buf, orient, typ, dtype, convert_axes, convert_dates, keep_default_dates, numpy, precise_float, date_unit, encoding, encoding_errors, lines, chunksize, compression, nrows, storage_options)\u001b[0m\n\u001b[1;32m    612\u001b[0m \u001b[0;34m\u001b[0m\u001b[0m\n\u001b[1;32m    613\u001b[0m     \u001b[0;32mwith\u001b[0m \u001b[0mjson_reader\u001b[0m\u001b[0;34m:\u001b[0m\u001b[0;34m\u001b[0m\u001b[0;34m\u001b[0m\u001b[0m\n\u001b[0;32m--> 614\u001b[0;31m         \u001b[0;32mreturn\u001b[0m \u001b[0mjson_reader\u001b[0m\u001b[0;34m.\u001b[0m\u001b[0mread\u001b[0m\u001b[0;34m(\u001b[0m\u001b[0;34m)\u001b[0m\u001b[0;34m\u001b[0m\u001b[0;34m\u001b[0m\u001b[0m\n\u001b[0m\u001b[1;32m    615\u001b[0m \u001b[0;34m\u001b[0m\u001b[0m\n\u001b[1;32m    616\u001b[0m \u001b[0;34m\u001b[0m\u001b[0m\n",
            "\u001b[0;32m/usr/local/lib/python3.7/dist-packages/pandas/io/json/_json.py\u001b[0m in \u001b[0;36mread\u001b[0;34m(self)\u001b[0m\n\u001b[1;32m    746\u001b[0m                 \u001b[0mobj\u001b[0m \u001b[0;34m=\u001b[0m \u001b[0mself\u001b[0m\u001b[0;34m.\u001b[0m\u001b[0m_get_object_parser\u001b[0m\u001b[0;34m(\u001b[0m\u001b[0mself\u001b[0m\u001b[0;34m.\u001b[0m\u001b[0m_combine_lines\u001b[0m\u001b[0;34m(\u001b[0m\u001b[0mdata_lines\u001b[0m\u001b[0;34m)\u001b[0m\u001b[0;34m)\u001b[0m\u001b[0;34m\u001b[0m\u001b[0;34m\u001b[0m\u001b[0m\n\u001b[1;32m    747\u001b[0m         \u001b[0;32melse\u001b[0m\u001b[0;34m:\u001b[0m\u001b[0;34m\u001b[0m\u001b[0;34m\u001b[0m\u001b[0m\n\u001b[0;32m--> 748\u001b[0;31m             \u001b[0mobj\u001b[0m \u001b[0;34m=\u001b[0m \u001b[0mself\u001b[0m\u001b[0;34m.\u001b[0m\u001b[0m_get_object_parser\u001b[0m\u001b[0;34m(\u001b[0m\u001b[0mself\u001b[0m\u001b[0;34m.\u001b[0m\u001b[0mdata\u001b[0m\u001b[0;34m)\u001b[0m\u001b[0;34m\u001b[0m\u001b[0;34m\u001b[0m\u001b[0m\n\u001b[0m\u001b[1;32m    749\u001b[0m         \u001b[0mself\u001b[0m\u001b[0;34m.\u001b[0m\u001b[0mclose\u001b[0m\u001b[0;34m(\u001b[0m\u001b[0;34m)\u001b[0m\u001b[0;34m\u001b[0m\u001b[0;34m\u001b[0m\u001b[0m\n\u001b[1;32m    750\u001b[0m         \u001b[0;32mreturn\u001b[0m \u001b[0mobj\u001b[0m\u001b[0;34m\u001b[0m\u001b[0;34m\u001b[0m\u001b[0m\n",
            "\u001b[0;32m/usr/local/lib/python3.7/dist-packages/pandas/io/json/_json.py\u001b[0m in \u001b[0;36m_get_object_parser\u001b[0;34m(self, json)\u001b[0m\n\u001b[1;32m    768\u001b[0m         \u001b[0mobj\u001b[0m \u001b[0;34m=\u001b[0m \u001b[0;32mNone\u001b[0m\u001b[0;34m\u001b[0m\u001b[0;34m\u001b[0m\u001b[0m\n\u001b[1;32m    769\u001b[0m         \u001b[0;32mif\u001b[0m \u001b[0mtyp\u001b[0m \u001b[0;34m==\u001b[0m \u001b[0;34m\"frame\"\u001b[0m\u001b[0;34m:\u001b[0m\u001b[0;34m\u001b[0m\u001b[0;34m\u001b[0m\u001b[0m\n\u001b[0;32m--> 770\u001b[0;31m             \u001b[0mobj\u001b[0m \u001b[0;34m=\u001b[0m \u001b[0mFrameParser\u001b[0m\u001b[0;34m(\u001b[0m\u001b[0mjson\u001b[0m\u001b[0;34m,\u001b[0m \u001b[0;34m**\u001b[0m\u001b[0mkwargs\u001b[0m\u001b[0;34m)\u001b[0m\u001b[0;34m.\u001b[0m\u001b[0mparse\u001b[0m\u001b[0;34m(\u001b[0m\u001b[0;34m)\u001b[0m\u001b[0;34m\u001b[0m\u001b[0;34m\u001b[0m\u001b[0m\n\u001b[0m\u001b[1;32m    771\u001b[0m \u001b[0;34m\u001b[0m\u001b[0m\n\u001b[1;32m    772\u001b[0m         \u001b[0;32mif\u001b[0m \u001b[0mtyp\u001b[0m \u001b[0;34m==\u001b[0m \u001b[0;34m\"series\"\u001b[0m \u001b[0;32mor\u001b[0m \u001b[0mobj\u001b[0m \u001b[0;32mis\u001b[0m \u001b[0;32mNone\u001b[0m\u001b[0;34m:\u001b[0m\u001b[0;34m\u001b[0m\u001b[0;34m\u001b[0m\u001b[0m\n",
            "\u001b[0;32m/usr/local/lib/python3.7/dist-packages/pandas/io/json/_json.py\u001b[0m in \u001b[0;36mparse\u001b[0;34m(self)\u001b[0m\n\u001b[1;32m    883\u001b[0m \u001b[0;34m\u001b[0m\u001b[0m\n\u001b[1;32m    884\u001b[0m         \u001b[0;32melse\u001b[0m\u001b[0;34m:\u001b[0m\u001b[0;34m\u001b[0m\u001b[0;34m\u001b[0m\u001b[0m\n\u001b[0;32m--> 885\u001b[0;31m             \u001b[0mself\u001b[0m\u001b[0;34m.\u001b[0m\u001b[0m_parse_no_numpy\u001b[0m\u001b[0;34m(\u001b[0m\u001b[0;34m)\u001b[0m\u001b[0;34m\u001b[0m\u001b[0;34m\u001b[0m\u001b[0m\n\u001b[0m\u001b[1;32m    886\u001b[0m \u001b[0;34m\u001b[0m\u001b[0m\n\u001b[1;32m    887\u001b[0m         \u001b[0;32mif\u001b[0m \u001b[0mself\u001b[0m\u001b[0;34m.\u001b[0m\u001b[0mobj\u001b[0m \u001b[0;32mis\u001b[0m \u001b[0;32mNone\u001b[0m\u001b[0;34m:\u001b[0m\u001b[0;34m\u001b[0m\u001b[0;34m\u001b[0m\u001b[0m\n",
            "\u001b[0;32m/usr/local/lib/python3.7/dist-packages/pandas/io/json/_json.py\u001b[0m in \u001b[0;36m_parse_no_numpy\u001b[0;34m(self)\u001b[0m\n\u001b[1;32m   1138\u001b[0m         \u001b[0;32mif\u001b[0m \u001b[0morient\u001b[0m \u001b[0;34m==\u001b[0m \u001b[0;34m\"columns\"\u001b[0m\u001b[0;34m:\u001b[0m\u001b[0;34m\u001b[0m\u001b[0;34m\u001b[0m\u001b[0m\n\u001b[1;32m   1139\u001b[0m             self.obj = DataFrame(\n\u001b[0;32m-> 1140\u001b[0;31m                 \u001b[0mloads\u001b[0m\u001b[0;34m(\u001b[0m\u001b[0mjson\u001b[0m\u001b[0;34m,\u001b[0m \u001b[0mprecise_float\u001b[0m\u001b[0;34m=\u001b[0m\u001b[0mself\u001b[0m\u001b[0;34m.\u001b[0m\u001b[0mprecise_float\u001b[0m\u001b[0;34m)\u001b[0m\u001b[0;34m,\u001b[0m \u001b[0mdtype\u001b[0m\u001b[0;34m=\u001b[0m\u001b[0;32mNone\u001b[0m\u001b[0;34m\u001b[0m\u001b[0;34m\u001b[0m\u001b[0m\n\u001b[0m\u001b[1;32m   1141\u001b[0m             )\n\u001b[1;32m   1142\u001b[0m         \u001b[0;32melif\u001b[0m \u001b[0morient\u001b[0m \u001b[0;34m==\u001b[0m \u001b[0;34m\"split\"\u001b[0m\u001b[0;34m:\u001b[0m\u001b[0;34m\u001b[0m\u001b[0;34m\u001b[0m\u001b[0m\n",
            "\u001b[0;31mValueError\u001b[0m: Trailing data"
          ]
        }
      ]
    },
    {
      "cell_type": "code",
      "source": [
        "data.head()"
      ],
      "metadata": {
        "colab": {
          "base_uri": "https://localhost:8080/",
          "height": 166
        },
        "id": "I5mFfA45C4N2",
        "outputId": "8f33d8c6-5df7-4c65-9056-c55e29bd76b0"
      },
      "execution_count": null,
      "outputs": [
        {
          "output_type": "error",
          "ename": "NameError",
          "evalue": "ignored",
          "traceback": [
            "\u001b[0;31m---------------------------------------------------------------------------\u001b[0m",
            "\u001b[0;31mNameError\u001b[0m                                 Traceback (most recent call last)",
            "\u001b[0;32m<ipython-input-17-304fa4ce4ebd>\u001b[0m in \u001b[0;36m<module>\u001b[0;34m()\u001b[0m\n\u001b[0;32m----> 1\u001b[0;31m \u001b[0mdata\u001b[0m\u001b[0;34m.\u001b[0m\u001b[0mhead\u001b[0m\u001b[0;34m(\u001b[0m\u001b[0;34m)\u001b[0m\u001b[0;34m\u001b[0m\u001b[0;34m\u001b[0m\u001b[0m\n\u001b[0m",
            "\u001b[0;31mNameError\u001b[0m: name 'data' is not defined"
          ]
        }
      ]
    },
    {
      "cell_type": "code",
      "source": [
        "c.Search = \"covid\"\n",
        "# Custom output format\n",
        "\n",
        "c.Limit = 10\n",
        "# c.media = True\n",
        "c.Lang = \"en\"\n",
        "# c.Location = True\n",
        "# c.Since = \"2022-02-01\""
      ],
      "metadata": {
        "id": "pp5HhyS5lF1I"
      },
      "execution_count": null,
      "outputs": []
    },
    {
      "cell_type": "code",
      "source": [
        "twint.run.Search(c)"
      ],
      "metadata": {
        "colab": {
          "base_uri": "https://localhost:8080/"
        },
        "id": "HAcZjEWplZi2",
        "outputId": "bb76821d-da99-45c8-aff6-8d1be17494de"
      },
      "execution_count": null,
      "outputs": [
        {
          "output_type": "stream",
          "name": "stdout",
          "text": [
            "1493864271129812993 2022-02-16 08:26:11 +0000 <secretspartacus> @Lewy_B_2013 @IndependentSage You don’t think though do you.  Some of us are not able to leave our homes, millions of people are housebound, even before Covid. Don’t judge others by your own narrow experience of life.\n",
            "1493864270173462530 2022-02-16 08:26:11 +0000 <ostro_v> Вакцинация от COVID-19: почти 600 тысяч украинцев получили бустерную дозу https://t.co/qBYPIOXsgC\n",
            "1493864267799576576 2022-02-16 08:26:10 +0000 <TheBembridge> @Otto_English @toastofworcesta @sevenpetri @JamesMelville Do your bit? I thought you were following the science. You being vaccinated does nothing to stop the spread of Covid.\n",
            "1493864266054651904 2022-02-16 08:26:10 +0000 <JdS_SK> L'OMS relève un recul notable des cas de Covid-19 à travers le monde  https://t.co/q3HnveRQ9z\n",
            "1493864265916289025 2022-02-16 08:26:10 +0000 <HealthSmartMe> Covid-19 news: US and UK delay next decisions on child vaccinations  https://t.co/uRNP2BC1nP  https://t.co/b6GyiotZ0i\n",
            "1493864265266208768 2022-02-16 08:26:10 +0000 <VosgesInfo88> Covid-19 : baisse du taux d’incidence, mais léger rebond des hospitalisations dans les Vosges -  https://t.co/mxGrg2ufu5  https://t.co/dj1fobgnbe\n",
            "1493864264666390529 2022-02-16 08:26:10 +0000 <barry16215524> @pooky787 @business Covid is over please learn to deal with it\n",
            "1493864263068356609 2022-02-16 08:26:09 +0000 <mjortiz1980> @JarradKevin @bariweiss Those Americans can get vaccinated. They can wear an N95. They can diet and hit the gym if they're obese or suffer other comorbidities that correlate with the majority of severe covid cases. We don't need to be held hostage for them to protect themselves. That's the science.\n",
            "1493864261571211265 2022-02-16 08:26:09 +0000 <DunnyDoorBandit> @Advance_Aust1 Inconclusive article mate, dated in December 2016 and they have not indicated Covid Vax, speculation. Sorry I do believe the jab has issues, but I have not seen anything yet that is conclusive, I follow facts and evidence.\n",
            "1493864260614737922 2022-02-16 08:26:09 +0000 <USTMUN> Hence, solidarity and coordination amongst all global actors and stakeholders to enkindle a more strengthened collective action is imperative to address and mitigate the impacts of the COVID-19 pandemic and be able to alleviate and aid in the restoration of a multitude of...  3/8  https://t.co/BQyeN1TNYH\n",
            "1493864260010930176 2022-02-16 08:26:08 +0000 <PaulMeekPerth> Hong Kong yesterday, 1619 confirmed covid cases, and another 5400 preliminary  Today TVB are reporting 4285 confirmed are expected, and 3000 prelim  Not having heard this category before are the prelims the ones that went in overnight?  Whatever their meaning, it's a DISASTER 😕\n",
            "1493864259037528065 2022-02-16 08:26:08 +0000 <AZuspan> @Elex_Michaelson Went to FL on vacay in Jan (we masked most didn’t), got COVID! I get notified my kids have been exposed at school least 3 different times a week. Know why they haven’t gotten COVID due to their exposure at school…EVERYONE has on masks!\n",
            "1493864257104064512 2022-02-16 08:26:08 +0000 <rossi_gianluigi> Secondo voi l’Italia non sarà un posto migliore senza il “contributo” di questi noti “geni”, saliti agli onori delle cronache per i clamorosi “successi” nelle proprie attività? #GianluigiParagone ⁦@virginiaraggi⁩ #MicheleGiarrusso #Covid #NoVax #Greenpass  https://t.co/6DezeHQxjC\n",
            "1493864255279542276 2022-02-16 08:26:07 +0000 <toffanin> \"Vaccination during pregnancy protects infants from being hospitalized for Covid, a new study suggests.\" BY EMILY ANTHES | NYT #Health  https://t.co/5W1yRnXuN9  https://t.co/xnNIhFcuir\n",
            "1493864255145197569 2022-02-16 08:26:07 +0000 <vy4zii> @andalasfess thank you senderr✨ lagi ketarketir takut bgt covid pt2👀\n",
            "1493864254142828546 2022-02-16 08:26:07 +0000 <ahmetisitez> Bill Gates’ten mRNA aşılarına ilişkin açıklama: Soğuk algınlığı ve gribi ortadan kaldıracak   Microsoft’un kurucu ortağı Bill Gates, katıldığı bir yayında mRNA aşılarının sadece Covid'i bitirmekle kalmayıp soğuk algınlığı ve gribi de ortadan kaldıracağın…  https://t.co/y68OeiUlIS\n",
            "1493864254025478147 2022-02-16 08:26:07 +0000 <2Luciapereez> covid 1-0 lucia\n",
            "1493864253971116034 2022-02-16 08:26:07 +0000 <consultants_acs> INFORMATIVE POST:  Do you know what were the most searched word definitions in UK in the last year i.e., 2021. . . . . Via: @guardian   - A Thread  #socialmediamarketing #socialmediamanager #covid_19 #blacklivesmatter #impeachment #woke #misogyny #emancipation #cop26 #cop119  https://t.co/gnz0R0xkAQ\n",
            "1493864253119516677 2022-02-16 08:26:07 +0000 <wanitaimpianmu> Waspada Terjangkit Covid Saat Hamil, Resiko Kerusakan Plasenta Bayi dalam Kandungan  https://t.co/xt0676T1hX\n",
            "1493864251353878531 2022-02-16 08:26:06 +0000 <peterp772000> @JuliaIrwinator @BoscaTravis @newscomauHQ Just like here, the actual number of people who died in the US with Covid was a fraction of the headline number.\n"
          ]
        }
      ]
    },
    {
      "cell_type": "code",
      "source": [
        "twint.output.tweets_list"
      ],
      "metadata": {
        "colab": {
          "base_uri": "https://localhost:8080/"
        },
        "id": "1ah_EscHl1SN",
        "outputId": "6ddcbbbb-aa8f-4105-9d4f-92c27b3beaae"
      },
      "execution_count": null,
      "outputs": [
        {
          "output_type": "execute_result",
          "data": {
            "text/plain": [
              "[]"
            ]
          },
          "metadata": {},
          "execution_count": 12
        }
      ]
    }
  ]
}
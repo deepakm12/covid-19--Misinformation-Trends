{
  "cells": [
    {
      "cell_type": "code",
      "execution_count": null,
      "metadata": {
        "colab": {
          "base_uri": "https://localhost:8080/"
        },
        "id": "LXaIyzBarBLf",
        "outputId": "309d6518-ef6d-4c09-9c41-92a86232cb45"
      },
      "outputs": [
        {
          "output_type": "stream",
          "name": "stdout",
          "text": [
            "Collecting wget\n",
            "  Downloading wget-3.2.zip (10 kB)\n",
            "Building wheels for collected packages: wget\n",
            "  Building wheel for wget (setup.py) ... \u001b[?25l\u001b[?25hdone\n",
            "  Created wheel for wget: filename=wget-3.2-py3-none-any.whl size=9675 sha256=5d76e4b2698622e848993e2c5b023fa00cc112852858a126a5241d0df6c6771f\n",
            "  Stored in directory: /root/.cache/pip/wheels/a1/b6/7c/0e63e34eb06634181c63adacca38b79ff8f35c37e3c13e3c02\n",
            "Successfully built wget\n",
            "Installing collected packages: wget\n",
            "Successfully installed wget-3.2\n"
          ]
        }
      ],
      "source": [
        "!pip install wget"
      ]
    },
    {
      "cell_type": "code",
      "source": [
        "from google.colab import drive\n",
        "drive.mount('/content/drive')"
      ],
      "metadata": {
        "colab": {
          "base_uri": "https://localhost:8080/"
        },
        "id": "v4BMeOeGUAOH",
        "outputId": "e1e92081-3bc2-456f-d068-c45ec6eaa53a"
      },
      "execution_count": null,
      "outputs": [
        {
          "output_type": "stream",
          "name": "stdout",
          "text": [
            "Drive already mounted at /content/drive; to attempt to forcibly remount, call drive.mount(\"/content/drive\", force_remount=True).\n"
          ]
        }
      ]
    },
    {
      "cell_type": "code",
      "execution_count": null,
      "metadata": {
        "id": "SiJ1K5esq29I"
      },
      "outputs": [],
      "source": [
        "import gzip\n",
        "import shutil\n",
        "import os\n",
        "import wget\n",
        "\n",
        "import csv\n",
        "import linecache\n",
        "from shutil import copyfile\n",
        "import numpy as np\n",
        "import pandas as pd\n",
        "import time"
      ]
    },
    {
      "cell_type": "code",
      "execution_count": null,
      "metadata": {
        "id": "H3plQagD63hh"
      },
      "outputs": [],
      "source": [
        ""
      ]
    },
    {
      "cell_type": "markdown",
      "metadata": {
        "id": "gaNH0g1beNmW"
      },
      "source": [
        "April"
      ]
    },
    {
      "cell_type": "code",
      "execution_count": null,
      "metadata": {
        "id": "eH4byzBLA95U"
      },
      "outputs": [],
      "source": [
        "li = []\n",
        "for i in range(1, 31):\n",
        "  if(i<10):\n",
        "    li.append(\"0\"+str(i))\n",
        "  else:\n",
        "    li.append(str(i))"
      ]
    },
    {
      "cell_type": "code",
      "execution_count": null,
      "metadata": {
        "id": "Okr63sZbA95Z"
      },
      "outputs": [],
      "source": [
        "#data downloading\n",
        "for date in li:\n",
        "  date = str(date)\n",
        "  dataset_URL = \"https://github.com/thepanacealab/covid19_twitter/blob/master/dailies/2020-04-\"+date+\"/2020-04-\"+date+\"_clean-dataset.tsv.gz?raw=true\"\n",
        "  os.mkdir('/content/drive/MyDrive/Covid19/April2020/'+date+'april')\n",
        "  wget.download(dataset_URL, out='/content/drive/MyDrive/Covid19/April2020/'+date+'april'+'/dataset.tsv.gz')\n",
        "\n",
        "  with gzip.open('/content/drive/MyDrive/Covid19/April2020/'+date+'april'+'/dataset.tsv.gz', 'rb') as f_in:\n",
        "      with open('/content/drive/MyDrive/Covid19/April2020/'+date+'april'+'/dataset.tsv', 'wb') as f_out:\n",
        "          shutil.copyfileobj(f_in, f_out)\n",
        "\n",
        "  os.unlink('/content/drive/MyDrive/Covid19/April2020/'+date+'april'+'/dataset.tsv.gz')\n",
        "\n",
        "\n",
        "  #english language filtering and location filtering\n",
        "  filtered_language = 'en'\n",
        "  filtered_tw = list()\n",
        "  current_line = 1\n",
        "  with open('/content/drive/MyDrive/Covid19/April2020/'+date+'april'+'/dataset.tsv') as tsvfile:\n",
        "    tsvreader = csv.reader(tsvfile, delimiter=\"\\t\")\n",
        "\n",
        "    if current_line == 1:\n",
        "      filtered_tw.append(linecache.getline('/content/drive/MyDrive/Covid19/April2020/'+date+'april'+'/dataset.tsv', current_line))\n",
        "\n",
        "      for line in tsvreader:\n",
        "        # print(line[2])\n",
        "        # if line[3] == filtered_language and line[4]!=\"NULL\":\n",
        "        filtered_tw.append(linecache.getline('/content/drive/MyDrive/Covid19/April2020/'+date+'april'+'/dataset.tsv', current_line))\n",
        "        current_line += 1\n",
        "        if current_line==10000:  break\n",
        "    with open('/content/drive/MyDrive/Covid19/April2020/'+date+'april'+'/dataset.tsv', 'w') as f_output:\n",
        "        for item in filtered_tw:\n",
        "            f_output.write(item)\n",
        "\n",
        "  \n"
      ]
    },
    {
      "cell_type": "code",
      "execution_count": null,
      "metadata": {
        "id": "9zKleR7JA95b"
      },
      "outputs": [],
      "source": [
        "for i in li:\n",
        "  os.chdir('/content/drive/MyDrive/Covid19/April2020/'+i+'april')\n",
        "  time.sleep(1)\n",
        "  !python /content/drive/MyDrive/Covid19/April2020/get_metadata.py -i dataset.tsv  -o dataset_hydrated.tsv  -k /content/drive/MyDrive/Capstone/misinformation/coviddata/api_keys.json -m e\n",
        "  print(i)\n"
      ]
    },
    {
      "cell_type": "code",
      "execution_count": null,
      "metadata": {
        "id": "8niEkPXqQgnv"
      },
      "outputs": [],
      "source": [
        "import pandas as pd"
      ]
    },
    {
      "cell_type": "code",
      "execution_count": null,
      "metadata": {
        "id": "cNIoGUCSU7yR"
      },
      "outputs": [],
      "source": [
        "data = pd.read_csv('/content/drive/MyDrive/Capstone/misinformation/coviddata/Covid2021.csv')"
      ]
    },
    {
      "cell_type": "code",
      "source": [
        ""
      ],
      "metadata": {
        "id": "9Ig1Lkq7ILz5"
      },
      "execution_count": null,
      "outputs": []
    },
    {
      "cell_type": "code",
      "source": [
        "data.count()"
      ],
      "metadata": {
        "id": "Z06TYyf27mk5"
      },
      "execution_count": null,
      "outputs": []
    },
    {
      "cell_type": "code",
      "source": [
        "data['is_retweet'].value_counts()"
      ],
      "metadata": {
        "id": "5sJkkbtS7s-A",
        "colab": {
          "base_uri": "https://localhost:8080/"
        },
        "outputId": "e648533b-7e4c-49da-89a0-1fa9a07e223b"
      },
      "execution_count": null,
      "outputs": [
        {
          "output_type": "execute_result",
          "data": {
            "text/plain": [
              "False         966485\n",
              "True            1888\n",
              "is_retweet       344\n",
              "Name: is_retweet, dtype: int64"
            ]
          },
          "metadata": {},
          "execution_count": 8
        }
      ]
    },
    {
      "cell_type": "code",
      "execution_count": null,
      "metadata": {
        "id": "PTEiY3VMnaZr"
      },
      "outputs": [],
      "source": [
        "data.head(1000)"
      ]
    },
    {
      "cell_type": "code",
      "execution_count": null,
      "metadata": {
        "colab": {
          "base_uri": "https://localhost:8080/",
          "height": 36
        },
        "id": "wFYiJZ3Hnhzh",
        "outputId": "2d459872-554e-46cb-9a45-b227b230c221"
      },
      "outputs": [
        {
          "data": {
            "application/vnd.google.colaboratory.intrinsic+json": {
              "type": "string"
            },
            "text/plain": [
              "'Wed Apr 01 04:06:31 +0000 2020'"
            ]
          },
          "execution_count": 18,
          "metadata": {},
          "output_type": "execute_result"
        }
      ],
      "source": [
        "data['created_at'][6786]"
      ]
    },
    {
      "cell_type": "markdown",
      "source": [
        ""
      ],
      "metadata": {
        "id": "F1psBpBZ8q_v"
      }
    },
    {
      "cell_type": "code",
      "execution_count": null,
      "metadata": {
        "id": "XiUBgdfLngWo"
      },
      "outputs": [],
      "source": [
        "data['language'].value_counts()"
      ]
    },
    {
      "cell_type": "code",
      "execution_count": null,
      "metadata": {
        "colab": {
          "base_uri": "https://localhost:8080/"
        },
        "id": "bUawonc5VWk_",
        "outputId": "f35ca10a-e684-4a1b-8272-b52cbb3a7ec2"
      },
      "outputs": [
        {
          "output_type": "execute_result",
          "data": {
            "text/plain": [
              "id_str               118307\n",
              "favorite_count       118307\n",
              "language             118307\n",
              "text                 118307\n",
              "is_retweet           118307\n",
              "created_at           118307\n",
              "retweet_count        118307\n",
              "media                  4911\n",
              "country_code          15615\n",
              "country               15632\n",
              "lattitude               511\n",
              "longitude               511\n",
              "user_id              118307\n",
              "user_name            118290\n",
              "user_description      98704\n",
              "user_verification    118307\n",
              "user_followers       118307\n",
              "dtype: int64"
            ]
          },
          "metadata": {},
          "execution_count": 8
        }
      ],
      "source": [
        "data.count()"
      ]
    },
    {
      "cell_type": "code",
      "execution_count": null,
      "metadata": {
        "colab": {
          "base_uri": "https://localhost:8080/"
        },
        "id": "qSyabgAMRj-s",
        "outputId": "e47d87fd-39e6-4ee7-a5c3-a6ba09aa914f"
      },
      "outputs": [
        {
          "data": {
            "text/plain": [
              "(107348, 17)"
            ]
          },
          "execution_count": 8,
          "metadata": {},
          "output_type": "execute_result"
        }
      ],
      "source": [
        "data.shape"
      ]
    },
    {
      "cell_type": "markdown",
      "metadata": {
        "id": "plJcbTXtfN1Q"
      },
      "source": [
        "# May"
      ]
    },
    {
      "cell_type": "code",
      "execution_count": null,
      "metadata": {
        "id": "G3nxvh02fN1d"
      },
      "outputs": [],
      "source": [
        "li = []\n",
        "for i in range(1, 32):\n",
        "  if(i<10):\n",
        "    li.append(\"0\"+str(i))\n",
        "  else:\n",
        "    li.append(str(i))"
      ]
    },
    {
      "cell_type": "code",
      "execution_count": null,
      "metadata": {
        "id": "TeNo0cnkfN1h"
      },
      "outputs": [],
      "source": [
        "#data downloading\n",
        "for date in li:\n",
        "  date = str(date)\n",
        "  dataset_URL = \"https://github.com/thepanacealab/covid19_twitter/blob/master/dailies/2021-05-\"+date+\"/2021-05-\"+date+\"-dataset.tsv.gz?raw=true\"\n",
        "  os.mkdir('/content/drive/MyDrive/Capstone/misinformation/coviddata/'+date+'may')\n",
        "  wget.download(dataset_URL, out='/content/drive/MyDrive/Capstone/misinformation/coviddata/'+date+'may'+'/dataset.tsv.gz')\n",
        "\n",
        "  with gzip.open('/content/drive/MyDrive/Capstone/misinformation/coviddata/'+date+'may'+'/dataset.tsv.gz', 'rb') as f_in:\n",
        "      with open('/content/drive/MyDrive/Capstone/misinformation/coviddata/'+date+'may'+'/dataset.tsv', 'wb') as f_out:\n",
        "          shutil.copyfileobj(f_in, f_out)\n",
        "\n",
        "  os.unlink('/content/drive/MyDrive/Capstone/misinformation/coviddata/'+date+'may'+'/dataset.tsv.gz')\n",
        "\n",
        "\n",
        "  #english language filtering and location filtering\n",
        "  filtered_language = 'en'\n",
        "  filtered_tw = list()\n",
        "  current_line = 1\n",
        "  with open('/content/drive/MyDrive/Capstone/misinformation/coviddata/'+date+'may'+'/dataset.tsv') as tsvfile:\n",
        "    tsvreader = csv.reader(tsvfile, delimiter=\"\\t\")\n",
        "\n",
        "    if current_line == 1:\n",
        "      filtered_tw.append(linecache.getline('/content/drive/MyDrive/Capstone/misinformation/coviddata/'+date+'may'+'/dataset.tsv', current_line))\n",
        "\n",
        "      for line in tsvreader:\n",
        "        if line[3] == filtered_language and line[4]!=\"NULL\":\n",
        "          filtered_tw.append(linecache.getline('/content/drive/MyDrive/Capstone/misinformation/coviddata/'+date+'may'+'/dataset.tsv', current_line))\n",
        "        current_line += 1\n",
        "        # if current_line==20000:  break\n",
        "    with open('/content/drive/MyDrive/Capstone/misinformation/coviddata/'+date+'may'+'/dataset.tsv', 'w') as f_output:\n",
        "        for item in filtered_tw:\n",
        "            f_output.write(item)\n",
        "  \n"
      ]
    },
    {
      "cell_type": "code",
      "execution_count": null,
      "metadata": {
        "id": "24P5zYwnfN1j"
      },
      "outputs": [],
      "source": [
        "for i in li:\n",
        "  os.chdir('/content/drive/MyDrive/Capstone/misinformation/coviddata/'+i+'may')\n",
        "  time.sleep(1)\n",
        "  !python /content/drive/MyDrive/Capstone/misinformation/coviddata/get_metadata.py -i dataset.tsv  -o dataset_hydrated.tsv  -k /content/drive/MyDrive/Capstone/misinformation/coviddata/api_keys.json\n"
      ]
    },
    {
      "cell_type": "markdown",
      "metadata": {
        "id": "zBcNRneMfO9V"
      },
      "source": [
        "**June**"
      ]
    },
    {
      "cell_type": "code",
      "execution_count": null,
      "metadata": {
        "id": "wmrfXJApUr_d"
      },
      "outputs": [],
      "source": [
        ""
      ]
    },
    {
      "cell_type": "code",
      "execution_count": null,
      "metadata": {
        "id": "dihACmXwfO9Z"
      },
      "outputs": [],
      "source": [
        "li = []\n",
        "for i in range(1, 31):\n",
        "  if(i<10):\n",
        "    li.append(\"0\"+str(i))\n",
        "  else:\n",
        "    li.append(str(i))"
      ]
    },
    {
      "cell_type": "code",
      "execution_count": null,
      "metadata": {
        "id": "i2ZZj9E_fO9b"
      },
      "outputs": [],
      "source": [
        "#data downloading\n",
        "for date in li:\n",
        "  date = str(date)\n",
        "  dataset_URL = \"https://github.com/thepanacealab/covid19_twitter/blob/master/dailies/2021-06-\"+date+\"/2021-06-\"+date+\"-dataset.tsv.gz?raw=true\"\n",
        "  os.mkdir('/content/drive/MyDrive/Capstone/misinformation/coviddata/'+date+'june')\n",
        "  wget.download(dataset_URL, out='/content/drive/MyDrive/Capstone/misinformation/coviddata/'+date+'june'+'/dataset.tsv.gz')\n",
        "\n",
        "  with gzip.open('/content/drive/MyDrive/Capstone/misinformation/coviddata/'+date+'june'+'/dataset.tsv.gz', 'rb') as f_in:\n",
        "      with open('/content/drive/MyDrive/Capstone/misinformation/coviddata/'+date+'june'+'/dataset.tsv', 'wb') as f_out:\n",
        "          shutil.copyfileobj(f_in, f_out)\n",
        "\n",
        "  os.unlink('/content/drive/MyDrive/Capstone/misinformation/coviddata/'+date+'june'+'/dataset.tsv.gz')\n",
        "\n",
        "\n",
        "  #english language filtering and location filtering\n",
        "  filtered_language = 'en'\n",
        "  filtered_tw = list()\n",
        "  current_line = 1\n",
        "  with open('/content/drive/MyDrive/Capstone/misinformation/coviddata/'+date+'june'+'/dataset.tsv') as tsvfile:\n",
        "    tsvreader = csv.reader(tsvfile, delimiter=\"\\t\")\n",
        "\n",
        "    if current_line == 1:\n",
        "      filtered_tw.append(linecache.getline('/content/drive/MyDrive/Capstone/misinformation/coviddata/'+date+'june'+'/dataset.tsv', current_line))\n",
        "\n",
        "      for line in tsvreader:\n",
        "        if line[3] == filtered_language and line[4]!=\"NULL\":\n",
        "          filtered_tw.append(linecache.getline('/content/drive/MyDrive/Capstone/misinformation/coviddata/'+date+'june'+'/dataset.tsv', current_line))\n",
        "        current_line += 1\n",
        "        # if current_line==20000:  break\n",
        "    with open('/content/drive/MyDrive/Capstone/misinformation/coviddata/'+date+'june'+'/dataset.tsv', 'w') as f_output:\n",
        "        for item in filtered_tw:\n",
        "            f_output.write(item)\n",
        "  \n"
      ]
    },
    {
      "cell_type": "code",
      "execution_count": null,
      "metadata": {
        "id": "YJW1lFAxfO9c"
      },
      "outputs": [],
      "source": [
        "for i in li:\n",
        "  os.chdir('/content/drive/MyDrive/Capstone/misinformation/coviddata/'+i+'june')\n",
        "  time.sleep(1)\n",
        "  !python /content/drive/MyDrive/Capstone/misinformation/coviddata/get_metadata.py -i dataset.tsv  -o dataset_hydrated.tsv  -k /content/drive/MyDrive/Capstone/misinformation/coviddata/api_keys.json\n",
        "  print(i)\n"
      ]
    },
    {
      "cell_type": "code",
      "execution_count": null,
      "metadata": {
        "id": "WYLGLeO51Sih"
      },
      "outputs": [],
      "source": [
        "data =  pd.read_csv('/content/drive/MyDrive/Capstone/misinformation/coviddata/Covid_Data_20_21/Covid2020.csv')"
      ]
    },
    {
      "cell_type": "code",
      "execution_count": null,
      "metadata": {
        "colab": {
          "base_uri": "https://localhost:8080/"
        },
        "id": "dN2lFTmIT7KX",
        "outputId": "543adcbf-1942-4936-88b5-ed3eac1ff6a0"
      },
      "outputs": [
        {
          "data": {
            "text/plain": [
              "id_str               1030930\n",
              "favorite_count       1030930\n",
              "text                 1030930\n",
              "is_retweet           1030930\n",
              "created_at           1030930\n",
              "retweet_count        1030930\n",
              "media                  33698\n",
              "country_code         1026843\n",
              "country              1028077\n",
              "lattitude              34462\n",
              "longitude              34462\n",
              "user_id              1030930\n",
              "user_name            1030736\n",
              "user_description      958153\n",
              "user_verification    1030930\n",
              "user_followers       1030930\n",
              "dtype: int64"
            ]
          },
          "execution_count": 85,
          "metadata": {},
          "output_type": "execute_result"
        }
      ],
      "source": [
        "data.count()"
      ]
    },
    {
      "cell_type": "code",
      "execution_count": null,
      "metadata": {
        "colab": {
          "base_uri": "https://localhost:8080/"
        },
        "id": "p9diq4p9mQ2C",
        "outputId": "51c86bff-2941-4d98-cae8-642a6aa2335d"
      },
      "outputs": [
        {
          "data": {
            "text/plain": [
              "0          Sat Aug 01 04:05:27 +0000 2020\n",
              "1          Sat Aug 01 04:08:49 +0000 2020\n",
              "2          Sat Aug 01 04:01:53 +0000 2020\n",
              "3          Sat Aug 01 04:03:25 +0000 2020\n",
              "4          Sat Aug 01 04:05:22 +0000 2020\n",
              "                        ...              \n",
              "1030925    Thu Dec 31 04:34:51 +0000 2020\n",
              "1030926    Thu Dec 31 04:48:11 +0000 2020\n",
              "1030927    Thu Dec 31 04:32:02 +0000 2020\n",
              "1030928    Thu Dec 31 04:43:03 +0000 2020\n",
              "1030929    Thu Dec 31 04:36:20 +0000 2020\n",
              "Name: created_at, Length: 1030930, dtype: object"
            ]
          },
          "execution_count": 86,
          "metadata": {},
          "output_type": "execute_result"
        }
      ],
      "source": [
        "data['created_at']"
      ]
    },
    {
      "cell_type": "code",
      "execution_count": null,
      "metadata": {
        "colab": {
          "base_uri": "https://localhost:8080/",
          "height": 870
        },
        "id": "w1AYpwk-JIbu",
        "outputId": "4a27601f-eaea-4f05-f8bb-013ef3c9f723"
      },
      "outputs": [
        {
          "data": {
            "text/html": [
              "\n",
              "  <div id=\"df-6f082a1f-18c1-4d4a-8d78-8a5a36e9e009\">\n",
              "    <div class=\"colab-df-container\">\n",
              "      <div>\n",
              "<style scoped>\n",
              "    .dataframe tbody tr th:only-of-type {\n",
              "        vertical-align: middle;\n",
              "    }\n",
              "\n",
              "    .dataframe tbody tr th {\n",
              "        vertical-align: top;\n",
              "    }\n",
              "\n",
              "    .dataframe thead th {\n",
              "        text-align: right;\n",
              "    }\n",
              "</style>\n",
              "<table border=\"1\" class=\"dataframe\">\n",
              "  <thead>\n",
              "    <tr style=\"text-align: right;\">\n",
              "      <th></th>\n",
              "      <th>id_str</th>\n",
              "      <th>favorite_count</th>\n",
              "      <th>text</th>\n",
              "      <th>is_retweet</th>\n",
              "      <th>created_at</th>\n",
              "      <th>retweet_count</th>\n",
              "      <th>media</th>\n",
              "      <th>country_code</th>\n",
              "      <th>country</th>\n",
              "      <th>lattitude</th>\n",
              "      <th>longitude</th>\n",
              "      <th>user_id</th>\n",
              "      <th>user_name</th>\n",
              "      <th>user_description</th>\n",
              "      <th>user_verification</th>\n",
              "      <th>user_followers</th>\n",
              "    </tr>\n",
              "  </thead>\n",
              "  <tbody>\n",
              "    <tr>\n",
              "      <th>0</th>\n",
              "      <td>1.28941E+18</td>\n",
              "      <td>5</td>\n",
              "      <td>b'Members of the Booth level committee, who ca...</td>\n",
              "      <td>FALSE</td>\n",
              "      <td>Sat Aug 01 04:05:27 +0000 2020</td>\n",
              "      <td>1</td>\n",
              "      <td>NaN</td>\n",
              "      <td>IN</td>\n",
              "      <td>India</td>\n",
              "      <td>NaN</td>\n",
              "      <td>NaN</td>\n",
              "      <td>55629076</td>\n",
              "      <td>Niranjan Kaggere</td>\n",
              "      <td>Journalist with @DeccanHerald Bengaluru.🇮🇳, ಕನ...</td>\n",
              "      <td>TRUE</td>\n",
              "      <td>4717</td>\n",
              "    </tr>\n",
              "    <tr>\n",
              "      <th>1</th>\n",
              "      <td>1.28941E+18</td>\n",
              "      <td>1</td>\n",
              "      <td>b'I\\xe2\\x80\\x99ve never seen a worser handling...</td>\n",
              "      <td>FALSE</td>\n",
              "      <td>Sat Aug 01 04:08:49 +0000 2020</td>\n",
              "      <td>0</td>\n",
              "      <td>NaN</td>\n",
              "      <td>GB</td>\n",
              "      <td>United Kingdom</td>\n",
              "      <td>NaN</td>\n",
              "      <td>NaN</td>\n",
              "      <td>1.03227E+18</td>\n",
              "      <td>John Thompson</td>\n",
              "      <td>Liverpool🔴</td>\n",
              "      <td>FALSE</td>\n",
              "      <td>87</td>\n",
              "    </tr>\n",
              "    <tr>\n",
              "      <th>2</th>\n",
              "      <td>1.28941E+18</td>\n",
              "      <td>0</td>\n",
              "      <td>b'@sunetrac @ManishTewari @SATAVRAJEEV @Saubha...</td>\n",
              "      <td>FALSE</td>\n",
              "      <td>Sat Aug 01 04:01:53 +0000 2020</td>\n",
              "      <td>0</td>\n",
              "      <td>NaN</td>\n",
              "      <td>IN</td>\n",
              "      <td>India</td>\n",
              "      <td>NaN</td>\n",
              "      <td>NaN</td>\n",
              "      <td>1.23078E+18</td>\n",
              "      <td>BeMunna</td>\n",
              "      <td>NaN</td>\n",
              "      <td>FALSE</td>\n",
              "      <td>83</td>\n",
              "    </tr>\n",
              "    <tr>\n",
              "      <th>3</th>\n",
              "      <td>1.28941E+18</td>\n",
              "      <td>0</td>\n",
              "      <td>b'@RavishClub\\nMay this Eid bring happiness, j...</td>\n",
              "      <td>FALSE</td>\n",
              "      <td>Sat Aug 01 04:03:25 +0000 2020</td>\n",
              "      <td>0</td>\n",
              "      <td>NaN</td>\n",
              "      <td>IN</td>\n",
              "      <td>India</td>\n",
              "      <td>NaN</td>\n",
              "      <td>NaN</td>\n",
              "      <td>1.23078E+18</td>\n",
              "      <td>BeMunna</td>\n",
              "      <td>NaN</td>\n",
              "      <td>FALSE</td>\n",
              "      <td>83</td>\n",
              "    </tr>\n",
              "    <tr>\n",
              "      <th>4</th>\n",
              "      <td>1.28941E+18</td>\n",
              "      <td>0</td>\n",
              "      <td>b'Ug. This week was hard enough and now these ...</td>\n",
              "      <td>FALSE</td>\n",
              "      <td>Sat Aug 01 04:05:22 +0000 2020</td>\n",
              "      <td>0</td>\n",
              "      <td>NaN</td>\n",
              "      <td>US</td>\n",
              "      <td>United States</td>\n",
              "      <td>NaN</td>\n",
              "      <td>NaN</td>\n",
              "      <td>141375558</td>\n",
              "      <td>Adrienne Longenecker</td>\n",
              "      <td>creative problem solver, mom, Certified Fundra...</td>\n",
              "      <td>FALSE</td>\n",
              "      <td>869</td>\n",
              "    </tr>\n",
              "    <tr>\n",
              "      <th>...</th>\n",
              "      <td>...</td>\n",
              "      <td>...</td>\n",
              "      <td>...</td>\n",
              "      <td>...</td>\n",
              "      <td>...</td>\n",
              "      <td>...</td>\n",
              "      <td>...</td>\n",
              "      <td>...</td>\n",
              "      <td>...</td>\n",
              "      <td>...</td>\n",
              "      <td>...</td>\n",
              "      <td>...</td>\n",
              "      <td>...</td>\n",
              "      <td>...</td>\n",
              "      <td>...</td>\n",
              "      <td>...</td>\n",
              "    </tr>\n",
              "    <tr>\n",
              "      <th>95</th>\n",
              "      <td>1.28941E+18</td>\n",
              "      <td>1</td>\n",
              "      <td>b'What a surprise. https://t.co/kBhCqFkQE6'</td>\n",
              "      <td>FALSE</td>\n",
              "      <td>Sat Aug 01 04:16:46 +0000 2020</td>\n",
              "      <td>0</td>\n",
              "      <td>NaN</td>\n",
              "      <td>US</td>\n",
              "      <td>United States</td>\n",
              "      <td>NaN</td>\n",
              "      <td>NaN</td>\n",
              "      <td>14117282</td>\n",
              "      <td>Daniel Bastardo Blanco, PhD</td>\n",
              "      <td>Global Liaison of Medical Content Outreach @St...</td>\n",
              "      <td>FALSE</td>\n",
              "      <td>2350</td>\n",
              "    </tr>\n",
              "    <tr>\n",
              "      <th>96</th>\n",
              "      <td>1.28942E+18</td>\n",
              "      <td>0</td>\n",
              "      <td>b'@DonaldJTrumpJr @JohnFromCranber And he forg...</td>\n",
              "      <td>FALSE</td>\n",
              "      <td>Sat Aug 01 04:22:17 +0000 2020</td>\n",
              "      <td>0</td>\n",
              "      <td>NaN</td>\n",
              "      <td>US</td>\n",
              "      <td>United States</td>\n",
              "      <td>NaN</td>\n",
              "      <td>NaN</td>\n",
              "      <td>100600292</td>\n",
              "      <td>INVESTIGATE IM🍑 JOE</td>\n",
              "      <td>Proud legal Latina with 3 boys</td>\n",
              "      <td>FALSE</td>\n",
              "      <td>1125</td>\n",
              "    </tr>\n",
              "    <tr>\n",
              "      <th>97</th>\n",
              "      <td>1.28942E+18</td>\n",
              "      <td>0</td>\n",
              "      <td>b'@TheSamirAbbas Special Dua defeat #COVID19\\n...</td>\n",
              "      <td>FALSE</td>\n",
              "      <td>Sat Aug 01 04:25:46 +0000 2020</td>\n",
              "      <td>0</td>\n",
              "      <td>NaN</td>\n",
              "      <td>PK</td>\n",
              "      <td>Pakistan</td>\n",
              "      <td>NaN</td>\n",
              "      <td>NaN</td>\n",
              "      <td>1.17758E+18</td>\n",
              "      <td>Safi Khan</td>\n",
              "      <td>I am Pakistani Scientist &amp; Loving Human who Be...</td>\n",
              "      <td>FALSE</td>\n",
              "      <td>1287</td>\n",
              "    </tr>\n",
              "    <tr>\n",
              "      <th>98</th>\n",
              "      <td>1.28942E+18</td>\n",
              "      <td>0</td>\n",
              "      <td>b'Special Dua defeating #COVID19\\nHappy #EidAl...</td>\n",
              "      <td>FALSE</td>\n",
              "      <td>Sat Aug 01 04:21:47 +0000 2020</td>\n",
              "      <td>0</td>\n",
              "      <td>NaN</td>\n",
              "      <td>PK</td>\n",
              "      <td>Pakistan</td>\n",
              "      <td>NaN</td>\n",
              "      <td>NaN</td>\n",
              "      <td>1.17758E+18</td>\n",
              "      <td>Safi Khan</td>\n",
              "      <td>I am Pakistani Scientist &amp; Loving Human who Be...</td>\n",
              "      <td>FALSE</td>\n",
              "      <td>1287</td>\n",
              "    </tr>\n",
              "    <tr>\n",
              "      <th>99</th>\n",
              "      <td>1.28942E+18</td>\n",
              "      <td>1</td>\n",
              "      <td>b'It\\xe2\\x80\\x99s one of several ways that we\\...</td>\n",
              "      <td>FALSE</td>\n",
              "      <td>Sat Aug 01 04:22:05 +0000 2020</td>\n",
              "      <td>0</td>\n",
              "      <td>NaN</td>\n",
              "      <td>UG</td>\n",
              "      <td>Uganda</td>\n",
              "      <td>NaN</td>\n",
              "      <td>NaN</td>\n",
              "      <td>9.28556E+17</td>\n",
              "      <td>Méstil Hotel &amp; Residences.</td>\n",
              "      <td>We offer a Level of Style, comfort and conveni...</td>\n",
              "      <td>FALSE</td>\n",
              "      <td>3524</td>\n",
              "    </tr>\n",
              "  </tbody>\n",
              "</table>\n",
              "<p>100 rows × 16 columns</p>\n",
              "</div>\n",
              "      <button class=\"colab-df-convert\" onclick=\"convertToInteractive('df-6f082a1f-18c1-4d4a-8d78-8a5a36e9e009')\"\n",
              "              title=\"Convert this dataframe to an interactive table.\"\n",
              "              style=\"display:none;\">\n",
              "        \n",
              "  <svg xmlns=\"http://www.w3.org/2000/svg\" height=\"24px\"viewBox=\"0 0 24 24\"\n",
              "       width=\"24px\">\n",
              "    <path d=\"M0 0h24v24H0V0z\" fill=\"none\"/>\n",
              "    <path d=\"M18.56 5.44l.94 2.06.94-2.06 2.06-.94-2.06-.94-.94-2.06-.94 2.06-2.06.94zm-11 1L8.5 8.5l.94-2.06 2.06-.94-2.06-.94L8.5 2.5l-.94 2.06-2.06.94zm10 10l.94 2.06.94-2.06 2.06-.94-2.06-.94-.94-2.06-.94 2.06-2.06.94z\"/><path d=\"M17.41 7.96l-1.37-1.37c-.4-.4-.92-.59-1.43-.59-.52 0-1.04.2-1.43.59L10.3 9.45l-7.72 7.72c-.78.78-.78 2.05 0 2.83L4 21.41c.39.39.9.59 1.41.59.51 0 1.02-.2 1.41-.59l7.78-7.78 2.81-2.81c.8-.78.8-2.07 0-2.86zM5.41 20L4 18.59l7.72-7.72 1.47 1.35L5.41 20z\"/>\n",
              "  </svg>\n",
              "      </button>\n",
              "      \n",
              "  <style>\n",
              "    .colab-df-container {\n",
              "      display:flex;\n",
              "      flex-wrap:wrap;\n",
              "      gap: 12px;\n",
              "    }\n",
              "\n",
              "    .colab-df-convert {\n",
              "      background-color: #E8F0FE;\n",
              "      border: none;\n",
              "      border-radius: 50%;\n",
              "      cursor: pointer;\n",
              "      display: none;\n",
              "      fill: #1967D2;\n",
              "      height: 32px;\n",
              "      padding: 0 0 0 0;\n",
              "      width: 32px;\n",
              "    }\n",
              "\n",
              "    .colab-df-convert:hover {\n",
              "      background-color: #E2EBFA;\n",
              "      box-shadow: 0px 1px 2px rgba(60, 64, 67, 0.3), 0px 1px 3px 1px rgba(60, 64, 67, 0.15);\n",
              "      fill: #174EA6;\n",
              "    }\n",
              "\n",
              "    [theme=dark] .colab-df-convert {\n",
              "      background-color: #3B4455;\n",
              "      fill: #D2E3FC;\n",
              "    }\n",
              "\n",
              "    [theme=dark] .colab-df-convert:hover {\n",
              "      background-color: #434B5C;\n",
              "      box-shadow: 0px 1px 3px 1px rgba(0, 0, 0, 0.15);\n",
              "      filter: drop-shadow(0px 1px 2px rgba(0, 0, 0, 0.3));\n",
              "      fill: #FFFFFF;\n",
              "    }\n",
              "  </style>\n",
              "\n",
              "      <script>\n",
              "        const buttonEl =\n",
              "          document.querySelector('#df-6f082a1f-18c1-4d4a-8d78-8a5a36e9e009 button.colab-df-convert');\n",
              "        buttonEl.style.display =\n",
              "          google.colab.kernel.accessAllowed ? 'block' : 'none';\n",
              "\n",
              "        async function convertToInteractive(key) {\n",
              "          const element = document.querySelector('#df-6f082a1f-18c1-4d4a-8d78-8a5a36e9e009');\n",
              "          const dataTable =\n",
              "            await google.colab.kernel.invokeFunction('convertToInteractive',\n",
              "                                                     [key], {});\n",
              "          if (!dataTable) return;\n",
              "\n",
              "          const docLinkHtml = 'Like what you see? Visit the ' +\n",
              "            '<a target=\"_blank\" href=https://colab.research.google.com/notebooks/data_table.ipynb>data table notebook</a>'\n",
              "            + ' to learn more about interactive tables.';\n",
              "          element.innerHTML = '';\n",
              "          dataTable['output_type'] = 'display_data';\n",
              "          await google.colab.output.renderOutput(dataTable, element);\n",
              "          const docLink = document.createElement('div');\n",
              "          docLink.innerHTML = docLinkHtml;\n",
              "          element.appendChild(docLink);\n",
              "        }\n",
              "      </script>\n",
              "    </div>\n",
              "  </div>\n",
              "  "
            ],
            "text/plain": [
              "         id_str favorite_count  ... user_verification user_followers\n",
              "0   1.28941E+18              5  ...              TRUE           4717\n",
              "1   1.28941E+18              1  ...             FALSE             87\n",
              "2   1.28941E+18              0  ...             FALSE             83\n",
              "3   1.28941E+18              0  ...             FALSE             83\n",
              "4   1.28941E+18              0  ...             FALSE            869\n",
              "..          ...            ...  ...               ...            ...\n",
              "95  1.28941E+18              1  ...             FALSE           2350\n",
              "96  1.28942E+18              0  ...             FALSE           1125\n",
              "97  1.28942E+18              0  ...             FALSE           1287\n",
              "98  1.28942E+18              0  ...             FALSE           1287\n",
              "99  1.28942E+18              1  ...             FALSE           3524\n",
              "\n",
              "[100 rows x 16 columns]"
            ]
          },
          "execution_count": 77,
          "metadata": {},
          "output_type": "execute_result"
        }
      ],
      "source": [
        "data.head(100)"
      ]
    },
    {
      "cell_type": "code",
      "execution_count": null,
      "metadata": {
        "colab": {
          "base_uri": "https://localhost:8080/"
        },
        "id": "XSWATMRTsTy8",
        "outputId": "05ad23a9-96dd-4e46-8353-12d6f1f9a1fc"
      },
      "outputs": [
        {
          "data": {
            "text/plain": [
              "147"
            ]
          },
          "execution_count": 79,
          "metadata": {},
          "output_type": "execute_result"
        }
      ],
      "source": [
        "data.duplicated().sum()"
      ]
    },
    {
      "cell_type": "code",
      "execution_count": null,
      "metadata": {
        "colab": {
          "base_uri": "https://localhost:8080/"
        },
        "id": "PAZK1ROXUCtI",
        "outputId": "564513c6-a9bd-40c8-92bb-d6b3da58f2b2"
      },
      "outputs": [
        {
          "data": {
            "text/plain": [
              "0"
            ]
          },
          "execution_count": 80,
          "metadata": {},
          "output_type": "execute_result"
        }
      ],
      "source": [
        "file1 = open('/content/drive/MyDrive/Capstone/misinformation/coviddata/Covid_Data_20_21/Covid2020.csv','r+')\n",
        "file1.truncate(0)"
      ]
    },
    {
      "cell_type": "code",
      "execution_count": null,
      "metadata": {
        "id": "LevbFFDNlXJZ"
      },
      "outputs": [],
      "source": [
        "file1 = open('/content/drive/MyDrive/Capstone/misinformation/coviddata/Covid_Data_20_21/Covid2020.csv','a')\n",
        "file2 = open('/content/drive/MyDrive/Capstone/misinformation/coviddata/Covid2020.csv','r')"
      ]
    },
    {
      "cell_type": "code",
      "execution_count": null,
      "metadata": {
        "id": "ftg5c_Ycl7ND"
      },
      "outputs": [],
      "source": [
        "for line in file2:\n",
        "  file1.write(line)"
      ]
    },
    {
      "cell_type": "code",
      "execution_count": null,
      "metadata": {
        "id": "KhbpDemA7mCh"
      },
      "outputs": [],
      "source": [
        "data = pd.read_csv('/content/drive/MyDrive/Covid19/2020Covid.csv')"
      ]
    },
    {
      "cell_type": "code",
      "source": [
        "data.count()"
      ],
      "metadata": {
        "colab": {
          "base_uri": "https://localhost:8080/"
        },
        "id": "NPp4RGz7I_kb",
        "outputId": "8645b401-7e52-4eed-f2ae-d528d163f2bd"
      },
      "execution_count": null,
      "outputs": [
        {
          "output_type": "execute_result",
          "data": {
            "text/plain": [
              "id_str                                           1027857\n",
              "text                                             1027857\n",
              "is_retweet                                       1027857\n",
              "created_at                                       1027857\n",
              "retweet_count                                    1027857\n",
              "is_quote_status                                  1027857\n",
              "quoted_status_id_str                              529203\n",
              "quoted_status                                     492469\n",
              "favorite_count                                   1027857\n",
              "media                                            1027857\n",
              "tweet_hashtag                                    1027857\n",
              "tweet_url                                         725520\n",
              "possibly_sensitive                                825663\n",
              "favorited                                        1027857\n",
              "retweeted                                        1027857\n",
              "language                                         1027857\n",
              "country_code                                     1023733\n",
              "country                                          1024959\n",
              "place_url                                        1025459\n",
              "place_type                                       1025459\n",
              "place_name                                       1025459\n",
              "place_full_name                                  1025459\n",
              "polygon_longitude_1                              1025308\n",
              "polyfon_lattitude_1                              1027857\n",
              "polygon_longitude_2                              1025308\n",
              "polyfon_lattitude_2                              1027857\n",
              "polygon_longitude_3                              1025308\n",
              "polyfon_lattitude_3                              1027857\n",
              "polygon_longitude_4                              1025308\n",
              "polyfon_lattitude_4                              1027857\n",
              "lattitude                                          34003\n",
              "longitude                                          34003\n",
              "user_id                                          1027857\n",
              "user_name                                        1027857\n",
              "screen_name                                      1027849\n",
              "user_location                                     912949\n",
              "user_url                                          454934\n",
              "user_description                                 1027857\n",
              "user_verification                                1027857\n",
              "user_followers                                   1027857\n",
              "user_favorite_count(no. of tweets user liked)    1027857\n",
              "user_friend_count                                1027857\n",
              "user_list_count                                  1027857\n",
              "user_statuses_count                              1027857\n",
              "user_created_at                                  1027857\n",
              "source                                           1027857\n",
              "truncated                                        1027857\n",
              "in_reply_to_status_id_str                         124794\n",
              "in_reply_to_user_id_str                           160217\n",
              "in_reply_to_screen_name                           160216\n",
              "dtype: int64"
            ]
          },
          "metadata": {},
          "execution_count": 10
        }
      ]
    },
    {
      "cell_type": "code",
      "source": [
        ""
      ],
      "metadata": {
        "id": "z_s2lagfJB2c"
      },
      "execution_count": null,
      "outputs": []
    }
  ],
  "metadata": {
    "colab": {
      "collapsed_sections": [],
      "name": "datadownloadscript2.ipynb",
      "provenance": []
    },
    "kernelspec": {
      "display_name": "Python 3",
      "name": "python3"
    },
    "language_info": {
      "name": "python"
    }
  },
  "nbformat": 4,
  "nbformat_minor": 0
}
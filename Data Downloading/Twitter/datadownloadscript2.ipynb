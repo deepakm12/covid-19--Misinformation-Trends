{
  "cells": [
    {
      "cell_type": "code",
      "execution_count": null,
      "metadata": {
        "colab": {
          "base_uri": "https://localhost:8080/"
        },
        "id": "LXaIyzBarBLf",
        "outputId": "309d6518-ef6d-4c09-9c41-92a86232cb45"
      },
      "outputs": [
        {
          "name": "stdout",
          "output_type": "stream",
          "text": [
            "Collecting wget\n",
            "  Downloading wget-3.2.zip (10 kB)\n",
            "Building wheels for collected packages: wget\n",
            "  Building wheel for wget (setup.py) ... \u001b[?25l\u001b[?25hdone\n",
            "  Created wheel for wget: filename=wget-3.2-py3-none-any.whl size=9675 sha256=5d76e4b2698622e848993e2c5b023fa00cc112852858a126a5241d0df6c6771f\n",
            "  Stored in directory: /root/.cache/pip/wheels/a1/b6/7c/0e63e34eb06634181c63adacca38b79ff8f35c37e3c13e3c02\n",
            "Successfully built wget\n",
            "Installing collected packages: wget\n",
            "Successfully installed wget-3.2\n"
          ]
        }
      ],
      "source": [
        "!pip install wget"
      ]
    },
    {
      "cell_type": "code",
      "execution_count": null,
      "metadata": {
        "colab": {
          "base_uri": "https://localhost:8080/"
        },
        "id": "v4BMeOeGUAOH",
        "outputId": "e1e92081-3bc2-456f-d068-c45ec6eaa53a"
      },
      "outputs": [
        {
          "name": "stdout",
          "output_type": "stream",
          "text": [
            "Drive already mounted at /content/drive; to attempt to forcibly remount, call drive.mount(\"/content/drive\", force_remount=True).\n"
          ]
        }
      ],
      "source": [
        "from google.colab import drive\n",
        "drive.mount('/content/drive')"
      ]
    },
    {
      "cell_type": "code",
      "execution_count": null,
      "metadata": {
        "id": "SiJ1K5esq29I"
      },
      "outputs": [],
      "source": [
        "import gzip\n",
        "import shutil\n",
        "import os\n",
        "import wget\n",
        "\n",
        "import csv\n",
        "import linecache\n",
        "from shutil import copyfile\n",
        "import numpy as np\n",
        "import pandas as pd\n",
        "import time"
      ]
    },
    {
      "cell_type": "markdown",
      "metadata": {
        "id": "gaNH0g1beNmW"
      },
      "source": [
        "April"
      ]
    },
    {
      "cell_type": "code",
      "execution_count": null,
      "metadata": {
        "id": "eH4byzBLA95U"
      },
      "outputs": [],
      "source": [
        "li = []\n",
        "for i in range(1, 31):\n",
        "  if(i<10):\n",
        "    li.append(\"0\"+str(i))\n",
        "  else:\n",
        "    li.append(str(i))"
      ]
    },
    {
      "cell_type": "code",
      "execution_count": null,
      "metadata": {
        "id": "Okr63sZbA95Z"
      },
      "outputs": [],
      "source": [
        "#data downloading\n",
        "for date in li:\n",
        "  date = str(date)\n",
        "  dataset_URL = \"https://github.com/thepanacealab/covid19_twitter/blob/master/dailies/2020-04-\"+date+\"/2020-04-\"+date+\"_clean-dataset.tsv.gz?raw=true\"\n",
        "  os.mkdir('/content/drive/MyDrive/Covid19/April2020/'+date+'april')\n",
        "  wget.download(dataset_URL, out='/content/drive/MyDrive/Covid19/April2020/'+date+'april'+'/dataset.tsv.gz')\n",
        "\n",
        "  with gzip.open('/content/drive/MyDrive/Covid19/April2020/'+date+'april'+'/dataset.tsv.gz', 'rb') as f_in:\n",
        "      with open('/content/drive/MyDrive/Covid19/April2020/'+date+'april'+'/dataset.tsv', 'wb') as f_out:\n",
        "          shutil.copyfileobj(f_in, f_out)\n",
        "\n",
        "  os.unlink('/content/drive/MyDrive/Covid19/April2020/'+date+'april'+'/dataset.tsv.gz')\n",
        "\n",
        "\n",
        "  #english language filtering and location filtering\n",
        "  filtered_language = 'en'\n",
        "  filtered_tw = list()\n",
        "  current_line = 1\n",
        "  with open('/content/drive/MyDrive/Covid19/April2020/'+date+'april'+'/dataset.tsv') as tsvfile:\n",
        "    tsvreader = csv.reader(tsvfile, delimiter=\"\\t\")\n",
        "\n",
        "    if current_line == 1:\n",
        "      filtered_tw.append(linecache.getline('/content/drive/MyDrive/Covid19/April2020/'+date+'april'+'/dataset.tsv', current_line))\n",
        "\n",
        "      for line in tsvreader:\n",
        "        # print(line[2])\n",
        "        # if line[3] == filtered_language and line[4]!=\"NULL\":\n",
        "        filtered_tw.append(linecache.getline('/content/drive/MyDrive/Covid19/April2020/'+date+'april'+'/dataset.tsv', current_line))\n",
        "        current_line += 1\n",
        "        if current_line==10000:  break\n",
        "    with open('/content/drive/MyDrive/Covid19/April2020/'+date+'april'+'/dataset.tsv', 'w') as f_output:\n",
        "        for item in filtered_tw:\n",
        "            f_output.write(item)\n",
        "\n",
        "  \n"
      ]
    },
    {
      "cell_type": "code",
      "execution_count": null,
      "metadata": {
        "id": "9zKleR7JA95b"
      },
      "outputs": [],
      "source": [
        "for i in li:\n",
        "  os.chdir('/content/drive/MyDrive/Covid19/April2020/'+i+'april')\n",
        "  time.sleep(1)\n",
        "  !python /content/drive/MyDrive/Covid19/April2020/get_metadata.py -i dataset.tsv  -o dataset_hydrated.tsv  -k /content/drive/MyDrive/Capstone/misinformation/coviddata/api_keys.json -m e\n",
        "  print(i)\n"
      ]
    },
    {
      "cell_type": "markdown",
      "metadata": {
        "id": "F1psBpBZ8q_v"
      },
      "source": []
    },
    {
      "cell_type": "markdown",
      "metadata": {
        "id": "plJcbTXtfN1Q"
      },
      "source": [
        "# May"
      ]
    },
    {
      "cell_type": "code",
      "execution_count": null,
      "metadata": {
        "id": "G3nxvh02fN1d"
      },
      "outputs": [],
      "source": [
        "li = []\n",
        "for i in range(1, 32):\n",
        "  if(i<10):\n",
        "    li.append(\"0\"+str(i))\n",
        "  else:\n",
        "    li.append(str(i))"
      ]
    },
    {
      "cell_type": "code",
      "execution_count": null,
      "metadata": {
        "id": "TeNo0cnkfN1h"
      },
      "outputs": [],
      "source": [
        "#data downloading\n",
        "for date in li:\n",
        "  date = str(date)\n",
        "  dataset_URL = \"https://github.com/thepanacealab/covid19_twitter/blob/master/dailies/2021-05-\"+date+\"/2021-05-\"+date+\"-dataset.tsv.gz?raw=true\"\n",
        "  os.mkdir('/content/drive/MyDrive/Capstone/misinformation/coviddata/'+date+'may')\n",
        "  wget.download(dataset_URL, out='/content/drive/MyDrive/Capstone/misinformation/coviddata/'+date+'may'+'/dataset.tsv.gz')\n",
        "\n",
        "  with gzip.open('/content/drive/MyDrive/Capstone/misinformation/coviddata/'+date+'may'+'/dataset.tsv.gz', 'rb') as f_in:\n",
        "      with open('/content/drive/MyDrive/Capstone/misinformation/coviddata/'+date+'may'+'/dataset.tsv', 'wb') as f_out:\n",
        "          shutil.copyfileobj(f_in, f_out)\n",
        "\n",
        "  os.unlink('/content/drive/MyDrive/Capstone/misinformation/coviddata/'+date+'may'+'/dataset.tsv.gz')\n",
        "\n",
        "\n",
        "  #english language filtering and location filtering\n",
        "  filtered_language = 'en'\n",
        "  filtered_tw = list()\n",
        "  current_line = 1\n",
        "  with open('/content/drive/MyDrive/Capstone/misinformation/coviddata/'+date+'may'+'/dataset.tsv') as tsvfile:\n",
        "    tsvreader = csv.reader(tsvfile, delimiter=\"\\t\")\n",
        "\n",
        "    if current_line == 1:\n",
        "      filtered_tw.append(linecache.getline('/content/drive/MyDrive/Capstone/misinformation/coviddata/'+date+'may'+'/dataset.tsv', current_line))\n",
        "\n",
        "      for line in tsvreader:\n",
        "        if line[3] == filtered_language and line[4]!=\"NULL\":\n",
        "          filtered_tw.append(linecache.getline('/content/drive/MyDrive/Capstone/misinformation/coviddata/'+date+'may'+'/dataset.tsv', current_line))\n",
        "        current_line += 1\n",
        "        # if current_line==20000:  break\n",
        "    with open('/content/drive/MyDrive/Capstone/misinformation/coviddata/'+date+'may'+'/dataset.tsv', 'w') as f_output:\n",
        "        for item in filtered_tw:\n",
        "            f_output.write(item)\n",
        "  \n"
      ]
    },
    {
      "cell_type": "code",
      "execution_count": null,
      "metadata": {
        "id": "24P5zYwnfN1j"
      },
      "outputs": [],
      "source": [
        "for i in li:\n",
        "  os.chdir('/content/drive/MyDrive/Capstone/misinformation/coviddata/'+i+'may')\n",
        "  time.sleep(1)\n",
        "  !python /content/drive/MyDrive/Capstone/misinformation/coviddata/get_metadata.py -i dataset.tsv  -o dataset_hydrated.tsv  -k /content/drive/MyDrive/Capstone/misinformation/coviddata/api_keys.json\n"
      ]
    },
    {
      "cell_type": "markdown",
      "metadata": {
        "id": "zBcNRneMfO9V"
      },
      "source": [
        "**June**"
      ]
    },
    {
      "cell_type": "code",
      "execution_count": null,
      "metadata": {
        "id": "wmrfXJApUr_d"
      },
      "outputs": [],
      "source": []
    },
    {
      "cell_type": "code",
      "execution_count": null,
      "metadata": {
        "id": "dihACmXwfO9Z"
      },
      "outputs": [],
      "source": [
        "li = []\n",
        "for i in range(1, 31):\n",
        "  if(i<10):\n",
        "    li.append(\"0\"+str(i))\n",
        "  else:\n",
        "    li.append(str(i))"
      ]
    },
    {
      "cell_type": "code",
      "execution_count": null,
      "metadata": {
        "id": "i2ZZj9E_fO9b"
      },
      "outputs": [],
      "source": [
        "#data downloading\n",
        "for date in li:\n",
        "  date = str(date)\n",
        "  dataset_URL = \"https://github.com/thepanacealab/covid19_twitter/blob/master/dailies/2021-06-\"+date+\"/2021-06-\"+date+\"-dataset.tsv.gz?raw=true\"\n",
        "  os.mkdir('/content/drive/MyDrive/Capstone/misinformation/coviddata/'+date+'june')\n",
        "  wget.download(dataset_URL, out='/content/drive/MyDrive/Capstone/misinformation/coviddata/'+date+'june'+'/dataset.tsv.gz')\n",
        "\n",
        "  with gzip.open('/content/drive/MyDrive/Capstone/misinformation/coviddata/'+date+'june'+'/dataset.tsv.gz', 'rb') as f_in:\n",
        "      with open('/content/drive/MyDrive/Capstone/misinformation/coviddata/'+date+'june'+'/dataset.tsv', 'wb') as f_out:\n",
        "          shutil.copyfileobj(f_in, f_out)\n",
        "\n",
        "  os.unlink('/content/drive/MyDrive/Capstone/misinformation/coviddata/'+date+'june'+'/dataset.tsv.gz')\n",
        "\n",
        "\n",
        "  #english language filtering and location filtering\n",
        "  filtered_language = 'en'\n",
        "  filtered_tw = list()\n",
        "  current_line = 1\n",
        "  with open('/content/drive/MyDrive/Capstone/misinformation/coviddata/'+date+'june'+'/dataset.tsv') as tsvfile:\n",
        "    tsvreader = csv.reader(tsvfile, delimiter=\"\\t\")\n",
        "\n",
        "    if current_line == 1:\n",
        "      filtered_tw.append(linecache.getline('/content/drive/MyDrive/Capstone/misinformation/coviddata/'+date+'june'+'/dataset.tsv', current_line))\n",
        "\n",
        "      for line in tsvreader:\n",
        "        if line[3] == filtered_language and line[4]!=\"NULL\":\n",
        "          filtered_tw.append(linecache.getline('/content/drive/MyDrive/Capstone/misinformation/coviddata/'+date+'june'+'/dataset.tsv', current_line))\n",
        "        current_line += 1\n",
        "        # if current_line==20000:  break\n",
        "    with open('/content/drive/MyDrive/Capstone/misinformation/coviddata/'+date+'june'+'/dataset.tsv', 'w') as f_output:\n",
        "        for item in filtered_tw:\n",
        "            f_output.write(item)\n",
        "  \n"
      ]
    },
    {
      "cell_type": "code",
      "execution_count": null,
      "metadata": {
        "id": "YJW1lFAxfO9c"
      },
      "outputs": [],
      "source": [
        "for i in li:\n",
        "  os.chdir('/content/drive/MyDrive/Capstone/misinformation/coviddata/'+i+'june')\n",
        "  time.sleep(1)\n",
        "  !python /content/drive/MyDrive/Capstone/misinformation/coviddata/get_metadata.py -i dataset.tsv  -o dataset_hydrated.tsv  -k /content/drive/MyDrive/Capstone/misinformation/coviddata/api_keys.json\n",
        "  print(i)\n"
      ]
    },
    {
      "cell_type": "code",
      "execution_count": null,
      "metadata": {
        "id": "LevbFFDNlXJZ"
      },
      "outputs": [],
      "source": [
        "#merging two csv file\n",
        "file1 = open('/content/drive/MyDrive/Capstone/misinformation/coviddata/Covid_Data_20_21/Covid2020.csv','a')\n",
        "file2 = open('/content/drive/MyDrive/Capstone/misinformation/coviddata/Covid2020.csv','r')\n",
        "\n",
        "for line in file2:\n",
        "  file1.write(line)"
      ]
    }
  ],
  "metadata": {
    "colab": {
      "collapsed_sections": [],
      "name": "datadownloadscript2.ipynb",
      "provenance": []
    },
    "kernelspec": {
      "display_name": "Python 3.9.13 64-bit",
      "language": "python",
      "name": "python3"
    },
    "language_info": {
      "name": "python",
      "version": "3.9.13"
    },
    "vscode": {
      "interpreter": {
        "hash": "b0fa6594d8f4cbf19f97940f81e996739fb7646882a419484c72d19e05852a7e"
      }
    }
  },
  "nbformat": 4,
  "nbformat_minor": 0
}

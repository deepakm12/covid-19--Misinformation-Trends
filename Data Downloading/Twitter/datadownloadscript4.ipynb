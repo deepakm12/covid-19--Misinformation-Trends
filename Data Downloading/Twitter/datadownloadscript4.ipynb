{
  "cells": [
    {
      "cell_type": "code",
      "execution_count": null,
      "metadata": {
        "id": "D1YJPSAt-Wri"
      },
      "outputs": [],
      "source": [
        "import pandas as pd\n",
        "import os"
      ]
    },
    {
      "cell_type": "code",
      "execution_count": null,
      "metadata": {
        "id": "hn9RHZfL0q_d"
      },
      "outputs": [],
      "source": [
        "import csv\n",
        "import datetime"
      ]
    },
    {
      "cell_type": "code",
      "execution_count": null,
      "metadata": {
        "id": "Uuss9HMXAoQ9"
      },
      "outputs": [],
      "source": [
        "f1 = csv.writer(open('/content/drive/MyDrive/Covid19/Feb2020/data_1.csv', 'a'))\n",
        "f1.writerow([\"tweet_id\", \"date\", \"time\"])\n",
        "f2 = csv.writer(open('/content/drive/MyDrive/Covid19/Feb2020/data_2.csv', 'a'))\n",
        "f2.writerow([\"tweet_id\", \"date\", \"time\"])\n",
        "f3 = csv.writer(open('/content/drive/MyDrive/Covid19/Feb2020/data_3.csv', 'a'))\n",
        "f3.writerow([\"tweet_id\", \"date\", \"time\"])\n",
        "for i, j in data.iterrows():\n",
        "  if i<=1600000:\n",
        "    f1.writerow([j[1],j[2], j[3]])\n",
        "  elif i>1600000 and i<=3200000:\n",
        "    f2.writerow([j[1],j[2], j[3]])\n",
        "  else:\n",
        "    f3.writerow([j[1],j[2], j[3]])"
      ]
    },
    {
      "cell_type": "code",
      "execution_count": null,
      "metadata": {
        "id": "tNorzJ5O0Brw"
      },
      "outputs": [],
      "source": [
        "f = csv.writer(open('/content/drive/MyDrive/Covid19/Feb2020/data_1.csv', 'a'))\n",
        "f.writerow([\"tweet_id\", \"date\", \"time\"])\n",
        "last =-1\n",
        "for k in range(1,30):\n",
        "  count =0;\n",
        "  if(k==1):\n",
        "    for i,j in data.iterrows():\n",
        "      dm = pd.to_datetime(j[2])\n",
        "      if count<=50000 and dm.day==k:\n",
        "        f.writerow([j[1],j[2], j[3]])\n",
        "        count+=1\n",
        "      elif dm.day!=k:\n",
        "        last =i\n",
        "        break\n",
        "      else:\n",
        "        continue\n",
        "  else:\n",
        "    for i,j in data.iterrows():\n",
        "      if i <= last:\n",
        "        continue\n",
        "      else:\n",
        "        dm = pd.to_datetime(j[2])\n",
        "        if count<=50000 and dm.day==k:\n",
        "          f.writerow([j[1],j[2], j[3]])\n",
        "          count+=1\n",
        "        elif dm.day!=k and count!=0:\n",
        "          last =i\n",
        "          break\n",
        "        else:\n",
        "          continue\n",
        "  print(k)\n"
      ]
    },
    {
      "cell_type": "code",
      "execution_count": null,
      "metadata": {
        "id": "6c6Qs7M1761H"
      },
      "outputs": [],
      "source": [
        "os.chdir('/content/drive/MyDrive/Covid19/Feb2020')"
      ]
    },
    {
      "cell_type": "code",
      "execution_count": null,
      "metadata": {
        "colab": {
          "base_uri": "https://localhost:8080/"
        },
        "id": "PTVn21m05aSK",
        "outputId": "5baec3ba-28c3-4260-9796-5be639bb03b5"
      },
      "outputs": [
        {
          "name": "stdout",
          "output_type": "stream",
          "text": [
            "dataset_hydrated_1.tsv\n",
            "data_1.csv\n",
            "total ids: 1598800\n",
            "creating CSV version of minimized json master file\n"
          ]
        }
      ],
      "source": [
        "!python /content/drive/MyDrive/Covid19/get_metadata1.py -i data_1.csv  -o dataset_hydrated_1.tsv  -k /content/drive/MyDrive/Capstone/misinformation/api_keys.json -m e -s /content/drive/MyDrive/Covid19/Feb2020/feb2020.csv\n"
      ]
    },
    {
      "cell_type": "code",
      "execution_count": null,
      "metadata": {
        "id": "qiRSr9aRB_aA"
      },
      "outputs": [],
      "source": [
        "!python /content/drive/MyDrive/Covid19/Feb2020/get_metadata.py -i data_2.csv  -o dataset_hydrated_2.tsv  -k /content/drive/MyDrive/Capstone/misinformation/api_keys.json -m e\n"
      ]
    },
    {
      "cell_type": "code",
      "execution_count": null,
      "metadata": {
        "id": "LrT8vy8mCAEc"
      },
      "outputs": [],
      "source": [
        "!python /content/drive/MyDrive/Covid19/Feb2020/get_metadata.py -i data_3.csv  -o dataset_hydrated_3.tsv  -k /content/drive/MyDrive/Capstone/misinformation/api_keys.json -m e\n"
      ]
    },
    {
      "cell_type": "code",
      "execution_count": null,
      "metadata": {
        "id": "9Mjo3x-QzVue"
      },
      "outputs": [],
      "source": []
    },
    {
      "cell_type": "code",
      "execution_count": null,
      "metadata": {
        "id": "OErze5myzeGN"
      },
      "outputs": [],
      "source": [
        "os.chdir('/content/drive/MyDrive/Covid19/Mar2020')"
      ]
    },
    {
      "cell_type": "code",
      "execution_count": null,
      "metadata": {
        "colab": {
          "base_uri": "https://localhost:8080/"
        },
        "id": "drWbIonIzC8F",
        "outputId": "5795c4e8-7758-4032-f47f-3efabe05ef6c"
      },
      "outputs": [
        {
          "name": "stdout",
          "output_type": "stream",
          "text": [
            "dataset_hydrated_2.tsv\n",
            "data_2.csv\n",
            "total ids: 1598800\n",
            "creating CSV version of minimized json master file\n"
          ]
        }
      ],
      "source": [
        "!python /content/drive/MyDrive/Covid19/Feb2020/get_metadata.py -i data_2.csv  -o dataset_hydrated_2.tsv  -k /content/drive/MyDrive/Capstone/misinformation/api_keys.json -m e \n"
      ]
    },
    {
      "cell_type": "code",
      "execution_count": null,
      "metadata": {
        "id": "BbfIReDj2Xju"
      },
      "outputs": [],
      "source": []
    },
    {
      "cell_type": "code",
      "execution_count": null,
      "metadata": {
        "colab": {
          "base_uri": "https://localhost:8080/"
        },
        "id": "RHqzQM0U2Q5q",
        "outputId": "e69c54eb-e631-44b4-bcba-2c7c43703875"
      },
      "outputs": [
        {
          "name": "stdout",
          "output_type": "stream",
          "text": [
            "dataset_hydrated_2.tsv\n",
            "data_3.csv\n",
            "/content/drive/MyDrive/Covid19/Mar2020/get_metadata.py:360: DtypeWarning: Columns (0) have mixed types.Specify dtype option on import or set low_memory=False.\n",
            "  main()\n",
            "total ids: 749001\n",
            "creating CSV version of minimized json master file\n"
          ]
        }
      ],
      "source": [
        "!python /content/drive/MyDrive/Covid19/Mar2020/get_metadata.py -i data_3.csv  -o dataset_hydrated_2.tsv  -k /content/drive/MyDrive/Capstone/misinformation/api_keys.json -m e \n"
      ]
    },
    {
      "cell_type": "code",
      "execution_count": null,
      "metadata": {
        "id": "uGFUJZ3oNUnZ"
      },
      "outputs": [],
      "source": [
        "feb = pd.read_csv('/content/drive/MyDrive/Covid19/Jan2020/jan2020.csv')"
      ]
    },
    {
      "cell_type": "code",
      "execution_count": null,
      "metadata": {
        "colab": {
          "base_uri": "https://localhost:8080/"
        },
        "id": "l1wHaTwznjza",
        "outputId": "b60833eb-ceb5-4908-82bf-4a3463a72ce0"
      },
      "outputs": [
        {
          "data": {
            "text/plain": [
              "(930366, 50)"
            ]
          },
          "execution_count": 12,
          "metadata": {},
          "output_type": "execute_result"
        }
      ],
      "source": [
        "feb.shape"
      ]
    },
    {
      "cell_type": "code",
      "execution_count": null,
      "metadata": {
        "id": "4FPp33rbiyre"
      },
      "outputs": [],
      "source": [
        "data = pd.read_csv('/content/drive/MyDrive/Covid19/Covid-19-dataset/month-wise-data/july2020.csv')"
      ]
    },
    {
      "cell_type": "code",
      "execution_count": null,
      "metadata": {
        "colab": {
          "base_uri": "https://localhost:8080/"
        },
        "id": "CRQgJAKljh2Y",
        "outputId": "ee66763a-e51d-4013-bbb5-e8d0b056d5a4"
      },
      "outputs": [
        {
          "data": {
            "text/plain": [
              "(43880, 50)"
            ]
          },
          "execution_count": 55,
          "metadata": {},
          "output_type": "execute_result"
        }
      ],
      "source": [
        "data.shape"
      ]
    },
    {
      "cell_type": "code",
      "execution_count": null,
      "metadata": {
        "colab": {
          "base_uri": "https://localhost:8080/",
          "height": 36
        },
        "id": "YFcyklrbzzqJ",
        "outputId": "96857460-ea88-4180-a4a0-6bd5041ab3c5"
      },
      "outputs": [
        {
          "data": {
            "application/vnd.google.colaboratory.intrinsic+json": {
              "type": "string"
            },
            "text/plain": [
              "'Thu Apr 30 05:29:55 +0000 2020'"
            ]
          },
          "execution_count": 47,
          "metadata": {},
          "output_type": "execute_result"
        }
      ],
      "source": [
        "data['created_at'][46971]"
      ]
    },
    {
      "cell_type": "code",
      "execution_count": null,
      "metadata": {
        "id": "poCeb9hYqlqw"
      },
      "outputs": [],
      "source": [
        "data['country_code'].value_counts()"
      ]
    },
    {
      "cell_type": "code",
      "execution_count": null,
      "metadata": {
        "colab": {
          "base_uri": "https://localhost:8080/",
          "height": 565
        },
        "id": "GtN09m6Yi5eQ",
        "outputId": "212db5a1-8c7b-4568-ae07-99ce191ac742"
      },
      "outputs": [
        {
          "data": {
            "text/html": [
              "\n",
              "  <div id=\"df-c9cb6a72-2f8f-4527-839b-6ed3e6a1aeb8\">\n",
              "    <div class=\"colab-df-container\">\n",
              "      <div>\n",
              "<style scoped>\n",
              "    .dataframe tbody tr th:only-of-type {\n",
              "        vertical-align: middle;\n",
              "    }\n",
              "\n",
              "    .dataframe tbody tr th {\n",
              "        vertical-align: top;\n",
              "    }\n",
              "\n",
              "    .dataframe thead th {\n",
              "        text-align: right;\n",
              "    }\n",
              "</style>\n",
              "<table border=\"1\" class=\"dataframe\">\n",
              "  <thead>\n",
              "    <tr style=\"text-align: right;\">\n",
              "      <th></th>\n",
              "      <th>id_str</th>\n",
              "      <th>text</th>\n",
              "      <th>is_retweet</th>\n",
              "      <th>created_at</th>\n",
              "      <th>retweet_count</th>\n",
              "      <th>is_quote_status</th>\n",
              "      <th>quoted_status_id_str</th>\n",
              "      <th>quoted_status</th>\n",
              "      <th>favorite_count</th>\n",
              "      <th>media</th>\n",
              "      <th>tweet_hashtag</th>\n",
              "      <th>tweet_url</th>\n",
              "      <th>possibly_sensitive</th>\n",
              "      <th>favorited</th>\n",
              "      <th>retweeted</th>\n",
              "      <th>language</th>\n",
              "      <th>country_code</th>\n",
              "      <th>country</th>\n",
              "      <th>place_url</th>\n",
              "      <th>place_type</th>\n",
              "      <th>place_name</th>\n",
              "      <th>place_full_name</th>\n",
              "      <th>polygon_longitude_1</th>\n",
              "      <th>polygon_lattitude_1</th>\n",
              "      <th>polygon_longitude_2</th>\n",
              "      <th>polygon_lattitude_2</th>\n",
              "      <th>polygon_longitude_3</th>\n",
              "      <th>polygon_lattitude_3</th>\n",
              "      <th>polygon_longitude_4</th>\n",
              "      <th>polygon_lattitude_4</th>\n",
              "      <th>lattitude</th>\n",
              "      <th>longitude</th>\n",
              "      <th>user_id</th>\n",
              "      <th>user_name</th>\n",
              "      <th>screen_name</th>\n",
              "      <th>user_location</th>\n",
              "      <th>user_url</th>\n",
              "      <th>user_description</th>\n",
              "      <th>user_verification</th>\n",
              "      <th>user_followers</th>\n",
              "      <th>user_favorite_count(no. of tweets user liked)</th>\n",
              "      <th>user_friend_count</th>\n",
              "      <th>user_list_count</th>\n",
              "      <th>user_statuses_count</th>\n",
              "      <th>user_created_at</th>\n",
              "      <th>source</th>\n",
              "      <th>truncated</th>\n",
              "      <th>in_reply_to_status_id_str</th>\n",
              "      <th>in_reply_to_user_id_str</th>\n",
              "      <th>in_reply_to_screen_name</th>\n",
              "    </tr>\n",
              "  </thead>\n",
              "  <tbody>\n",
              "    <tr>\n",
              "      <th>0</th>\n",
              "      <td>1245200441706676225</td>\n",
              "      <td>Well. This isn’t good. https://t.co/0GdW2ExIci</td>\n",
              "      <td>False</td>\n",
              "      <td>Wed Apr 01 04:04:54 +0000 2020</td>\n",
              "      <td>11</td>\n",
              "      <td>True</td>\n",
              "      <td>1.245185e+18</td>\n",
              "      <td>{'created_at': 'Wed Apr 01 03:02:00 +0000 2020...</td>\n",
              "      <td>47</td>\n",
              "      <td>[]</td>\n",
              "      <td>[]</td>\n",
              "      <td>https://t.co/0GdW2ExIci</td>\n",
              "      <td>False</td>\n",
              "      <td>False</td>\n",
              "      <td>False</td>\n",
              "      <td>en</td>\n",
              "      <td>US</td>\n",
              "      <td>United States</td>\n",
              "      <td>https://api.twitter.com/1.1/geo/id/8173485c72e...</td>\n",
              "      <td>city</td>\n",
              "      <td>Atlanta</td>\n",
              "      <td>Atlanta, GA</td>\n",
              "      <td>-84.576827</td>\n",
              "      <td>33.647503</td>\n",
              "      <td>-84.289385</td>\n",
              "      <td>33.647503</td>\n",
              "      <td>-84.289385</td>\n",
              "      <td>33.886886</td>\n",
              "      <td>-84.576827</td>\n",
              "      <td>33.886886</td>\n",
              "      <td>NaN</td>\n",
              "      <td>NaN</td>\n",
              "      <td>('4515650200',)</td>\n",
              "      <td>('Monica Matthews On Air',)</td>\n",
              "      <td>monicaonairtalk</td>\n",
              "      <td>CCP Occupied Territory Of GA</td>\n",
              "      <td>https://t.co/RXGj9jlf7W</td>\n",
              "      <td>('Clear Talk Media Commentator- Life,Love &amp; Li...</td>\n",
              "      <td>(True,)</td>\n",
              "      <td>(106613,)</td>\n",
              "      <td>175402</td>\n",
              "      <td>6873</td>\n",
              "      <td>278</td>\n",
              "      <td>75193</td>\n",
              "      <td>Thu Dec 17 16:31:08 +0000 2015</td>\n",
              "      <td>&lt;a href=\"http://twitter.com/download/iphone\" r...</td>\n",
              "      <td>False</td>\n",
              "      <td>NaN</td>\n",
              "      <td>NaN</td>\n",
              "      <td>NaN</td>\n",
              "    </tr>\n",
              "    <tr>\n",
              "      <th>1</th>\n",
              "      <td>1245200505225318401</td>\n",
              "      <td>Drake Direct Roundtable:  Understanding and Ma...</td>\n",
              "      <td>False</td>\n",
              "      <td>Wed Apr 01 04:05:09 +0000 2020</td>\n",
              "      <td>0</td>\n",
              "      <td>False</td>\n",
              "      <td>NaN</td>\n",
              "      <td>NaN</td>\n",
              "      <td>1</td>\n",
              "      <td>[]</td>\n",
              "      <td>[]</td>\n",
              "      <td>https://t.co/7sb48dM7Tl</td>\n",
              "      <td>False</td>\n",
              "      <td>False</td>\n",
              "      <td>False</td>\n",
              "      <td>en</td>\n",
              "      <td>US</td>\n",
              "      <td>United States</td>\n",
              "      <td>https://api.twitter.com/1.1/geo/id/0570f015c26...</td>\n",
              "      <td>city</td>\n",
              "      <td>St Louis</td>\n",
              "      <td>St Louis, MO</td>\n",
              "      <td>-90.320516</td>\n",
              "      <td>38.533193</td>\n",
              "      <td>-90.175132</td>\n",
              "      <td>38.533193</td>\n",
              "      <td>-90.175132</td>\n",
              "      <td>38.774349</td>\n",
              "      <td>-90.320516</td>\n",
              "      <td>38.774349</td>\n",
              "      <td>NaN</td>\n",
              "      <td>NaN</td>\n",
              "      <td>('3594701',)</td>\n",
              "      <td>('Marc Brooks 马博江',)</td>\n",
              "      <td>IDisposable</td>\n",
              "      <td>St. Louis, MO</td>\n",
              "      <td>https://t.co/xo7Pn4OVvr</td>\n",
              "      <td>('J̶a̶c̶k̶ Marc of all trades, m̶a̶s̶t̶e̶r̶ sl...</td>\n",
              "      <td>(False,)</td>\n",
              "      <td>(1948,)</td>\n",
              "      <td>37969</td>\n",
              "      <td>2863</td>\n",
              "      <td>154</td>\n",
              "      <td>44409</td>\n",
              "      <td>Fri Apr 06 06:17:04 +0000 2007</td>\n",
              "      <td>&lt;a href=\"http://twitter.com/download/android\" ...</td>\n",
              "      <td>False</td>\n",
              "      <td>NaN</td>\n",
              "      <td>NaN</td>\n",
              "      <td>NaN</td>\n",
              "    </tr>\n",
              "    <tr>\n",
              "      <th>2</th>\n",
              "      <td>1245200491891560453</td>\n",
              "      <td>No sugar-coating: Trump changes tack on corona...</td>\n",
              "      <td>False</td>\n",
              "      <td>Wed Apr 01 04:05:06 +0000 2020</td>\n",
              "      <td>0</td>\n",
              "      <td>False</td>\n",
              "      <td>NaN</td>\n",
              "      <td>NaN</td>\n",
              "      <td>0</td>\n",
              "      <td>[]</td>\n",
              "      <td>[]</td>\n",
              "      <td>https://t.co/6CIWEwXx3z</td>\n",
              "      <td>False</td>\n",
              "      <td>False</td>\n",
              "      <td>False</td>\n",
              "      <td>en</td>\n",
              "      <td>ZA</td>\n",
              "      <td>South Africa</td>\n",
              "      <td>https://api.twitter.com/1.1/geo/id/dd9c0d7d7e0...</td>\n",
              "      <td>country</td>\n",
              "      <td>South Africa</td>\n",
              "      <td>South Africa</td>\n",
              "      <td>16.447593</td>\n",
              "      <td>-34.834247</td>\n",
              "      <td>32.892293</td>\n",
              "      <td>-34.834247</td>\n",
              "      <td>32.892293</td>\n",
              "      <td>-22.124724</td>\n",
              "      <td>16.447593</td>\n",
              "      <td>-22.124724</td>\n",
              "      <td>NaN</td>\n",
              "      <td>NaN</td>\n",
              "      <td>('938294018861133827',)</td>\n",
              "      <td>('⭐👑Dlangamandla👑⭐📸',)</td>\n",
              "      <td>Gaise_Nongedzi</td>\n",
              "      <td>🕯️  violent world 🕯️</td>\n",
              "      <td>NaN</td>\n",
              "      <td>('@KaizerChiefs fan |official Acc of Gaise Non...</td>\n",
              "      <td>(False,)</td>\n",
              "      <td>(29235,)</td>\n",
              "      <td>154929</td>\n",
              "      <td>27304</td>\n",
              "      <td>1</td>\n",
              "      <td>22021</td>\n",
              "      <td>Wed Dec 06 06:28:21 +0000 2017</td>\n",
              "      <td>&lt;a href=\"http://twitter.com/download/android\" ...</td>\n",
              "      <td>False</td>\n",
              "      <td>NaN</td>\n",
              "      <td>NaN</td>\n",
              "      <td>NaN</td>\n",
              "    </tr>\n",
              "    <tr>\n",
              "      <th>3</th>\n",
              "      <td>1245200491979644929</td>\n",
              "      <td>More studies are needed, but there might be a ...</td>\n",
              "      <td>False</td>\n",
              "      <td>Wed Apr 01 04:05:06 +0000 2020</td>\n",
              "      <td>2</td>\n",
              "      <td>False</td>\n",
              "      <td>NaN</td>\n",
              "      <td>NaN</td>\n",
              "      <td>5</td>\n",
              "      <td>[]</td>\n",
              "      <td>[]</td>\n",
              "      <td>https://t.co/Tsku2OBvZs</td>\n",
              "      <td>False</td>\n",
              "      <td>False</td>\n",
              "      <td>False</td>\n",
              "      <td>en</td>\n",
              "      <td>US</td>\n",
              "      <td>United States</td>\n",
              "      <td>https://api.twitter.com/1.1/geo/id/bced47a0c99...</td>\n",
              "      <td>city</td>\n",
              "      <td>Durham</td>\n",
              "      <td>Durham, NC</td>\n",
              "      <td>-79.007589</td>\n",
              "      <td>35.866334</td>\n",
              "      <td>-78.783292</td>\n",
              "      <td>35.866334</td>\n",
              "      <td>-78.783292</td>\n",
              "      <td>36.115631</td>\n",
              "      <td>-79.007589</td>\n",
              "      <td>36.115631</td>\n",
              "      <td>NaN</td>\n",
              "      <td>NaN</td>\n",
              "      <td>('12197032',)</td>\n",
              "      <td>('David Chang',)</td>\n",
              "      <td>DavidFChang</td>\n",
              "      <td>Durham, NC</td>\n",
              "      <td>NaN</td>\n",
              "      <td>('Guayaquileño in the research triangle.',)</td>\n",
              "      <td>(False,)</td>\n",
              "      <td>(3015,)</td>\n",
              "      <td>4826</td>\n",
              "      <td>1233</td>\n",
              "      <td>146</td>\n",
              "      <td>23171</td>\n",
              "      <td>Sun Jan 13 23:57:21 +0000 2008</td>\n",
              "      <td>&lt;a href=\"http://twitter.com/download/android\" ...</td>\n",
              "      <td>False</td>\n",
              "      <td>NaN</td>\n",
              "      <td>NaN</td>\n",
              "      <td>NaN</td>\n",
              "    </tr>\n",
              "    <tr>\n",
              "      <th>4</th>\n",
              "      <td>1245200551970844674</td>\n",
              "      <td>Because people clamor that you do it as soon p...</td>\n",
              "      <td>False</td>\n",
              "      <td>Wed Apr 01 04:05:20 +0000 2020</td>\n",
              "      <td>0</td>\n",
              "      <td>True</td>\n",
              "      <td>1.244993e+18</td>\n",
              "      <td>{'created_at': 'Tue Mar 31 14:21:16 +0000 2020...</td>\n",
              "      <td>0</td>\n",
              "      <td>[]</td>\n",
              "      <td>[]</td>\n",
              "      <td>https://t.co/X9Xf6ZNnS3</td>\n",
              "      <td>False</td>\n",
              "      <td>False</td>\n",
              "      <td>False</td>\n",
              "      <td>en</td>\n",
              "      <td>AE</td>\n",
              "      <td>United Arab Emirates</td>\n",
              "      <td>https://api.twitter.com/1.1/geo/id/00f24ae701a...</td>\n",
              "      <td>admin</td>\n",
              "      <td>Abu Dhabi</td>\n",
              "      <td>Abu Dhabi, United Arab Emirates</td>\n",
              "      <td>51.293874</td>\n",
              "      <td>22.626139</td>\n",
              "      <td>56.017546</td>\n",
              "      <td>22.626139</td>\n",
              "      <td>56.017546</td>\n",
              "      <td>25.163959</td>\n",
              "      <td>51.293874</td>\n",
              "      <td>25.163959</td>\n",
              "      <td>NaN</td>\n",
              "      <td>NaN</td>\n",
              "      <td>('1290389840',)</td>\n",
              "      <td>('Fred Tabayoyong',)</td>\n",
              "      <td>fred_youknowme</td>\n",
              "      <td>Abu Dhabi</td>\n",
              "      <td>NaN</td>\n",
              "      <td>('I can do all things through Christ who stren...</td>\n",
              "      <td>(False,)</td>\n",
              "      <td>(53,)</td>\n",
              "      <td>2815</td>\n",
              "      <td>371</td>\n",
              "      <td>3</td>\n",
              "      <td>1177</td>\n",
              "      <td>Sat Mar 23 04:24:12 +0000 2013</td>\n",
              "      <td>&lt;a href=\"http://twitter.com/download/android\" ...</td>\n",
              "      <td>False</td>\n",
              "      <td>NaN</td>\n",
              "      <td>NaN</td>\n",
              "      <td>NaN</td>\n",
              "    </tr>\n",
              "  </tbody>\n",
              "</table>\n",
              "</div>\n",
              "      <button class=\"colab-df-convert\" onclick=\"convertToInteractive('df-c9cb6a72-2f8f-4527-839b-6ed3e6a1aeb8')\"\n",
              "              title=\"Convert this dataframe to an interactive table.\"\n",
              "              style=\"display:none;\">\n",
              "        \n",
              "  <svg xmlns=\"http://www.w3.org/2000/svg\" height=\"24px\"viewBox=\"0 0 24 24\"\n",
              "       width=\"24px\">\n",
              "    <path d=\"M0 0h24v24H0V0z\" fill=\"none\"/>\n",
              "    <path d=\"M18.56 5.44l.94 2.06.94-2.06 2.06-.94-2.06-.94-.94-2.06-.94 2.06-2.06.94zm-11 1L8.5 8.5l.94-2.06 2.06-.94-2.06-.94L8.5 2.5l-.94 2.06-2.06.94zm10 10l.94 2.06.94-2.06 2.06-.94-2.06-.94-.94-2.06-.94 2.06-2.06.94z\"/><path d=\"M17.41 7.96l-1.37-1.37c-.4-.4-.92-.59-1.43-.59-.52 0-1.04.2-1.43.59L10.3 9.45l-7.72 7.72c-.78.78-.78 2.05 0 2.83L4 21.41c.39.39.9.59 1.41.59.51 0 1.02-.2 1.41-.59l7.78-7.78 2.81-2.81c.8-.78.8-2.07 0-2.86zM5.41 20L4 18.59l7.72-7.72 1.47 1.35L5.41 20z\"/>\n",
              "  </svg>\n",
              "      </button>\n",
              "      \n",
              "  <style>\n",
              "    .colab-df-container {\n",
              "      display:flex;\n",
              "      flex-wrap:wrap;\n",
              "      gap: 12px;\n",
              "    }\n",
              "\n",
              "    .colab-df-convert {\n",
              "      background-color: #E8F0FE;\n",
              "      border: none;\n",
              "      border-radius: 50%;\n",
              "      cursor: pointer;\n",
              "      display: none;\n",
              "      fill: #1967D2;\n",
              "      height: 32px;\n",
              "      padding: 0 0 0 0;\n",
              "      width: 32px;\n",
              "    }\n",
              "\n",
              "    .colab-df-convert:hover {\n",
              "      background-color: #E2EBFA;\n",
              "      box-shadow: 0px 1px 2px rgba(60, 64, 67, 0.3), 0px 1px 3px 1px rgba(60, 64, 67, 0.15);\n",
              "      fill: #174EA6;\n",
              "    }\n",
              "\n",
              "    [theme=dark] .colab-df-convert {\n",
              "      background-color: #3B4455;\n",
              "      fill: #D2E3FC;\n",
              "    }\n",
              "\n",
              "    [theme=dark] .colab-df-convert:hover {\n",
              "      background-color: #434B5C;\n",
              "      box-shadow: 0px 1px 3px 1px rgba(0, 0, 0, 0.15);\n",
              "      filter: drop-shadow(0px 1px 2px rgba(0, 0, 0, 0.3));\n",
              "      fill: #FFFFFF;\n",
              "    }\n",
              "  </style>\n",
              "\n",
              "      <script>\n",
              "        const buttonEl =\n",
              "          document.querySelector('#df-c9cb6a72-2f8f-4527-839b-6ed3e6a1aeb8 button.colab-df-convert');\n",
              "        buttonEl.style.display =\n",
              "          google.colab.kernel.accessAllowed ? 'block' : 'none';\n",
              "\n",
              "        async function convertToInteractive(key) {\n",
              "          const element = document.querySelector('#df-c9cb6a72-2f8f-4527-839b-6ed3e6a1aeb8');\n",
              "          const dataTable =\n",
              "            await google.colab.kernel.invokeFunction('convertToInteractive',\n",
              "                                                     [key], {});\n",
              "          if (!dataTable) return;\n",
              "\n",
              "          const docLinkHtml = 'Like what you see? Visit the ' +\n",
              "            '<a target=\"_blank\" href=https://colab.research.google.com/notebooks/data_table.ipynb>data table notebook</a>'\n",
              "            + ' to learn more about interactive tables.';\n",
              "          element.innerHTML = '';\n",
              "          dataTable['output_type'] = 'display_data';\n",
              "          await google.colab.output.renderOutput(dataTable, element);\n",
              "          const docLink = document.createElement('div');\n",
              "          docLink.innerHTML = docLinkHtml;\n",
              "          element.appendChild(docLink);\n",
              "        }\n",
              "      </script>\n",
              "    </div>\n",
              "  </div>\n",
              "  "
            ],
            "text/plain": [
              "                id_str  ... in_reply_to_screen_name\n",
              "0  1245200441706676225  ...                     NaN\n",
              "1  1245200505225318401  ...                     NaN\n",
              "2  1245200491891560453  ...                     NaN\n",
              "3  1245200491979644929  ...                     NaN\n",
              "4  1245200551970844674  ...                     NaN\n",
              "\n",
              "[5 rows x 50 columns]"
            ]
          },
          "execution_count": 21,
          "metadata": {},
          "output_type": "execute_result"
        }
      ],
      "source": [
        "data.head()"
      ]
    },
    {
      "cell_type": "code",
      "execution_count": null,
      "metadata": {
        "id": "gjPjXYqWpMgP"
      },
      "outputs": [],
      "source": []
    },
    {
      "cell_type": "code",
      "execution_count": null,
      "metadata": {
        "id": "AJDHk3NcoZ93"
      },
      "outputs": [],
      "source": [
        "li = []\n",
        "for i in range(1, 31):\n",
        "  if(i<10):\n",
        "    li.append(\"0\"+str(i))\n",
        "  else:\n",
        "    li.append(str(i))"
      ]
    },
    {
      "cell_type": "code",
      "execution_count": null,
      "metadata": {
        "id": "sAJl-QhWofsw"
      },
      "outputs": [],
      "source": [
        "import time"
      ]
    },
    {
      "cell_type": "code",
      "execution_count": null,
      "metadata": {
        "id": "GliD3jmfsswv"
      },
      "outputs": [],
      "source": [
        "for i in li:\n",
        "  os.chdir('/content/drive/MyDrive/Covid19/April2020/'+i+'april')\n",
        "  time.sleep(1)\n",
        "  !python /content/drive/MyDrive/Covid19/April2020/get_metadata1.py -i dataset.tsv  -o dataset_hydrated.tsv  -k /content/drive/MyDrive/Capstone/misinformation/api_keys.json -m e\n"
      ]
    },
    {
      "cell_type": "code",
      "execution_count": null,
      "metadata": {
        "id": "PxWEoTFwsunv"
      },
      "outputs": [],
      "source": [
        "for i in li:\n",
        "  os.chdir('/content/drive/MyDrive/Covid19/April2020/'+i+'april')\n",
        "  time.sleep(1)\n",
        "  !python /content/drive/MyDrive/Covid19/April2020/get_metadata1.py -i dataset_1.tsv  -o dataset_hydrated_1.tsv  -k /content/drive/MyDrive/Capstone/misinformation/api_keys.json -m e\n"
      ]
    },
    {
      "cell_type": "code",
      "execution_count": null,
      "metadata": {
        "id": "FuXuNPTntHzd"
      },
      "outputs": [],
      "source": [
        "li = []\n",
        "for i in range(1, 32):\n",
        "  if(i<10):\n",
        "    li.append(\"0\"+str(i))\n",
        "  else:\n",
        "    li.append(str(i))"
      ]
    },
    {
      "cell_type": "code",
      "execution_count": null,
      "metadata": {
        "id": "--B-7DqSnmQO"
      },
      "outputs": [],
      "source": [
        "for i in li:\n",
        "  os.chdir('/content/drive/MyDrive/Covid19/May2020/'+i+'may')\n",
        "  time.sleep(1)\n",
        "  !python /content/drive/MyDrive/Covid19/May2020/get_metadata1.py -i dataset.tsv  -o dataset_hydrated.tsv  -k /content/drive/MyDrive/Capstone/misinformation/api_keys.json -m e\n"
      ]
    },
    {
      "cell_type": "code",
      "execution_count": null,
      "metadata": {
        "id": "Z66hE7OLoeqj"
      },
      "outputs": [],
      "source": [
        "for i in li:\n",
        "  os.chdir('/content/drive/MyDrive/Covid19/May2020/'+i+'may')\n",
        "  time.sleep(1)\n",
        "  !python /content/drive/MyDrive/Covid19/May2020/get_metadata1.py -i dataset_1.tsv  -o dataset_hydrated_1.tsv  -k /content/drive/MyDrive/Capstone/misinformation/api_keys.json -m e\n"
      ]
    },
    {
      "cell_type": "code",
      "execution_count": null,
      "metadata": {
        "id": "7_mWsdlhrI1j"
      },
      "outputs": [],
      "source": []
    },
    {
      "cell_type": "code",
      "execution_count": null,
      "metadata": {
        "id": "myg3xrG2szP5"
      },
      "outputs": [],
      "source": [
        "li = []\n",
        "for i in range(1, 31):\n",
        "  if(i<10):\n",
        "    li.append(\"0\"+str(i))\n",
        "  else:\n",
        "    li.append(str(i))"
      ]
    },
    {
      "cell_type": "code",
      "execution_count": null,
      "metadata": {
        "id": "RSula6mOszP7"
      },
      "outputs": [],
      "source": [
        "for i in li:\n",
        "  os.chdir('/content/drive/MyDrive/Covid19/June2020/'+i+'june')\n",
        "  time.sleep(1)\n",
        "  !python /content/drive/MyDrive/Covid19/June2020/get_metadata1.py -i dataset.tsv  -o dataset_hydrated.tsv  -k /content/drive/MyDrive/Capstone/misinformation/api_keys.json -m e\n"
      ]
    },
    {
      "cell_type": "code",
      "execution_count": null,
      "metadata": {
        "id": "JBokaEBnszP8"
      },
      "outputs": [],
      "source": [
        "for i in li:\n",
        "  os.chdir('/content/drive/MyDrive/Covid19/June2020/'+i+'june')\n",
        "  time.sleep(1)\n",
        "  !python /content/drive/MyDrive/Covid19/June2020/get_metadata1.py -i dataset_1.tsv  -o dataset_hydrated_1.tsv  -k /content/drive/MyDrive/Capstone/misinformation/api_keys.json -m e\n"
      ]
    },
    {
      "cell_type": "code",
      "execution_count": null,
      "metadata": {
        "id": "D3sX0WhCs0Je"
      },
      "outputs": [],
      "source": [
        "li = []\n",
        "for i in range(1, 32):\n",
        "  if(i<10):\n",
        "    li.append(\"0\"+str(i))\n",
        "  else:\n",
        "    li.append(str(i))"
      ]
    },
    {
      "cell_type": "code",
      "execution_count": null,
      "metadata": {
        "id": "SxH8UoAYs0Jg"
      },
      "outputs": [],
      "source": [
        "for i in li:\n",
        "  os.chdir('/content/drive/MyDrive/Covid19/July2020/'+i+'july')\n",
        "  time.sleep(1)\n",
        "  !python /content/drive/MyDrive/Covid19/July2020/get_metadata1.py -i dataset.tsv  -o dataset_hydrated.tsv  -k /content/drive/MyDrive/Capstone/misinformation/api_keys.json -m e\n"
      ]
    },
    {
      "cell_type": "code",
      "execution_count": null,
      "metadata": {
        "id": "XQEkqXP0s0Jh"
      },
      "outputs": [],
      "source": [
        "for i in li:\n",
        "  os.chdir('/content/drive/MyDrive/Covid19/July2020/'+i+'july')\n",
        "  time.sleep(1)\n",
        "  !python /content/drive/MyDrive/Covid19/July2020/get_metadata1.py -i dataset_1.tsv  -o dataset_hydrated_1.tsv  -k /content/drive/MyDrive/Capstone/misinformation/api_keys.json -m e\n"
      ]
    },
    {
      "cell_type": "code",
      "execution_count": null,
      "metadata": {
        "id": "UUQR4koqthBo"
      },
      "outputs": [],
      "source": []
    }
  ],
  "metadata": {
    "colab": {
      "collapsed_sections": [],
      "name": "Untitled17.ipynb",
      "provenance": []
    },
    "kernelspec": {
      "display_name": "Python 3",
      "name": "python3"
    },
    "language_info": {
      "name": "python"
    }
  },
  "nbformat": 4,
  "nbformat_minor": 0
}
